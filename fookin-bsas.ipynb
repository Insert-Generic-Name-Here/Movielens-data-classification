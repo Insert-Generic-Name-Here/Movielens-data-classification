{
 "cells": [
  {
   "cell_type": "code",
   "execution_count": 22,
   "metadata": {
    "collapsed": true
   },
   "outputs": [],
   "source": [
    "from tqdm import tqdm\n",
    "from tqdm import tqdm_notebook\n",
    "import numpy as np\n",
    "import numpy.matlib\n",
    "import matplotlib.pyplot as plt\n",
    "from scipy.spatial.distance import euclidean\n",
    "from matplotlib import style;  style.use('ggplot')\n",
    "from sklearn.datasets.samples_generator import make_blobs"
   ]
  },
  {
   "cell_type": "code",
   "execution_count": 2,
   "metadata": {
    "collapsed": true
   },
   "outputs": [],
   "source": [
    "X, y = make_blobs(n_samples=100, centers=3, n_features=2)"
   ]
  },
  {
   "cell_type": "code",
   "execution_count": 3,
   "metadata": {},
   "outputs": [
    {
     "data": {
      "image/png": "[encoded data removed]",
      "text/plain": [
       "<matplotlib.figure.Figure at 0x26f22cde4e0>"
      ]
     },
     "metadata": {},
     "output_type": "display_data"
    }
   ],
   "source": [
    "plt.scatter(X[:,0], X[:,1])\n",
    "plt.show()"
   ]
  },
  {
   "cell_type": "code",
   "execution_count": 4,
   "metadata": {
    "collapsed": true
   },
   "outputs": [],
   "source": [
    "colors = 10*['g', 'c', 'b', 'k']"
   ]
  },
  {
   "cell_type": "code",
   "execution_count": 155,
   "metadata": {},
   "outputs": [],
   "source": [
    "class BSAS:\n",
    "    def __init__(self, theta=None, q=None):\n",
    "        # theta: Dissimarity Threshold\n",
    "        # q: Max #Clusters\n",
    "        self.theta = theta; self.q = q\n",
    "        self.clusters = {}; self.centroids = {}\n",
    "        \n",
    "    def __getCentroid(self, X, Y):\n",
    "        try:\n",
    "            probe = Y[1]\n",
    "            return np.divide(X, Y[0])\n",
    "        except:\n",
    "            return X\n",
    "    \n",
    "    def __findClosestCluster(self, clusters, centroids, sample):\n",
    "        centID = 0\n",
    "        cluster_population = clusters[centID].shape\n",
    "        centroid = self.__getCentroid(centroids[centID], cluster_population)\n",
    "#         try:\n",
    "#             centroid = np.divide(centroids[centID], cluster_population[1])\n",
    "#         except:\n",
    "#             centroid = centroids[centID]\n",
    "        minDist = euclidean(centroid, sample)\n",
    "        try:\n",
    "            for cntID in centroids:\n",
    "                if (cntID == 0):\n",
    "                    continue\n",
    "                cluster_population = clusters[cntID].shape\n",
    "                centroid = self.__getCentroid(centroids[cntID], cluster_population)\n",
    "#                 centroid = np.divide(centroids[cntID], cluster_population)\n",
    "                tmp = euclidean(centroid, sample)\n",
    "                if (tmp < minDist):\n",
    "                    minDist = tmp\n",
    "                    centID = cntID\n",
    "        except:\n",
    "            pass\n",
    "        return minDist, centID\n",
    "    \n",
    "    def __getEuclideanDistances(self, data, size):\n",
    "        minED = np.inf; maxED = -np.inf\n",
    "        \n",
    "        for column_i in tqdm_notebook(range(size), desc='Computing (Min/Max) Euclidean Distances...'):                \n",
    "            for column_j in range(size):\n",
    "                if (column_i == column_j):\n",
    "                    continue\n",
    "                dist = euclidean(data[:,column_i], data[:,column_j])\n",
    "                if (dist < minED):\n",
    "                    minED = dist\n",
    "                if (dist > maxED):\n",
    "                    maxED = dist\n",
    "                    \n",
    "        return minED, maxED\n",
    "    \n",
    "    def __findIndexofMax(self, dct):\n",
    "        minVal = np.inf       \n",
    "        minKey = None\n",
    "        for key in dct:\n",
    "            tmp = dct[key]\n",
    "            if (tmp < minVal):\n",
    "                minVal = tmp\n",
    "                minKey = key\n",
    "        return minKey\n",
    "    \n",
    "    def __findOptimalCluster(self, clusters):\n",
    "        min_cluster = np.inf\n",
    "        min_cluster2 = np.inf\n",
    "        for cluster in tqdm_notebook(clusters, desc='Finding Optimal Cluster...'):\n",
    "            if (cluster < min_cluster2 and cluster != min_cluster):\n",
    "                if(cluster < min_cluster):\n",
    "                    min_cluster2 = min_cluster\n",
    "                    min_cluster = cluster\n",
    "                else:\n",
    "                    min_cluster2 = cluster\n",
    "        return min_cluster2\n",
    "    \n",
    "    def __findOptimalTheta(self, opt_cluster, clusters, theta):\n",
    "        cl_start = 0; cl_fin = 0; cl_key = None\n",
    "        found = False\n",
    "        cl_ranges = {}\n",
    "        \n",
    "        for i in range(len(clusters)):\n",
    "            if (clusters[i] == opt_cluster):\n",
    "                if (not found):\n",
    "                    cl_start = i\n",
    "                    cl_fin = i\n",
    "                    found = True\n",
    "                else:\n",
    "                    cl_fin += 1\n",
    "            else:\n",
    "                if (found):\n",
    "                    tmp = [cl_start, cl_fin, (cl_fin-cl_start)]\n",
    "                    cl_ranges[i] = tmp\n",
    "        \n",
    "        for key in cl_ranges:\n",
    "            max_range = -np.inf\n",
    "            val = cl_ranges[key][2]\n",
    "            if (val > max_range):\n",
    "                max_range = val\n",
    "                cl_key = key\n",
    "        \n",
    "        opt_theta_range = cl_ranges[cl_key]\n",
    "        theta_avg = 0\n",
    "        for i in range(opt_theta_range[0], opt_theta_range[1]+1):\n",
    "            theta_avg += theta[i]\n",
    "        \n",
    "        theta_avg = theta_avg / (opt_theta_range[1] - opt_theta_range[0] + 1)\n",
    "        return theta_avg                          \n",
    "            \n",
    "        \n",
    "    def fit(self, data, order):\n",
    "        m = 1 #Clusters/Centroids\n",
    "        clusters = {}; centroids = {}\n",
    "        \n",
    "        first_sample = data[:,order[0]]\n",
    "        clusters[m-1] = first_sample; centroids[m-1] = np.add(np.zeros_like(first_sample), first_sample)\n",
    "        \n",
    "        N, l = data.shape\n",
    "        for i in range(1,l):\n",
    "            sample = data[:,order[i]]\n",
    "            dist, k = self.__findClosestCluster(clusters, centroids, sample)\n",
    "            if ((dist > self.theta) and (m < self.q)):\n",
    "                m += 1\n",
    "                clusters[m-1] = sample; centroids[m-1] = np.add(np.zeros_like(sample), sample)\n",
    "            else:\n",
    "                clusters[k] = np.vstack((clusters[k], sample))\n",
    "                centroids[k] = np.add(centroids[k], sample)\n",
    "            \n",
    "        self.clusters = clusters\n",
    "        self.centroids = centroids\n",
    "    \n",
    "    def fit_best(self, data, n_times=20, first_time=True, plot_graph=True):\n",
    "        N, l = data.shape\n",
    "        if (first_time):\n",
    "            minDist, maxDist = self.__getEuclideanDistances(data, l)\n",
    "            dists = np.save('min-max-euclidean-distances.npy', np.array([minDist, maxDist], dtype=np.float))\n",
    "        else:\n",
    "            minDist, maxDist = np.load('min-max-euclidean-distances.npy')\n",
    "\n",
    "        meanDist = (minDist + maxDist)/2\n",
    "        theta_min = 0.25 * meanDist; theta_max = 1.75 * meanDist\n",
    "        n_theta = 50\n",
    "        s = (theta_max - theta_min)/(n_theta - 1)\n",
    "        \n",
    "        total_clusters = []\n",
    "        total_theta = np.arange(theta_min, theta_max+s, s)\n",
    "        for theta in tqdm_notebook(total_theta, desc=('Running BSAS...')):\n",
    "            max_clusters = -np.inf\n",
    "            for i in np.arange(n_times):\n",
    "                clf = BSAS(theta=theta,q=l)\n",
    "                order = np.random.permutation(range(l))\n",
    "                clf.fit(data, order)\n",
    "                clusters, centroids = clf.predict()\n",
    "                clustersN = len(clusters)\n",
    "                if (clustersN > max_clusters):\n",
    "                    max_clusters = clustersN\n",
    "            total_clusters = total_clusters + [max_clusters]\n",
    "        \n",
    "        if (plot_graph==True):\n",
    "            plt.plot(total_theta, total_clusters, 'b-') \n",
    "            plt.xlabel('theta')\n",
    "            plt.ylabel('#clusters')\n",
    "            plt.title('#clusters versus theta')\n",
    "            plt.grid()\n",
    "            plt.show()\n",
    "        \n",
    "        opt_cluster = self.__findOptimalCluster(total_clusters) #print (opt_cluster)\n",
    "        opt_theta = self.__findOptimalTheta(opt_cluster, total_clusters, total_theta) #print (opt_theta)\n",
    "        \n",
    "        self.theta = opt_theta\n",
    "        self.q = opt_cluster\n",
    "        \n",
    "    def predict(self):\n",
    "        final_centroids = {}\n",
    "        for key in self.clusters:\n",
    "            final_centroids[key] = self.__getCentroid(self.centroids[key], self.clusters[key].shape)\n",
    "        return self.clusters, final_centroids\n",
    "    \n",
    "    def specs(self):\n",
    "        return self.theta, self.q"
   ]
  },
  {
   "cell_type": "code",
   "execution_count": 156,
   "metadata": {
    "collapsed": true
   },
   "outputs": [],
   "source": [
    "clf = BSAS(theta=4,q=5)\n",
    "order = np.random.permutation(range(X.shape[0]))\n",
    "clf.fit(X.T, order)"
   ]
  },
  {
   "cell_type": "code",
   "execution_count": 157,
   "metadata": {
    "collapsed": true
   },
   "outputs": [],
   "source": [
    "clusters, centroids = clf.predict()"
   ]
  },
  {
   "cell_type": "code",
   "execution_count": 158,
   "metadata": {},
   "outputs": [
    {
     "data": {
      "image/png": "[encoded data removed]",
      "text/plain": [
       "<matplotlib.figure.Figure at 0x26f28856390>"
      ]
     },
     "metadata": {},
     "output_type": "display_data"
    }
   ],
   "source": [
    "plt.scatter(X[:,0], X[:,1])\n",
    "for key in centroids:\n",
    "    centroid = centroids[key]\n",
    "    plt.scatter(centroid[0], centroid[1])\n",
    "plt.show()"
   ]
  },
  {
   "cell_type": "code",
   "execution_count": 205,
   "metadata": {},
   "outputs": [
    {
     "data": {
      "application/vnd.jupyter.widget-view+json": {
       "model_id": "8d83314c0b7b4311a3a2367547f794f0",
       "version_major": 2,
       "version_minor": 0
      },
      "text/plain": [
       "A Jupyter Widget"
      ]
     },
     "metadata": {},
     "output_type": "display_data"
    },
    {
     "name": "stdout",
     "output_type": "stream",
     "text": [
      "\n"
     ]
    },
    {
     "data": {
      "application/vnd.jupyter.widget-view+json": {
       "model_id": "4436a1559dba4d30a510d9aaa2f9dc32",
       "version_major": 2,
       "version_minor": 0
      },
      "text/plain": [
       "A Jupyter Widget"
      ]
     },
     "metadata": {},
     "output_type": "display_data"
    },
    {
     "name": "stdout",
     "output_type": "stream",
     "text": [
      "\n"
     ]
    },
    {
     "data": {
      "image/png": "[encoded data removed]",
      "text/plain": [
       "<matplotlib.figure.Figure at 0x26f277c5da0>"
      ]
     },
     "metadata": {},
     "output_type": "display_data"
    },
    {
     "data": {
      "application/vnd.jupyter.widget-view+json": {
       "model_id": "e8757f8a173d4216a64bde616e2f6aef",
       "version_major": 2,
       "version_minor": 0
      },
      "text/plain": [
       "A Jupyter Widget"
      ]
     },
     "metadata": {},
     "output_type": "display_data"
    },
    {
     "name": "stdout",
     "output_type": "stream",
     "text": [
      "\n"
     ]
    }
   ],
   "source": [
    "clf.fit_best(X.T, first_time=True, n_times=50)"
   ]
  },
  {
   "cell_type": "code",
   "execution_count": 206,
   "metadata": {},
   "outputs": [
    {
     "name": "stdout",
     "output_type": "stream",
     "text": [
      "5.65019264513 3\n"
     ]
    },
    {
     "data": {
      "image/png": "[encoded data removed]",
      "text/plain": [
       "<matplotlib.figure.Figure at 0x26f27842e48>"
      ]
     },
     "metadata": {},
     "output_type": "display_data"
    }
   ],
   "source": [
    "order = np.random.permutation(range(X.shape[0]))\n",
    "clf.fit(X.T, order)\n",
    "\n",
    "theta, q = clf.specs()\n",
    "print (theta, q)\n",
    "clusters, centroids = clf.predict()\n",
    "\n",
    "plt.scatter(X[:,0], X[:,1])\n",
    "for key in centroids:\n",
    "    centroid = centroids[key]\n",
    "    plt.scatter(centroid[0], centroid[1])\n",
    "plt.show()"
   ]
  },
  {
   "cell_type": "code",
   "execution_count": 207,
   "metadata": {},
   "outputs": [
    {
     "data": {
      "application/vnd.jupyter.widget-view+json": {
       "model_id": "b34e89cb748d464aa2dd711d1975ce42",
       "version_major": 2,
       "version_minor": 0
      },
      "text/plain": [
       "A Jupyter Widget"
      ]
     },
     "metadata": {},
     "output_type": "display_data"
    },
    {
     "name": "stdout",
     "output_type": "stream",
     "text": [
      "\n"
     ]
    },
    {
     "data": {
      "image/png": "[encoded data removed]",
      "text/plain": [
       "<matplotlib.figure.Figure at 0x26f276f6be0>"
      ]
     },
     "metadata": {},
     "output_type": "display_data"
    },
    {
     "data": {
      "application/vnd.jupyter.widget-view+json": {
       "model_id": "2d1c6dd625b6495db8d340661387a9b9",
       "version_major": 2,
       "version_minor": 0
      },
      "text/plain": [
       "A Jupyter Widget"
      ]
     },
     "metadata": {},
     "output_type": "display_data"
    },
    {
     "name": "stdout",
     "output_type": "stream",
     "text": [
      "\n"
     ]
    }
   ],
   "source": [
    "clf.fit_best(X.T, first_time=False, n_times=50)"
   ]
  },
  {
   "cell_type": "code",
   "execution_count": 225,
   "metadata": {},
   "outputs": [
    {
     "name": "stdout",
     "output_type": "stream",
     "text": [
      "5.53329210764 3\n"
     ]
    },
    {
     "data": {
      "image/png": "[encoded data removed]",
      "text/plain": [
       "<matplotlib.figure.Figure at 0x26f2777d748>"
      ]
     },
     "metadata": {},
     "output_type": "display_data"
    }
   ],
   "source": [
    "order = np.random.permutation(range(X.shape[0]))\n",
    "clf.fit(X.T, order)\n",
    "\n",
    "theta, q = clf.specs()\n",
    "print (theta, q)\n",
    "clusters, centroids = clf.predict()\n",
    "\n",
    "plt.scatter(X[:,0], X[:,1])\n",
    "for key in centroids:\n",
    "    centroid = centroids[key]\n",
    "    plt.scatter(centroid[0], centroid[1])\n",
    "plt.show()"
   ]
  }
 ],
 "metadata": {
  "kernelspec": {
   "display_name": "Python [default]",
   "language": "python",
   "name": "python3"
  },
  "language_info": {
   "codemirror_mode": {
    "name": "ipython",
    "version": 3
   },
   "file_extension": ".py",
   "mimetype": "text/x-python",
   "name": "python",
   "nbconvert_exporter": "python",
   "pygments_lexer": "ipython3",
   "version": "3.5.4"
  }
 },
 "nbformat": 4,
 "nbformat_minor": 2
}
