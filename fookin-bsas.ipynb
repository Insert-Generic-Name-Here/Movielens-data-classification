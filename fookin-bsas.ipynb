{
 "cells": [
  {
   "cell_type": "code",
   "execution_count": 1,
   "metadata": {
    "collapsed": true
   },
   "outputs": [],
   "source": [
    "import numpy as np\n",
    "import numpy.matlib\n",
    "import matplotlib.pyplot as plt\n",
    "from scipy.spatial.distance import euclidean\n",
    "from matplotlib import style;  style.use('ggplot')\n",
    "from sklearn.datasets.samples_generator import make_blobs"
   ]
  },
  {
   "cell_type": "code",
   "execution_count": 62,
   "metadata": {
    "collapsed": true
   },
   "outputs": [],
   "source": [
    "X, y = make_blobs(n_samples=20, centers=3, n_features=2)"
   ]
  },
  {
   "cell_type": "code",
   "execution_count": 63,
   "metadata": {},
   "outputs": [
    {
     "data": {
      "image/png": "[encoded data removed]",
      "text/plain": [
       "<matplotlib.figure.Figure at 0x17eb8eb0e80>"
      ]
     },
     "metadata": {},
     "output_type": "display_data"
    }
   ],
   "source": [
    "plt.scatter(X[:,0], X[:,1])\n",
    "plt.show()"
   ]
  },
  {
   "cell_type": "code",
   "execution_count": 26,
   "metadata": {
    "collapsed": true
   },
   "outputs": [],
   "source": [
    "colors = 10*['g', 'c', 'b', 'k']"
   ]
  },
  {
   "cell_type": "code",
   "execution_count": 49,
   "metadata": {
    "collapsed": true
   },
   "outputs": [],
   "source": [
    "class BSAS:\n",
    "    def __init__(self, theta=None, q=None):\n",
    "        # theta: Dissimarity Threshold\n",
    "        # q: Max #Clusters\n",
    "        self.theta = theta; self.q = q\n",
    "        self.clusters = {}; self.centroids = {}\n",
    "        \n",
    "    def __getCentroid(self, X, Y):\n",
    "        try:\n",
    "            probe = Y[1]\n",
    "            return np.divide(X, Y[0])\n",
    "        except:\n",
    "            return X\n",
    "    \n",
    "    def __findClosestCluster(self, clusters, centroids, sample):\n",
    "        centID = 0\n",
    "        cluster_population = clusters[centID].shape\n",
    "        centroid = self.__getCentroid(centroids[centID], cluster_population)\n",
    "#         try:\n",
    "#             centroid = np.divide(centroids[centID], cluster_population[1])\n",
    "#         except:\n",
    "#             centroid = centroids[centID]\n",
    "        minDist = euclidean(centroid, sample)\n",
    "        try:\n",
    "            for cntID in centroids:\n",
    "                if (cntID == 0):\n",
    "                    continue\n",
    "                cluster_population = clusters[cntID].shape\n",
    "                centroid = self.__getCentroid(centroids[cntID], cluster_population)\n",
    "#                 centroid = np.divide(centroids[cntID], cluster_population)\n",
    "                tmp = euclidean(centroid, sample)\n",
    "                if (tmp < minDist):\n",
    "                    minDist = tmp\n",
    "                    centID = cntID\n",
    "        except:\n",
    "            pass\n",
    "        return minDist, centID\n",
    "    \n",
    "    def fit(self, data, order):\n",
    "        m = 1 #Clusters/Centroids\n",
    "        clusters = {}; centroids = {}\n",
    "        \n",
    "        first_sample = data[:,order[0]]\n",
    "        clusters[m-1] = first_sample; centroids[m-1] = np.add(np.zeros_like(first_sample), first_sample)\n",
    "        \n",
    "        N, l = data.shape\n",
    "        for i in range(1,l):\n",
    "            sample = data[:,order[i]]\n",
    "            dist, k = self.__findClosestCluster(clusters, centroids, sample)\n",
    "            if ((dist > self.theta) and (m < self.q)):\n",
    "                m += 1\n",
    "                clusters[m-1] = sample; centroids[m-1] = np.add(np.zeros_like(sample), sample)\n",
    "            else:\n",
    "                clusters[k] = np.vstack((clusters[k], sample))\n",
    "                centroids[k] = np.add(centroids[k], sample)\n",
    "            \n",
    "        self.clusters = clusters\n",
    "        self.centroids = centroids\n",
    "        \n",
    "    def predict(self):\n",
    "        final_centroids = {}\n",
    "        for key in self.clusters:\n",
    "            final_centroids[key] = self.__getCentroid(self.centroids[key], self.clusters[key].shape)\n",
    "        return self.clusters, final_centroids"
   ]
  },
  {
   "cell_type": "code",
   "execution_count": 70,
   "metadata": {
    "collapsed": true
   },
   "outputs": [],
   "source": [
    "clf = BSAS(theta=7,q=5)\n",
    "order = np.random.permutation(range(X.shape[0]))\n",
    "clf.fit(X.copy().T, order)"
   ]
  },
  {
   "cell_type": "code",
   "execution_count": 71,
   "metadata": {
    "collapsed": true
   },
   "outputs": [],
   "source": [
    "clusters, centroids = clf.predict()"
   ]
  },
  {
   "cell_type": "code",
   "execution_count": 72,
   "metadata": {},
   "outputs": [
    {
     "data": {
      "image/png": "[encoded data removed]",
      "text/plain": [
       "<matplotlib.figure.Figure at 0x17eb8f34f28>"
      ]
     },
     "metadata": {},
     "output_type": "display_data"
    }
   ],
   "source": [
    "plt.scatter(X[:,0], X[:,1])\n",
    "for key in centroids:\n",
    "    centroid = centroids[key]\n",
    "    plt.scatter(centroid[0], centroid[1])\n",
    "plt.show()"
   ]
  }
 ],
 "metadata": {
  "kernelspec": {
   "display_name": "Python [default]",
   "language": "python",
   "name": "python3"
  },
  "language_info": {
   "codemirror_mode": {
    "name": "ipython",
    "version": 3
   },
   "file_extension": ".py",
   "mimetype": "text/x-python",
   "name": "python",
   "nbconvert_exporter": "python",
   "pygments_lexer": "ipython3",
   "version": "3.5.4"
  }
 },
 "nbformat": 4,
 "nbformat_minor": 2
}
