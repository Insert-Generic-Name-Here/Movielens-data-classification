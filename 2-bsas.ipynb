{
 "cells": [
  {
   "cell_type": "markdown",
   "metadata": {},
   "source": [
    "# Importing libraries...\n",
    "  * #### The Cell #1 imports the essential matplotlib modules for displaying figures outside jupyter cell \n",
    "  * #### The Cell #2 imports the essessential numpy and scipy modules for our computations as well as the tqdm module for visualizing the computation time in an organized loading bar"
   ]
  },
  {
   "cell_type": "code",
   "execution_count": 1,
   "metadata": {
    "collapsed": true
   },
   "outputs": [],
   "source": [
    "import PyQt5\n",
    "import matplotlib.pyplot as plt\n",
    "from matplotlib import style;  style.use('ggplot')\n",
    "get_ipython().magic('matplotlib qt')"
   ]
  },
  {
   "cell_type": "code",
   "execution_count": 2,
   "metadata": {
    "collapsed": true
   },
   "outputs": [],
   "source": [
    "from tqdm import tqdm\n",
    "import numpy as np\n",
    "import lib.lonely_boy2 as lb2\n",
    "from scipy.spatial.distance import euclidean"
   ]
  },
  {
   "cell_type": "markdown",
   "metadata": {},
   "source": [
    "# Importing libraries (cnt.)...\n",
    "  * #### The below Cell imports the module \"lonely_boy2\" which contains our BSAS implementation."
   ]
  },
  {
   "cell_type": "code",
   "execution_count": 3,
   "metadata": {
    "collapsed": true
   },
   "outputs": [],
   "source": [
    "import lib.lonely_boy2 as lb2"
   ]
  },
  {
   "cell_type": "markdown",
   "metadata": {},
   "source": [
    "# Loading the Dataset..."
   ]
  },
  {
   "cell_type": "code",
   "execution_count": 4,
   "metadata": {
    "collapsed": true
   },
   "outputs": [],
   "source": [
    "X = np.load('comp-data/1-preprocessing-comp-data/user-feature-set.npy')"
   ]
  },
  {
   "cell_type": "markdown",
   "metadata": {},
   "source": [
    "# Initializing and Running BSAS...\n",
    "  * #### Part 1: Determining the optimal Theta and optimal max. Cluster Number"
   ]
  },
  {
   "cell_type": "code",
   "execution_count": 10,
   "metadata": {
    "scrolled": true
   },
   "outputs": [
    {
     "name": "stderr",
     "output_type": "stream",
     "text": [
      "Computing (Min/Max) Euclidean Distances...: 100%|████████████████████████████████████| 943/943 [00:15<00:00, 62.58it/s]\n",
      "Running BSAS...: 100%|█████████████████████████████████████████████████████████████████| 50/50 [07:05<00:00,  8.52s/it]\n",
      "Finding Optimal Cluster...: 100%|██████████████████████████████████████████████████| 50/50 [00:00<00:00, 104805.20it/s]\n"
     ]
    }
   ],
   "source": [
    "clf = lb2.BSAS()\n",
    "clf.fit_best(X.T, first_time=True, n_times=50, plot_graph=True)"
   ]
  },
  {
   "cell_type": "markdown",
   "metadata": {},
   "source": [
    "# Initializing and Running BSAS...\n",
    "  * #### Part 1: Determining the Optimal Theta and Max. Cluster Number \n",
    "  \n",
    "  (this one is just a shortcut which accelerates computation time if all prerequisite calcualtions are done beforehand"
   ]
  },
  {
   "cell_type": "code",
   "execution_count": 5,
   "metadata": {},
   "outputs": [
    {
     "name": "stderr",
     "output_type": "stream",
     "text": [
      "Finding Optimal Cluster...: 100%|██████████████████████████████████████████████████████████████| 50/50 [00:00<?, ?it/s]\n"
     ]
    }
   ],
   "source": [
    "clf = lb2.BSAS()\n",
    "clf.fit_best(X.T, first_time=False, n_times=50, plot_graph=True)"
   ]
  },
  {
   "cell_type": "markdown",
   "metadata": {},
   "source": [
    "  * #### Part 2: Plotting Cluster Number vs. Theta...\n",
    "\n",
    "From the below screenshot it is visible that we'll use 2 clusters to represent our users, since the number 2 has the \"longest step\"."
   ]
  },
  {
   "cell_type": "markdown",
   "metadata": {},
   "source": [
    "![bsas-clusters-vs-theta][fig-0]\n",
    "\n",
    "[fig-0]: figures/bsas-number-of-clusters-vs-theta.png \"#clusters versus Theta\""
   ]
  },
  {
   "cell_type": "markdown",
   "metadata": {},
   "source": [
    "  * #### Part 3: Fetching the Optimal Theta and Max. Cluster Number..."
   ]
  },
  {
   "cell_type": "code",
   "execution_count": 6,
   "metadata": {},
   "outputs": [
    {
     "data": {
      "text/plain": [
       "(2.3789189240986599, 2)"
      ]
     },
     "execution_count": 6,
     "metadata": {},
     "output_type": "execute_result"
    }
   ],
   "source": [
    "theta_, q_ = clf.specs()\n",
    "theta_, q_"
   ]
  },
  {
   "cell_type": "markdown",
   "metadata": {},
   "source": [
    "# Running BSAS with the Optimal Settings..."
   ]
  },
  {
   "cell_type": "code",
   "execution_count": 7,
   "metadata": {
    "collapsed": true
   },
   "outputs": [],
   "source": [
    "order = np.random.permutation(range(X.shape[0]))\n",
    "clf.fit(X.T, order)"
   ]
  },
  {
   "cell_type": "markdown",
   "metadata": {},
   "source": [
    "# Fetching the Clusters and their respective Representatives (average)..."
   ]
  },
  {
   "cell_type": "code",
   "execution_count": 8,
   "metadata": {},
   "outputs": [
    {
     "data": {
      "text/plain": [
       "({0: array([[ 0.        ,  0.0078125 ,  0.03030303, ...,  0.06034483,\n",
       "           0.1       ,  0.0625    ],\n",
       "         [ 0.        ,  0.0625    ,  0.03030303, ...,  0.09482759,\n",
       "           0.1       ,  0.        ],\n",
       "         [ 0.        ,  0.03125   ,  0.01515152, ...,  0.05172414,\n",
       "           0.075     ,  0.        ],\n",
       "         ..., \n",
       "         [ 0.        ,  0.1171875 ,  0.09090909, ...,  0.12068966,\n",
       "           0.075     ,  0.        ],\n",
       "         [ 0.        ,  0.03125   ,  0.01515152, ...,  0.03448276,\n",
       "           0.075     ,  0.0625    ],\n",
       "         [ 0.        ,  0.0625    ,  0.04545455, ...,  0.04310345,\n",
       "           0.125     ,  0.125     ]]),\n",
       "  1: array([[ 0.        ,  1.        ,  0.96969697, ...,  1.        ,\n",
       "           0.675     ,  0.625     ],\n",
       "         [ 0.        ,  0.6953125 ,  0.72727273, ...,  0.62931034,\n",
       "           0.575     ,  0.3125    ],\n",
       "         [ 0.        ,  0.5078125 ,  0.6969697 , ...,  0.43965517,\n",
       "           0.775     ,  0.4375    ],\n",
       "         ..., \n",
       "         [ 0.        ,  0.2578125 ,  0.34848485, ...,  0.35344828,\n",
       "           0.775     ,  0.5625    ],\n",
       "         [ 0.        ,  0.3984375 ,  0.5       , ...,  0.22413793,\n",
       "           0.5       ,  0.375     ],\n",
       "         [ 0.        ,  0.2734375 ,  0.25757576, ...,  0.1637931 ,\n",
       "           0.375     ,  0.1875    ]])},\n",
       " {0: array([ 0.00506971,  0.1177618 ,  0.11950301,  0.07336995,  0.06113223,\n",
       "          0.09276292,  0.10723985,  0.02527399,  0.07890922,  0.05726466,\n",
       "          0.07782003,  0.07436714,  0.08614416,  0.1523553 ,  0.11092743,\n",
       "          0.11730525,  0.11971723,  0.15846008,  0.05885615]),\n",
       "  1: array([ 0.02597403,  0.45124797,  0.49360488,  0.35666186,  0.29794372,\n",
       "          0.38438656,  0.3522396 ,  0.11535523,  0.2762987 ,  0.30873672,\n",
       "          0.29004329,  0.32098982,  0.41642229,  0.42721861,  0.36346697,\n",
       "          0.44665335,  0.39498433,  0.53051948,  0.34943182])})"
      ]
     },
     "execution_count": 8,
     "metadata": {},
     "output_type": "execute_result"
    }
   ],
   "source": [
    "clusters, centroids = clf.predict()\n",
    "clusters, centroids"
   ]
  },
  {
   "cell_type": "markdown",
   "metadata": {},
   "source": [
    "# ~ END OF CHAPTER 2 - SEQUENTIAL CLUSTERING ~"
   ]
  }
 ],
 "metadata": {
  "kernelspec": {
   "display_name": "Python [default]",
   "language": "python",
   "name": "python3"
  },
  "language_info": {
   "codemirror_mode": {
    "name": "ipython",
    "version": 3
   },
   "file_extension": ".py",
   "mimetype": "text/x-python",
   "name": "python",
   "nbconvert_exporter": "python",
   "pygments_lexer": "ipython3",
   "version": "3.5.4"
  }
 },
 "nbformat": 4,
 "nbformat_minor": 2
}
