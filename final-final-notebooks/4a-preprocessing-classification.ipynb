{
 "cells": [
  {
   "cell_type": "code",
   "execution_count": 1,
   "metadata": {
    "collapsed": true
   },
   "outputs": [],
   "source": [
    "import numpy as np\n",
    "import pandas as pd\n",
    "from sklearn import preprocessing\n",
    "from tqdm import tqdm,tqdm_notebook"
   ]
  },
  {
   "cell_type": "markdown",
   "metadata": {},
   "source": [
    "## Initialize Relation Attributes"
   ]
  },
  {
   "cell_type": "code",
   "execution_count": 2,
   "metadata": {
    "collapsed": true
   },
   "outputs": [],
   "source": [
    "usr_ratings_cols = 'user id | item id | rating | timestamp'.split(' | ')\n",
    "movie_info_cols = '''movie id | movie title | release date | video release date | IMDb URL | unknown | Action | Adventure | Animation | Children's | Comedy | Crime | Documentary | Drama | Fantasy | Film-Noir | Horror | Musical | Mystery | Romance | Sci-Fi | Thriller | War | Western'''.split(' | ')\n",
    "usr_info_cols = 'user id | age | gender | occupation | zip code'.split(' | ')"
   ]
  },
  {
   "cell_type": "markdown",
   "metadata": {},
   "source": [
    "## Initialize Relation URL's"
   ]
  },
  {
   "cell_type": "code",
   "execution_count": 3,
   "metadata": {
    "collapsed": true
   },
   "outputs": [],
   "source": [
    "usr_ratings_url = 'http://files.grouplens.org/datasets/movielens/ml-100k/u.data'\n",
    "movie_info_url  = 'http://files.grouplens.org/datasets/movielens/ml-100k/u.item'\n",
    "usr_info_url    = 'http://files.grouplens.org/datasets/movielens/ml-100k/u.user'\n",
    "genre_info_url  = 'http://files.grouplens.org/datasets/movielens/ml-100k/u.genre'\n",
    "ocp_info_url    = 'http://files.grouplens.org/datasets/movielens/ml-100k/u.occupation'"
   ]
  },
  {
   "cell_type": "markdown",
   "metadata": {},
   "source": [
    "## Read CSV's"
   ]
  },
  {
   "cell_type": "code",
   "execution_count": 4,
   "metadata": {
    "collapsed": true
   },
   "outputs": [],
   "source": [
    "ratings = pd.read_csv(usr_ratings_url, delimiter='\\t', header=None, names=usr_ratings_cols, encoding='latin-1')\n",
    "\n",
    "movies = pd.read_csv(movie_info_url, delimiter='|', header=None, names=movie_info_cols, encoding='latin-1')\n",
    "\n",
    "users = pd.read_csv(usr_info_url, delimiter='|', header=None, names=usr_info_cols, encoding='latin-1')\n",
    "\n",
    "genres = pd.read_csv(genre_info_url, delimiter='|', header=None, names=['genre_id', 'genre_code'], encoding='latin-1')\n",
    "genres = genres[['genre_id']]\n",
    "\n",
    "ocps = pd.read_csv(ocp_info_url, delimiter='|', header=None, names=['ocp_id'], encoding='latin-1')\n",
    "ocps = ocps[['ocp_id']]"
   ]
  },
  {
   "cell_type": "code",
   "execution_count": 5,
   "metadata": {
    "collapsed": true
   },
   "outputs": [
    {
     "data": {
      "text/html": [
       "<div>\n",
       "<style>\n",
       "    .dataframe thead tr:only-child th {\n",
       "        text-align: right;\n",
       "    }\n",
       "\n",
       "    .dataframe thead th {\n",
       "        text-align: left;\n",
       "    }\n",
       "\n",
       "    .dataframe tbody tr th {\n",
       "        vertical-align: top;\n",
       "    }\n",
       "</style>\n",
       "<table border=\"1\" class=\"dataframe\">\n",
       "  <thead>\n",
       "    <tr style=\"text-align: right;\">\n",
       "      <th></th>\n",
       "      <th>movie id</th>\n",
       "      <th>movie title</th>\n",
       "      <th>release date</th>\n",
       "      <th>video release date</th>\n",
       "      <th>IMDb URL</th>\n",
       "      <th>unknown</th>\n",
       "      <th>Action</th>\n",
       "      <th>Adventure</th>\n",
       "      <th>Animation</th>\n",
       "      <th>Children's</th>\n",
       "      <th>...</th>\n",
       "      <th>Fantasy</th>\n",
       "      <th>Film-Noir</th>\n",
       "      <th>Horror</th>\n",
       "      <th>Musical</th>\n",
       "      <th>Mystery</th>\n",
       "      <th>Romance</th>\n",
       "      <th>Sci-Fi</th>\n",
       "      <th>Thriller</th>\n",
       "      <th>War</th>\n",
       "      <th>Western</th>\n",
       "    </tr>\n",
       "  </thead>\n",
       "  <tbody>\n",
       "    <tr>\n",
       "      <th>0</th>\n",
       "      <td>1</td>\n",
       "      <td>Toy Story (1995)</td>\n",
       "      <td>01-Jan-1995</td>\n",
       "      <td>NaN</td>\n",
       "      <td>http://us.imdb.com/M/title-exact?Toy%20Story%2...</td>\n",
       "      <td>0</td>\n",
       "      <td>0</td>\n",
       "      <td>0</td>\n",
       "      <td>1</td>\n",
       "      <td>1</td>\n",
       "      <td>...</td>\n",
       "      <td>0</td>\n",
       "      <td>0</td>\n",
       "      <td>0</td>\n",
       "      <td>0</td>\n",
       "      <td>0</td>\n",
       "      <td>0</td>\n",
       "      <td>0</td>\n",
       "      <td>0</td>\n",
       "      <td>0</td>\n",
       "      <td>0</td>\n",
       "    </tr>\n",
       "    <tr>\n",
       "      <th>1</th>\n",
       "      <td>2</td>\n",
       "      <td>GoldenEye (1995)</td>\n",
       "      <td>01-Jan-1995</td>\n",
       "      <td>NaN</td>\n",
       "      <td>http://us.imdb.com/M/title-exact?GoldenEye%20(...</td>\n",
       "      <td>0</td>\n",
       "      <td>1</td>\n",
       "      <td>1</td>\n",
       "      <td>0</td>\n",
       "      <td>0</td>\n",
       "      <td>...</td>\n",
       "      <td>0</td>\n",
       "      <td>0</td>\n",
       "      <td>0</td>\n",
       "      <td>0</td>\n",
       "      <td>0</td>\n",
       "      <td>0</td>\n",
       "      <td>0</td>\n",
       "      <td>1</td>\n",
       "      <td>0</td>\n",
       "      <td>0</td>\n",
       "    </tr>\n",
       "    <tr>\n",
       "      <th>2</th>\n",
       "      <td>3</td>\n",
       "      <td>Four Rooms (1995)</td>\n",
       "      <td>01-Jan-1995</td>\n",
       "      <td>NaN</td>\n",
       "      <td>http://us.imdb.com/M/title-exact?Four%20Rooms%...</td>\n",
       "      <td>0</td>\n",
       "      <td>0</td>\n",
       "      <td>0</td>\n",
       "      <td>0</td>\n",
       "      <td>0</td>\n",
       "      <td>...</td>\n",
       "      <td>0</td>\n",
       "      <td>0</td>\n",
       "      <td>0</td>\n",
       "      <td>0</td>\n",
       "      <td>0</td>\n",
       "      <td>0</td>\n",
       "      <td>0</td>\n",
       "      <td>1</td>\n",
       "      <td>0</td>\n",
       "      <td>0</td>\n",
       "    </tr>\n",
       "  </tbody>\n",
       "</table>\n",
       "<p>3 rows × 24 columns</p>\n",
       "</div>"
      ],
      "text/plain": [
       "   movie id        movie title release date  video release date  \\\n",
       "0         1   Toy Story (1995)  01-Jan-1995                 NaN   \n",
       "1         2   GoldenEye (1995)  01-Jan-1995                 NaN   \n",
       "2         3  Four Rooms (1995)  01-Jan-1995                 NaN   \n",
       "\n",
       "                                            IMDb URL  unknown  Action  \\\n",
       "0  http://us.imdb.com/M/title-exact?Toy%20Story%2...        0       0   \n",
       "1  http://us.imdb.com/M/title-exact?GoldenEye%20(...        0       1   \n",
       "2  http://us.imdb.com/M/title-exact?Four%20Rooms%...        0       0   \n",
       "\n",
       "   Adventure  Animation  Children's   ...     Fantasy  Film-Noir  Horror  \\\n",
       "0          0          1           1   ...           0          0       0   \n",
       "1          1          0           0   ...           0          0       0   \n",
       "2          0          0           0   ...           0          0       0   \n",
       "\n",
       "   Musical  Mystery  Romance  Sci-Fi  Thriller  War  Western  \n",
       "0        0        0        0       0         0    0        0  \n",
       "1        0        0        0       0         1    0        0  \n",
       "2        0        0        0       0         1    0        0  \n",
       "\n",
       "[3 rows x 24 columns]"
      ]
     },
     "execution_count": 5,
     "metadata": {},
     "output_type": "execute_result"
    }
   ],
   "source": [
    "movies.head(3)"
   ]
  },
  {
   "cell_type": "markdown",
   "metadata": {},
   "source": [
    "### Data Preprocessing Part 1: Movies\n",
    "  * Drop the video-release-date feature\n",
    "  * from the release-date feature keep only the year of release; discard the day and month  "
   ]
  },
  {
   "cell_type": "code",
   "execution_count": 6,
   "metadata": {
    "collapsed": true
   },
   "outputs": [],
   "source": [
    "movies = movies.drop(['video release date', 'IMDb URL', 'movie title'], axis=1)"
   ]
  },
  {
   "cell_type": "code",
   "execution_count": 7,
   "metadata": {
    "collapsed": true
   },
   "outputs": [],
   "source": [
    "from datetime import datetime\n",
    "years = []\n",
    "movies = movies.dropna()\n",
    "\n",
    "for ind, x in enumerate(movies['release date']):\n",
    "    my_dt_ob = datetime.strptime(x,'%d-%b-%Y')\n",
    "    date_list=list(my_dt_ob.timetuple())\n",
    "    years.append(date_list[0])\n",
    "\n",
    "yse = pd.Series(years)\n",
    "movies['release-year'] = yse.values"
   ]
  },
  {
   "cell_type": "code",
   "execution_count": 8,
   "metadata": {
    "collapsed": true
   },
   "outputs": [],
   "source": [
    "movies = movies.drop(['release date'], axis=1)"
   ]
  },
  {
   "cell_type": "markdown",
   "metadata": {},
   "source": [
    "### Data Preprocessing Part 2: Categorical Data Processing\n",
    "  * Gender: **1** for **female**; **0** for **male**"
   ]
  },
  {
   "cell_type": "code",
   "execution_count": 9,
   "metadata": {
    "collapsed": true
   },
   "outputs": [],
   "source": [
    "bingend = list(map(lambda x:0 if (x=='M') else 1,users['gender'].values))\n",
    "col = pd.Series(bingend)\n",
    "users['gender'] = col.values"
   ]
  },
  {
   "cell_type": "markdown",
   "metadata": {},
   "source": [
    "  * Occupation: Increasing index for each occupation starting from 0; then normalize the codes"
   ]
  },
  {
   "cell_type": "code",
   "execution_count": 10,
   "metadata": {
    "collapsed": true
   },
   "outputs": [],
   "source": [
    "ocp_enc = pd.factorize(users['occupation'], sort=False, order=None, na_sentinel=-1, size_hint=None)"
   ]
  },
  {
   "cell_type": "code",
   "execution_count": 11,
   "metadata": {
    "collapsed": true
   },
   "outputs": [
    {
     "data": {
      "text/plain": [
       "(array([ 0,  1,  2,  0,  1,  3,  4,  4,  5,  6,  1,  1,  7,  8,  7,  9, 10,\n",
       "         1, 11, 12,  2,  2, 13, 13, 14, 14, 11,  2, 10,  5, 13,  5,  5,  4,\n",
       "        12,  5,  5,  1,  9,  8, 14,  4, 11,  0, 10, 15, 15,  4,  5,  2,  7,\n",
       "         5, 10,  3, 10, 11, 16, 10,  7, 17, 14,  4, 15,  7,  7,  5,  5,  5,\n",
       "        14, 14,  8,  4,  5,  8,  9,  5,  0,  4,  4,  4,  5, 10,  1,  3,  7,\n",
       "         4,  4, 11,  4,  7, 15,  9,  3,  5,  4, 13, 13,  3,  5,  3,  5, 10,\n",
       "         5,  5, 14, 18,  8,  7,  1,  5, 14, 19,  3, 10, 14, 17,  5,  4, 10,\n",
       "         1, 11,  2, 13,  5,  6,  6, 16, 15, 15, 16,  4,  1, 14, 10,  5,  1,\n",
       "         7, 20,  5,  5, 10,  1,  0, 10,  9, 13, 11, 14, 15, 13,  4,  7,  5,\n",
       "         5,  1,  7, 14,  7,  5, 10,  6, 13,  4, 17,  1,  7,  1,  1,  1, 17,\n",
       "         7, 15,  1,  4,  8,  8, 10,  1,  9,  4,  3, 10,  8, 11, 11,  3,  7,\n",
       "         5, 13,  4,  4,  7,  5,  4,  8,  2,  0,  5,  2, 10,  2,  7,  5, 11,\n",
       "         6,  5, 15, 14,  7, 14, 19,  7,  3, 11, 10, 14,  1,  4, 10, 11,  5,\n",
       "        10,  5,  7,  4,  5,  3,  5, 11,  5, 11,  8, 14, 18,  7,  2,  4,  4,\n",
       "        13,  7,  5,  7,  7,  0,  5,  5, 14,  5,  5,  3, 20, 14, 11,  7,  9,\n",
       "        16,  5,  5,  5, 13,  4,  5, 10,  2,  3,  4, 14, 14, 11,  5, 14,  8,\n",
       "         1,  5, 14,  5,  4, 11, 10, 11,  5,  4, 10,  3, 10,  5, 19, 15, 16,\n",
       "        14,  5, 10,  2,  0,  7,  4,  7,  3, 20, 10,  5,  7,  5,  5, 10,  1,\n",
       "         5, 18,  8,  7,  0,  1, 15,  5,  7,  1,  4, 18, 10,  5,  7,  5,  5,\n",
       "         5,  0,  4,  5,  4,  7,  7,  9,  5,  1, 11,  3, 19,  8, 11,  6, 14,\n",
       "         5,  1, 14, 11, 11,  1,  5,  5, 18,  5,  7, 10,  8, 11,  5, 12,  3,\n",
       "         7,  5,  1,  5, 12,  5, 14,  6,  5,  5,  5,  5,  2, 14,  5,  1,  3,\n",
       "         9,  1,  5,  5, 10, 14, 13, 14,  4, 10,  2, 19,  9,  1,  2,  2,  5,\n",
       "         2,  5,  4,  1, 14,  5,  1,  1,  4, 17, 14,  1, 10, 17,  7, 14,  5,\n",
       "         4, 13,  7,  7,  7, 10,  7,  5,  1, 16,  6,  7, 10,  9,  1, 15,  5,\n",
       "         7, 20,  5,  5,  8, 15,  9, 13,  5, 14,  4,  1,  4,  4,  1,  0,  5,\n",
       "        19,  6,  2,  7,  4,  9, 11,  7,  5,  4,  5,  1,  4,  0, 19,  0,  5,\n",
       "         1,  5,  5, 17,  2,  1,  5, 14, 14,  7, 10,  5,  5,  5,  3, 10,  5,\n",
       "         5,  1,  7, 18, 18,  5,  8,  5,  7,  7, 14,  0,  1, 13,  2,  7, 14,\n",
       "         4, 14,  5,  5,  2, 10,  4,  5,  5,  2,  2,  1, 10,  2, 15,  4,  1,\n",
       "         5,  1,  4, 10, 15, 11,  5,  2,  1, 17,  5, 14,  4,  7,  4, 15, 11,\n",
       "         5,  4, 14, 19,  5, 11,  5,  7, 14, 14,  8,  4, 14,  5,  5,  8,  1,\n",
       "         0,  3,  7,  2,  8,  5, 10,  1,  7,  8,  7,  7,  2,  2,  3,  5, 14,\n",
       "         4, 11, 18,  5,  5,  9,  7,  7,  7, 13,  7, 18,  7, 15,  3,  5,  4,\n",
       "         7,  5,  1,  5, 14,  5, 11,  5,  1,  5,  6,  7, 11,  5,  7,  7, 10,\n",
       "        13,  1, 15,  5, 10, 13,  1, 10,  7, 14, 10, 17,  1,  5,  5, 11,  7,\n",
       "        15,  7,  7,  8,  2,  5,  5,  2,  5, 10,  7,  5, 10,  8, 14, 16,  1,\n",
       "        17,  5,  5, 10, 14,  1,  7,  1, 14, 11,  5,  5,  5,  8, 18, 10,  5,\n",
       "         7, 14,  5, 14, 18,  1,  3,  5, 17,  7, 16, 10,  7,  5, 10, 11,  1,\n",
       "        14,  4,  4, 11,  2,  1,  0, 10,  4,  7,  5,  1, 10,  1,  7,  5,  6,\n",
       "        15, 10, 11,  5, 11,  7, 17,  4,  1, 19,  7, 14, 17, 10,  2,  1,  1,\n",
       "        10,  1,  5, 11,  1,  7, 11,  5,  5, 11, 12,  1,  5,  5,  5,  1, 14,\n",
       "         0,  4,  0,  0,  1,  4,  9, 12,  3,  3,  5,  4,  5,  3,  5,  8,  7,\n",
       "         1,  1,  1, 17,  2, 10,  0,  0,  7,  2,  5, 10, 15,  2, 14,  1,  4,\n",
       "         1,  4,  1, 18, 19, 11,  7, 16,  5,  5,  5,  1,  5,  4,  8,  7,  5,\n",
       "         1, 14,  4,  3,  5,  5,  2,  5,  5,  3, 11, 10,  5,  5, 10,  5, 13,\n",
       "        15,  4, 14, 14,  5,  4,  1,  0,  7, 10,  5,  7, 10,  2,  1,  2,  4,\n",
       "        10,  2,  4,  4,  7,  1, 15, 17, 19, 15,  1,  7,  0,  5,  1,  1,  1,\n",
       "         5, 11,  4,  5, 14, 11, 13,  1, 14, 13, 14, 11,  2, 10,  1,  0,  2,\n",
       "         1,  3, 13, 13,  5,  9, 13, 20,  2, 11, 14, 20,  6,  5, 14,  5,  0,\n",
       "         1,  4,  2,  5, 11, 15,  4,  7,  1, 18,  5,  3,  5, 10, 13,  1,  8,\n",
       "        10,  5,  5,  3,  5,  4,  8,  5,  1,  1,  7,  4,  5, 15, 14, 11, 14,\n",
       "         1,  5,  5,  8,  0,  5,  4,  1,  5,  7, 11,  2,  1, 12,  1, 18,  3,\n",
       "        13,  7,  5,  1, 11,  1, 11,  7, 17,  2,  1,  5,  1,  9, 14,  5,  8,\n",
       "         1, 13,  5,  4,  5,  1, 19,  9, 10,  5,  8,  8,  7,  7,  5, 14, 20,\n",
       "         1,  7,  0,  5,  4,  5, 11,  5], dtype=int64),\n",
       " Index(['technician', 'other', 'writer', 'executive', 'administrator',\n",
       "        'student', 'lawyer', 'educator', 'scientist', 'entertainment',\n",
       "        'programmer', 'librarian', 'homemaker', 'artist', 'engineer',\n",
       "        'marketing', 'none', 'healthcare', 'retired', 'salesman', 'doctor'],\n",
       "       dtype='object'))"
      ]
     },
     "execution_count": 11,
     "metadata": {},
     "output_type": "execute_result"
    }
   ],
   "source": [
    "users['ocupation'] = list(ocp_enc[0])\n",
    "ocp_enc"
   ]
  },
  {
   "cell_type": "code",
   "execution_count": 12,
   "metadata": {
    "collapsed": true
   },
   "outputs": [],
   "source": [
    "users = users.drop(['occupation'], axis = 1)"
   ]
  },
  {
   "cell_type": "code",
   "execution_count": 13,
   "metadata": {
    "collapsed": true
   },
   "outputs": [
    {
     "data": {
      "text/html": [
       "<div>\n",
       "<style>\n",
       "    .dataframe thead tr:only-child th {\n",
       "        text-align: right;\n",
       "    }\n",
       "\n",
       "    .dataframe thead th {\n",
       "        text-align: left;\n",
       "    }\n",
       "\n",
       "    .dataframe tbody tr th {\n",
       "        vertical-align: top;\n",
       "    }\n",
       "</style>\n",
       "<table border=\"1\" class=\"dataframe\">\n",
       "  <thead>\n",
       "    <tr style=\"text-align: right;\">\n",
       "      <th></th>\n",
       "      <th>user id</th>\n",
       "      <th>age</th>\n",
       "      <th>gender</th>\n",
       "      <th>zip code</th>\n",
       "      <th>ocupation</th>\n",
       "    </tr>\n",
       "  </thead>\n",
       "  <tbody>\n",
       "    <tr>\n",
       "      <th>0</th>\n",
       "      <td>1</td>\n",
       "      <td>24</td>\n",
       "      <td>0</td>\n",
       "      <td>85711</td>\n",
       "      <td>0</td>\n",
       "    </tr>\n",
       "    <tr>\n",
       "      <th>1</th>\n",
       "      <td>2</td>\n",
       "      <td>53</td>\n",
       "      <td>1</td>\n",
       "      <td>94043</td>\n",
       "      <td>1</td>\n",
       "    </tr>\n",
       "    <tr>\n",
       "      <th>2</th>\n",
       "      <td>3</td>\n",
       "      <td>23</td>\n",
       "      <td>0</td>\n",
       "      <td>32067</td>\n",
       "      <td>2</td>\n",
       "    </tr>\n",
       "  </tbody>\n",
       "</table>\n",
       "</div>"
      ],
      "text/plain": [
       "   user id  age  gender zip code  ocupation\n",
       "0        1   24       0    85711          0\n",
       "1        2   53       1    94043          1\n",
       "2        3   23       0    32067          2"
      ]
     },
     "execution_count": 13,
     "metadata": {},
     "output_type": "execute_result"
    }
   ],
   "source": [
    "users.head(3)"
   ]
  },
  {
   "cell_type": "markdown",
   "metadata": {},
   "source": [
    "  * Age: Group each age in groups of 10 (index begins from 0)"
   ]
  },
  {
   "cell_type": "code",
   "execution_count": 14,
   "metadata": {
    "collapsed": true
   },
   "outputs": [],
   "source": [
    "agelist = []\n",
    "for val in users.age:\n",
    "    agelist.append(val // 10)\n",
    "col = pd.Series(agelist)\n",
    "users['age'] = col.values"
   ]
  },
  {
   "cell_type": "code",
   "execution_count": 15,
   "metadata": {
    "collapsed": true
   },
   "outputs": [
    {
     "data": {
      "text/html": [
       "<div>\n",
       "<style>\n",
       "    .dataframe thead tr:only-child th {\n",
       "        text-align: right;\n",
       "    }\n",
       "\n",
       "    .dataframe thead th {\n",
       "        text-align: left;\n",
       "    }\n",
       "\n",
       "    .dataframe tbody tr th {\n",
       "        vertical-align: top;\n",
       "    }\n",
       "</style>\n",
       "<table border=\"1\" class=\"dataframe\">\n",
       "  <thead>\n",
       "    <tr style=\"text-align: right;\">\n",
       "      <th></th>\n",
       "      <th>user id</th>\n",
       "      <th>age</th>\n",
       "      <th>gender</th>\n",
       "      <th>zip code</th>\n",
       "      <th>ocupation</th>\n",
       "    </tr>\n",
       "  </thead>\n",
       "  <tbody>\n",
       "    <tr>\n",
       "      <th>0</th>\n",
       "      <td>1</td>\n",
       "      <td>2</td>\n",
       "      <td>0</td>\n",
       "      <td>85711</td>\n",
       "      <td>0</td>\n",
       "    </tr>\n",
       "    <tr>\n",
       "      <th>1</th>\n",
       "      <td>2</td>\n",
       "      <td>5</td>\n",
       "      <td>1</td>\n",
       "      <td>94043</td>\n",
       "      <td>1</td>\n",
       "    </tr>\n",
       "    <tr>\n",
       "      <th>2</th>\n",
       "      <td>3</td>\n",
       "      <td>2</td>\n",
       "      <td>0</td>\n",
       "      <td>32067</td>\n",
       "      <td>2</td>\n",
       "    </tr>\n",
       "    <tr>\n",
       "      <th>3</th>\n",
       "      <td>4</td>\n",
       "      <td>2</td>\n",
       "      <td>0</td>\n",
       "      <td>43537</td>\n",
       "      <td>0</td>\n",
       "    </tr>\n",
       "    <tr>\n",
       "      <th>4</th>\n",
       "      <td>5</td>\n",
       "      <td>3</td>\n",
       "      <td>1</td>\n",
       "      <td>15213</td>\n",
       "      <td>1</td>\n",
       "    </tr>\n",
       "    <tr>\n",
       "      <th>5</th>\n",
       "      <td>6</td>\n",
       "      <td>4</td>\n",
       "      <td>0</td>\n",
       "      <td>98101</td>\n",
       "      <td>3</td>\n",
       "    </tr>\n",
       "    <tr>\n",
       "      <th>6</th>\n",
       "      <td>7</td>\n",
       "      <td>5</td>\n",
       "      <td>0</td>\n",
       "      <td>91344</td>\n",
       "      <td>4</td>\n",
       "    </tr>\n",
       "    <tr>\n",
       "      <th>7</th>\n",
       "      <td>8</td>\n",
       "      <td>3</td>\n",
       "      <td>0</td>\n",
       "      <td>05201</td>\n",
       "      <td>4</td>\n",
       "    </tr>\n",
       "    <tr>\n",
       "      <th>8</th>\n",
       "      <td>9</td>\n",
       "      <td>2</td>\n",
       "      <td>0</td>\n",
       "      <td>01002</td>\n",
       "      <td>5</td>\n",
       "    </tr>\n",
       "    <tr>\n",
       "      <th>9</th>\n",
       "      <td>10</td>\n",
       "      <td>5</td>\n",
       "      <td>0</td>\n",
       "      <td>90703</td>\n",
       "      <td>6</td>\n",
       "    </tr>\n",
       "  </tbody>\n",
       "</table>\n",
       "</div>"
      ],
      "text/plain": [
       "   user id  age  gender zip code  ocupation\n",
       "0        1    2       0    85711          0\n",
       "1        2    5       1    94043          1\n",
       "2        3    2       0    32067          2\n",
       "3        4    2       0    43537          0\n",
       "4        5    3       1    15213          1\n",
       "5        6    4       0    98101          3\n",
       "6        7    5       0    91344          4\n",
       "7        8    3       0    05201          4\n",
       "8        9    2       0    01002          5\n",
       "9       10    5       0    90703          6"
      ]
     },
     "execution_count": 15,
     "metadata": {},
     "output_type": "execute_result"
    }
   ],
   "source": [
    "users.head(10)"
   ]
  },
  {
   "cell_type": "code",
   "execution_count": 16,
   "metadata": {
    "collapsed": true
   },
   "outputs": [
    {
     "data": {
      "text/html": [
       "<div>\n",
       "<style>\n",
       "    .dataframe thead tr:only-child th {\n",
       "        text-align: right;\n",
       "    }\n",
       "\n",
       "    .dataframe thead th {\n",
       "        text-align: left;\n",
       "    }\n",
       "\n",
       "    .dataframe tbody tr th {\n",
       "        vertical-align: top;\n",
       "    }\n",
       "</style>\n",
       "<table border=\"1\" class=\"dataframe\">\n",
       "  <thead>\n",
       "    <tr style=\"text-align: right;\">\n",
       "      <th></th>\n",
       "      <th>movie id</th>\n",
       "      <th>unknown</th>\n",
       "      <th>Action</th>\n",
       "      <th>Adventure</th>\n",
       "      <th>Animation</th>\n",
       "      <th>Children's</th>\n",
       "      <th>Comedy</th>\n",
       "      <th>Crime</th>\n",
       "      <th>Documentary</th>\n",
       "      <th>Drama</th>\n",
       "      <th>...</th>\n",
       "      <th>Film-Noir</th>\n",
       "      <th>Horror</th>\n",
       "      <th>Musical</th>\n",
       "      <th>Mystery</th>\n",
       "      <th>Romance</th>\n",
       "      <th>Sci-Fi</th>\n",
       "      <th>Thriller</th>\n",
       "      <th>War</th>\n",
       "      <th>Western</th>\n",
       "      <th>release-year</th>\n",
       "    </tr>\n",
       "  </thead>\n",
       "  <tbody>\n",
       "    <tr>\n",
       "      <th>0</th>\n",
       "      <td>1</td>\n",
       "      <td>0</td>\n",
       "      <td>0</td>\n",
       "      <td>0</td>\n",
       "      <td>1</td>\n",
       "      <td>1</td>\n",
       "      <td>1</td>\n",
       "      <td>0</td>\n",
       "      <td>0</td>\n",
       "      <td>0</td>\n",
       "      <td>...</td>\n",
       "      <td>0</td>\n",
       "      <td>0</td>\n",
       "      <td>0</td>\n",
       "      <td>0</td>\n",
       "      <td>0</td>\n",
       "      <td>0</td>\n",
       "      <td>0</td>\n",
       "      <td>0</td>\n",
       "      <td>0</td>\n",
       "      <td>1995</td>\n",
       "    </tr>\n",
       "    <tr>\n",
       "      <th>1</th>\n",
       "      <td>2</td>\n",
       "      <td>0</td>\n",
       "      <td>1</td>\n",
       "      <td>1</td>\n",
       "      <td>0</td>\n",
       "      <td>0</td>\n",
       "      <td>0</td>\n",
       "      <td>0</td>\n",
       "      <td>0</td>\n",
       "      <td>0</td>\n",
       "      <td>...</td>\n",
       "      <td>0</td>\n",
       "      <td>0</td>\n",
       "      <td>0</td>\n",
       "      <td>0</td>\n",
       "      <td>0</td>\n",
       "      <td>0</td>\n",
       "      <td>1</td>\n",
       "      <td>0</td>\n",
       "      <td>0</td>\n",
       "      <td>1995</td>\n",
       "    </tr>\n",
       "    <tr>\n",
       "      <th>2</th>\n",
       "      <td>3</td>\n",
       "      <td>0</td>\n",
       "      <td>0</td>\n",
       "      <td>0</td>\n",
       "      <td>0</td>\n",
       "      <td>0</td>\n",
       "      <td>0</td>\n",
       "      <td>0</td>\n",
       "      <td>0</td>\n",
       "      <td>0</td>\n",
       "      <td>...</td>\n",
       "      <td>0</td>\n",
       "      <td>0</td>\n",
       "      <td>0</td>\n",
       "      <td>0</td>\n",
       "      <td>0</td>\n",
       "      <td>0</td>\n",
       "      <td>1</td>\n",
       "      <td>0</td>\n",
       "      <td>0</td>\n",
       "      <td>1995</td>\n",
       "    </tr>\n",
       "    <tr>\n",
       "      <th>3</th>\n",
       "      <td>4</td>\n",
       "      <td>0</td>\n",
       "      <td>1</td>\n",
       "      <td>0</td>\n",
       "      <td>0</td>\n",
       "      <td>0</td>\n",
       "      <td>1</td>\n",
       "      <td>0</td>\n",
       "      <td>0</td>\n",
       "      <td>1</td>\n",
       "      <td>...</td>\n",
       "      <td>0</td>\n",
       "      <td>0</td>\n",
       "      <td>0</td>\n",
       "      <td>0</td>\n",
       "      <td>0</td>\n",
       "      <td>0</td>\n",
       "      <td>0</td>\n",
       "      <td>0</td>\n",
       "      <td>0</td>\n",
       "      <td>1995</td>\n",
       "    </tr>\n",
       "    <tr>\n",
       "      <th>4</th>\n",
       "      <td>5</td>\n",
       "      <td>0</td>\n",
       "      <td>0</td>\n",
       "      <td>0</td>\n",
       "      <td>0</td>\n",
       "      <td>0</td>\n",
       "      <td>0</td>\n",
       "      <td>1</td>\n",
       "      <td>0</td>\n",
       "      <td>1</td>\n",
       "      <td>...</td>\n",
       "      <td>0</td>\n",
       "      <td>0</td>\n",
       "      <td>0</td>\n",
       "      <td>0</td>\n",
       "      <td>0</td>\n",
       "      <td>0</td>\n",
       "      <td>1</td>\n",
       "      <td>0</td>\n",
       "      <td>0</td>\n",
       "      <td>1995</td>\n",
       "    </tr>\n",
       "    <tr>\n",
       "      <th>5</th>\n",
       "      <td>6</td>\n",
       "      <td>0</td>\n",
       "      <td>0</td>\n",
       "      <td>0</td>\n",
       "      <td>0</td>\n",
       "      <td>0</td>\n",
       "      <td>0</td>\n",
       "      <td>0</td>\n",
       "      <td>0</td>\n",
       "      <td>1</td>\n",
       "      <td>...</td>\n",
       "      <td>0</td>\n",
       "      <td>0</td>\n",
       "      <td>0</td>\n",
       "      <td>0</td>\n",
       "      <td>0</td>\n",
       "      <td>0</td>\n",
       "      <td>0</td>\n",
       "      <td>0</td>\n",
       "      <td>0</td>\n",
       "      <td>1995</td>\n",
       "    </tr>\n",
       "    <tr>\n",
       "      <th>6</th>\n",
       "      <td>7</td>\n",
       "      <td>0</td>\n",
       "      <td>0</td>\n",
       "      <td>0</td>\n",
       "      <td>0</td>\n",
       "      <td>0</td>\n",
       "      <td>0</td>\n",
       "      <td>0</td>\n",
       "      <td>0</td>\n",
       "      <td>1</td>\n",
       "      <td>...</td>\n",
       "      <td>0</td>\n",
       "      <td>0</td>\n",
       "      <td>0</td>\n",
       "      <td>0</td>\n",
       "      <td>0</td>\n",
       "      <td>1</td>\n",
       "      <td>0</td>\n",
       "      <td>0</td>\n",
       "      <td>0</td>\n",
       "      <td>1995</td>\n",
       "    </tr>\n",
       "    <tr>\n",
       "      <th>7</th>\n",
       "      <td>8</td>\n",
       "      <td>0</td>\n",
       "      <td>0</td>\n",
       "      <td>0</td>\n",
       "      <td>0</td>\n",
       "      <td>1</td>\n",
       "      <td>1</td>\n",
       "      <td>0</td>\n",
       "      <td>0</td>\n",
       "      <td>1</td>\n",
       "      <td>...</td>\n",
       "      <td>0</td>\n",
       "      <td>0</td>\n",
       "      <td>0</td>\n",
       "      <td>0</td>\n",
       "      <td>0</td>\n",
       "      <td>0</td>\n",
       "      <td>0</td>\n",
       "      <td>0</td>\n",
       "      <td>0</td>\n",
       "      <td>1995</td>\n",
       "    </tr>\n",
       "    <tr>\n",
       "      <th>8</th>\n",
       "      <td>9</td>\n",
       "      <td>0</td>\n",
       "      <td>0</td>\n",
       "      <td>0</td>\n",
       "      <td>0</td>\n",
       "      <td>0</td>\n",
       "      <td>0</td>\n",
       "      <td>0</td>\n",
       "      <td>0</td>\n",
       "      <td>1</td>\n",
       "      <td>...</td>\n",
       "      <td>0</td>\n",
       "      <td>0</td>\n",
       "      <td>0</td>\n",
       "      <td>0</td>\n",
       "      <td>0</td>\n",
       "      <td>0</td>\n",
       "      <td>0</td>\n",
       "      <td>0</td>\n",
       "      <td>0</td>\n",
       "      <td>1995</td>\n",
       "    </tr>\n",
       "    <tr>\n",
       "      <th>9</th>\n",
       "      <td>10</td>\n",
       "      <td>0</td>\n",
       "      <td>0</td>\n",
       "      <td>0</td>\n",
       "      <td>0</td>\n",
       "      <td>0</td>\n",
       "      <td>0</td>\n",
       "      <td>0</td>\n",
       "      <td>0</td>\n",
       "      <td>1</td>\n",
       "      <td>...</td>\n",
       "      <td>0</td>\n",
       "      <td>0</td>\n",
       "      <td>0</td>\n",
       "      <td>0</td>\n",
       "      <td>0</td>\n",
       "      <td>0</td>\n",
       "      <td>0</td>\n",
       "      <td>1</td>\n",
       "      <td>0</td>\n",
       "      <td>1996</td>\n",
       "    </tr>\n",
       "  </tbody>\n",
       "</table>\n",
       "<p>10 rows × 21 columns</p>\n",
       "</div>"
      ],
      "text/plain": [
       "   movie id  unknown  Action  Adventure  Animation  Children's  Comedy  Crime  \\\n",
       "0         1        0       0          0          1           1       1      0   \n",
       "1         2        0       1          1          0           0       0      0   \n",
       "2         3        0       0          0          0           0       0      0   \n",
       "3         4        0       1          0          0           0       1      0   \n",
       "4         5        0       0          0          0           0       0      1   \n",
       "5         6        0       0          0          0           0       0      0   \n",
       "6         7        0       0          0          0           0       0      0   \n",
       "7         8        0       0          0          0           1       1      0   \n",
       "8         9        0       0          0          0           0       0      0   \n",
       "9        10        0       0          0          0           0       0      0   \n",
       "\n",
       "   Documentary  Drama      ...       Film-Noir  Horror  Musical  Mystery  \\\n",
       "0            0      0      ...               0       0        0        0   \n",
       "1            0      0      ...               0       0        0        0   \n",
       "2            0      0      ...               0       0        0        0   \n",
       "3            0      1      ...               0       0        0        0   \n",
       "4            0      1      ...               0       0        0        0   \n",
       "5            0      1      ...               0       0        0        0   \n",
       "6            0      1      ...               0       0        0        0   \n",
       "7            0      1      ...               0       0        0        0   \n",
       "8            0      1      ...               0       0        0        0   \n",
       "9            0      1      ...               0       0        0        0   \n",
       "\n",
       "   Romance  Sci-Fi  Thriller  War  Western  release-year  \n",
       "0        0       0         0    0        0          1995  \n",
       "1        0       0         1    0        0          1995  \n",
       "2        0       0         1    0        0          1995  \n",
       "3        0       0         0    0        0          1995  \n",
       "4        0       0         1    0        0          1995  \n",
       "5        0       0         0    0        0          1995  \n",
       "6        0       1         0    0        0          1995  \n",
       "7        0       0         0    0        0          1995  \n",
       "8        0       0         0    0        0          1995  \n",
       "9        0       0         0    1        0          1996  \n",
       "\n",
       "[10 rows x 21 columns]"
      ]
     },
     "execution_count": 16,
     "metadata": {},
     "output_type": "execute_result"
    }
   ],
   "source": [
    "movies.head(10)"
   ]
  },
  {
   "cell_type": "markdown",
   "metadata": {},
   "source": [
    "  * Drop the timestamp (date and time the user made his rating) column"
   ]
  },
  {
   "cell_type": "code",
   "execution_count": 17,
   "metadata": {
    "collapsed": true
   },
   "outputs": [],
   "source": [
    "ratings = ratings.drop(['timestamp'], axis=1)"
   ]
  },
  {
   "cell_type": "markdown",
   "metadata": {},
   "source": [
    "  * Rating: Convert to target with the following approach:\n",
    "\n",
    "* People who rated a movie with **2 or less** stars **did not like that movie and there's a big chance that they're not going to see that movie again**"
   ]
  },
  {
   "cell_type": "code",
   "execution_count": 21,
   "metadata": {
    "collapsed": true
   },
   "outputs": [],
   "source": [
    "tmp = ratings.copy()\n",
    "tmp['rating'] = tmp['rating'].map(lambda x: int(x >= 3))\n",
    "tmp.rename(columns={'rating': 'target'}, inplace=True)"
   ]
  },
  {
   "cell_type": "code",
   "execution_count": 22,
   "metadata": {
    "collapsed": true
   },
   "outputs": [],
   "source": [
    "ratings3 = tmp.copy() "
   ]
  },
  {
   "cell_type": "code",
   "execution_count": 23,
   "metadata": {},
   "outputs": [
    {
     "data": {
      "text/html": [
       "<div>\n",
       "<style>\n",
       "    .dataframe thead tr:only-child th {\n",
       "        text-align: right;\n",
       "    }\n",
       "\n",
       "    .dataframe thead th {\n",
       "        text-align: left;\n",
       "    }\n",
       "\n",
       "    .dataframe tbody tr th {\n",
       "        vertical-align: top;\n",
       "    }\n",
       "</style>\n",
       "<table border=\"1\" class=\"dataframe\">\n",
       "  <thead>\n",
       "    <tr style=\"text-align: right;\">\n",
       "      <th></th>\n",
       "      <th>user id</th>\n",
       "      <th>item id</th>\n",
       "      <th>target</th>\n",
       "    </tr>\n",
       "  </thead>\n",
       "  <tbody>\n",
       "    <tr>\n",
       "      <th>0</th>\n",
       "      <td>196</td>\n",
       "      <td>242</td>\n",
       "      <td>1</td>\n",
       "    </tr>\n",
       "    <tr>\n",
       "      <th>1</th>\n",
       "      <td>186</td>\n",
       "      <td>302</td>\n",
       "      <td>1</td>\n",
       "    </tr>\n",
       "    <tr>\n",
       "      <th>2</th>\n",
       "      <td>22</td>\n",
       "      <td>377</td>\n",
       "      <td>0</td>\n",
       "    </tr>\n",
       "  </tbody>\n",
       "</table>\n",
       "</div>"
      ],
      "text/plain": [
       "   user id  item id  target\n",
       "0      196      242       1\n",
       "1      186      302       1\n",
       "2       22      377       0"
      ]
     },
     "execution_count": 23,
     "metadata": {},
     "output_type": "execute_result"
    }
   ],
   "source": [
    "ratings3.head(3)"
   ]
  },
  {
   "cell_type": "markdown",
   "metadata": {},
   "source": [
    "## Checkpoint..."
   ]
  },
  {
   "cell_type": "code",
   "execution_count": 24,
   "metadata": {
    "collapsed": true
   },
   "outputs": [],
   "source": [
    "movies.to_csv('comp-data/4a-training-dataset-creation/movies.csv', index=False)\n",
    "users.to_csv('comp-data/4a-training-dataset-creation/users.csv', index=False)\n",
    "ratings3.to_csv('comp-data/4a-training-dataset-creation/ratings3.csv', index=False)"
   ]
  },
  {
   "cell_type": "markdown",
   "metadata": {},
   "source": [
    "## Creating the Dataset that will Train the LS and MLP Classifier..."
   ]
  },
  {
   "cell_type": "code",
   "execution_count": 25,
   "metadata": {
    "collapsed": true
   },
   "outputs": [],
   "source": [
    "df3 = ((users.merge(ratings3, how='inner', on='user id'))\\\n",
    ".merge(movies, how='inner', left_on='item id', right_on='movie id'))\\\n",
    ".drop(['item id', 'movie id', 'user id'], axis=1)"
   ]
  },
  {
   "cell_type": "markdown",
   "metadata": {},
   "source": [
    "## Saving the Dataset for future use..."
   ]
  },
  {
   "cell_type": "code",
   "execution_count": 26,
   "metadata": {
    "collapsed": true
   },
   "outputs": [],
   "source": [
    "df3.to_csv('comp-data/4a-training-dataset-creation/train.csv', index=False)"
   ]
  }
 ],
 "metadata": {
  "kernelspec": {
   "display_name": "Python [default]",
   "language": "python",
   "name": "python3"
  },
  "language_info": {
   "codemirror_mode": {
    "name": "ipython",
    "version": 3
   },
   "file_extension": ".py",
   "mimetype": "text/x-python",
   "name": "python",
   "nbconvert_exporter": "python",
   "pygments_lexer": "ipython3",
   "version": "3.5.4"
  }
 },
 "nbformat": 4,
 "nbformat_minor": 2
}
