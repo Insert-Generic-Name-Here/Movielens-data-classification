{
 "cells": [
  {
   "cell_type": "markdown",
   "metadata": {},
   "source": [
    "# Importing libraries...\n",
    "  * #### The Cell #1 imports the essential matplotlib modules for displaying figures outside jupyter cell \n",
    "  * #### The Cell #2 imports the essessential numpy and sklearn modules for our computations as well as the tqdm module for visualizing the computation time in an organized loading bar"
   ]
  },
  {
   "cell_type": "code",
   "execution_count": 2,
   "metadata": {
    "collapsed": true
   },
   "outputs": [],
   "source": [
    "import PyQt5\n",
    "import matplotlib.pyplot as plt\n",
    "from matplotlib import style;  style.use('ggplot')\n",
    "get_ipython().magic('matplotlib qt')"
   ]
  },
  {
   "cell_type": "code",
   "execution_count": 3,
   "metadata": {
    "collapsed": true
   },
   "outputs": [],
   "source": [
    "from tqdm import tqdm\n",
    "from tqdm import tqdm_notebook\n",
    "import numpy as np\n",
    "from sklearn.cluster import KMeans"
   ]
  },
  {
   "cell_type": "markdown",
   "metadata": {},
   "source": [
    "# Loading the Samples...\n",
    "  * The X_stdscl contains the samples normalized with mean = 0 and std = 1"
   ]
  },
  {
   "cell_type": "code",
   "execution_count": null,
   "metadata": {
    "collapsed": true,
    "scrolled": true
   },
   "outputs": [],
   "source": [
    "X = np.load('comp-data/1-preprocessing-comp-data/user-feature-set-stdscl.npy')"
   ]
  },
  {
   "cell_type": "markdown",
   "metadata": {},
   "source": [
    "# Initializing the K-Means Algorithm for K=4...\n",
    "# ...and execute it for our dataset..."
   ]
  },
  {
   "cell_type": "code",
   "execution_count": 5,
   "metadata": {},
   "outputs": [
    {
     "data": {
      "text/plain": [
       "KMeans(algorithm='auto', copy_x=True, init='k-means++', max_iter=300,\n",
       "    n_clusters=4, n_init=20, n_jobs=-1, precompute_distances=True,\n",
       "    random_state=0, tol=0.0001, verbose=2)"
      ]
     },
     "execution_count": 5,
     "metadata": {},
     "output_type": "execute_result"
    }
   ],
   "source": [
    "kmeans = KMeans(n_clusters=4, n_init=20, n_jobs=-1, precompute_distances=True, random_state=0, verbose=2)\n",
    "kmeans.fit(X)"
   ]
  },
  {
   "cell_type": "markdown",
   "metadata": {},
   "source": [
    "# Getting the Cluster Code (Label) for each Feature Vector..."
   ]
  },
  {
   "cell_type": "code",
   "execution_count": 6,
   "metadata": {},
   "outputs": [
    {
     "data": {
      "text/plain": [
       "array([1, 3, 3, 3, 1, 3, 3, 3, 3, 1, 3, 3, 1, 0, 3, 3, 1, 0, 3, 0, 3, 3, 0,\n",
       "       3, 0, 2, 3, 1, 3, 1, 1, 1, 3, 1, 3, 3, 1, 3, 2, 3, 3, 3, 0, 3, 1, 3,\n",
       "       3, 3, 1, 3, 0, 3, 0, 0, 3, 1, 1, 1, 3, 3, 0, 0, 3, 0, 3, 3, 3, 3, 3,\n",
       "       0, 3, 0, 0, 0, 3, 3, 3, 3, 0, 3, 3, 3, 3, 0, 3, 1, 1, 1, 0, 3, 1, 3,\n",
       "       0, 0, 3, 1, 0, 3, 1, 0, 3, 3, 3, 3, 3, 1, 3, 3, 0, 0, 1, 0, 3, 2, 3,\n",
       "       0, 1, 3, 1, 2, 0, 1, 3, 3, 0, 3, 0, 3, 3, 1, 0, 0, 3, 0, 1, 3, 3, 3,\n",
       "       0, 1, 3, 0, 3, 0, 0, 3, 1, 2, 0, 0, 3, 2, 1, 0, 0, 3, 1, 2, 3, 3, 3,\n",
       "       3, 0, 1, 1, 3, 3, 0, 0, 3, 3, 3, 3, 3, 0, 3, 2, 0, 0, 3, 3, 2, 3, 1,\n",
       "       2, 0, 3, 0, 3, 1, 3, 3, 2, 0, 2, 0, 1, 0, 0, 0, 3, 3, 1, 0, 3, 1, 0,\n",
       "       3, 1, 3, 0, 1, 2, 3, 0, 3, 0, 3, 0, 3, 3, 3, 0, 3, 3, 0, 1, 3, 0, 0,\n",
       "       1, 0, 3, 0, 1, 3, 0, 0, 1, 1, 1, 1, 3, 1, 3, 0, 2, 0, 2, 3, 3, 1, 3,\n",
       "       0, 3, 3, 0, 1, 1, 0, 0, 0, 3, 3, 3, 3, 0, 0, 0, 0, 2, 3, 3, 0, 3, 0,\n",
       "       3, 3, 3, 1, 0, 2, 3, 3, 3, 1, 0, 0, 1, 3, 1, 2, 2, 0, 0, 0, 0, 0, 1,\n",
       "       1, 1, 3, 1, 3, 1, 3, 0, 0, 0, 1, 0, 3, 3, 3, 3, 0, 0, 0, 0, 3, 3, 2,\n",
       "       0, 1, 0, 0, 0, 3, 1, 3, 0, 3, 3, 0, 1, 1, 1, 1, 2, 2, 1, 1, 1, 1, 3,\n",
       "       2, 1, 2, 3, 0, 1, 3, 3, 3, 3, 2, 1, 2, 2, 1, 2, 2, 1, 1, 1, 1, 1, 1,\n",
       "       1, 0, 1, 0, 1, 2, 2, 2, 3, 3, 0, 2, 1, 3, 2, 3, 3, 1, 0, 0, 3, 0, 1,\n",
       "       1, 3, 2, 3, 3, 3, 2, 0, 3, 2, 3, 2, 1, 3, 1, 0, 0, 1, 2, 1, 0, 1, 3,\n",
       "       2, 3, 1, 3, 0, 3, 0, 3, 2, 2, 2, 3, 3, 1, 3, 0, 2, 1, 1, 1, 3, 1, 3,\n",
       "       1, 3, 1, 2, 2, 1, 2, 1, 3, 3, 1, 1, 3, 2, 1, 1, 0, 3, 1, 1, 3, 3, 1,\n",
       "       3, 1, 3, 3, 2, 0, 2, 2, 2, 1, 1, 3, 3, 1, 1, 3, 1, 1, 1, 1, 3, 2, 1,\n",
       "       2, 1, 1, 2, 3, 1, 1, 1, 2, 2, 1, 3, 3, 0, 0, 3, 1, 1, 1, 1, 2, 2, 0,\n",
       "       1, 3, 1, 1, 1, 1, 2, 2, 1, 2, 1, 1, 1, 1, 2, 3, 1, 1, 1, 0, 3, 0, 0,\n",
       "       2, 2, 2, 1, 2, 2, 0, 2, 2, 2, 2, 3, 2, 3, 1, 3, 1, 2, 1, 1, 1, 1, 1,\n",
       "       3, 1, 1, 2, 1, 2, 2, 2, 2, 2, 2, 1, 2, 1, 1, 1, 2, 1, 2, 0, 1, 2, 3,\n",
       "       1, 1, 2, 1, 1, 1, 2, 2, 1, 1, 1, 1, 2, 1, 1, 1, 2, 1, 1, 3, 3, 1, 1,\n",
       "       1, 0, 1, 3, 1, 0, 3, 3, 1, 1, 1, 1, 1, 1, 1, 1, 3, 1, 1, 3, 3, 3, 3,\n",
       "       1, 1, 3, 3, 3, 3, 3, 3, 3, 3, 3, 3, 1, 3, 3, 3, 3, 3, 2, 3, 1, 1, 2,\n",
       "       2, 2, 1, 0, 3, 1, 2, 2, 2, 1, 2, 3, 2, 1, 1, 2, 2, 0, 2, 3, 1, 2, 1,\n",
       "       2, 1, 1, 2, 1, 1, 1, 0, 3, 1, 2, 3, 2, 1, 3, 3, 3, 2, 0, 2, 1, 2, 2,\n",
       "       1, 2, 2, 2, 1, 1, 0, 1, 2, 1, 1, 1, 1, 2, 1, 2, 3, 1, 2, 1, 0, 2, 2,\n",
       "       2, 2, 2, 2, 2, 1, 2, 2, 2, 3, 1, 3, 2, 3, 1, 1, 2, 1, 2, 2, 2, 2, 2,\n",
       "       2, 2, 1, 3, 3, 3, 3, 0, 2, 2, 0, 0, 2, 3, 1, 1, 0, 1, 3, 2, 2, 2, 2,\n",
       "       3, 3, 2, 2, 2, 1, 2, 1, 3, 3, 1, 0, 2, 1, 3, 1, 3, 1, 1, 3, 1, 1, 3,\n",
       "       2, 3, 1, 2, 1, 1, 1, 1, 3, 3, 0, 2, 0, 3, 3, 3, 3, 2, 3, 2, 2, 3, 2,\n",
       "       0, 3, 0, 0, 1, 2, 1, 0, 2, 2, 0, 2, 3, 2, 2, 3, 3, 1, 2, 2, 1, 3, 3,\n",
       "       3, 3, 1, 3, 0, 1, 3, 3, 1, 3, 2, 1, 1, 1, 3, 3, 2, 1, 2, 3, 3, 1, 0,\n",
       "       0, 2, 0, 0, 0, 0, 3, 3, 3, 1, 1, 3, 0, 0, 3, 0, 0, 3, 1, 1, 1, 3, 3,\n",
       "       0, 1, 0, 0, 0, 0, 0, 3, 3, 1, 0, 1, 3, 3, 0, 0, 3, 0, 3, 0, 0, 0, 0,\n",
       "       0, 0, 0, 1, 3, 0, 0, 0, 0, 0, 0, 3, 0, 3, 3, 3, 0, 0, 0, 0, 0, 0, 0,\n",
       "       0, 0, 0, 3, 1, 3, 1, 0, 3, 0, 2, 3, 0, 3, 3, 3, 0, 3, 0, 2, 0, 0, 0])"
      ]
     },
     "execution_count": 6,
     "metadata": {},
     "output_type": "execute_result"
    }
   ],
   "source": [
    "kmeans.labels_"
   ]
  },
  {
   "cell_type": "markdown",
   "metadata": {},
   "source": [
    "# Getting the Respective Centroids for each Cluster"
   ]
  },
  {
   "cell_type": "code",
   "execution_count": 7,
   "metadata": {},
   "outputs": [
    {
     "data": {
      "text/plain": [
       "array([[-0.86432429,  1.19991591, -0.21874187, -0.76211576, -0.57706016,\n",
       "         0.49854451,  0.0423322 , -0.82484961,  2.19607661, -0.82741813,\n",
       "        -0.65631607, -0.12919186, -0.65842855,  0.07344882,  0.43614696,\n",
       "        -0.0037768 ,  2.0195296 , -0.12602182, -0.81774968],\n",
       "       [-0.93411764,  1.04924976,  0.23737518, -0.49874138, -0.17114797,\n",
       "         2.03775258, -0.38123293, -0.88373289,  2.13710662, -0.80731026,\n",
       "        -0.81997875, -0.60731698, -0.4579261 , -0.56979288,  0.86364787,\n",
       "         0.11775772,  0.62816251, -0.14439142, -0.79536303],\n",
       "       [-0.94842784,  2.29813388,  0.86281063, -0.60774087, -0.35385386,\n",
       "         0.97604715, -0.37200921, -0.92958374,  1.26075402, -0.8392205 ,\n",
       "        -0.86900804, -0.56674507, -0.61372165, -0.64727786,  0.41635962,\n",
       "         0.71113597,  1.05759161, -0.0274806 , -0.80776362],\n",
       "       [-0.75948808,  0.3252799 , -0.17242954, -0.61323067, -0.47932683,\n",
       "         0.97662914, -0.06829911, -0.67160306,  3.35212171, -0.71841522,\n",
       "        -0.56422058, -0.56996448, -0.4826329 , -0.2555168 ,  0.88752332,\n",
       "        -0.13438962,  0.54443191,  0.06122305, -0.65769216]])"
      ]
     },
     "execution_count": 7,
     "metadata": {},
     "output_type": "execute_result"
    }
   ],
   "source": [
    "kmeans.cluster_centers_"
   ]
  },
  {
   "cell_type": "markdown",
   "metadata": {},
   "source": [
    "# Getting the -Minimum- K-Means Cost Function Value"
   ]
  },
  {
   "cell_type": "code",
   "execution_count": 8,
   "metadata": {},
   "outputs": [
    {
     "data": {
      "text/plain": [
       "2655.1722832400069"
      ]
     },
     "execution_count": 8,
     "metadata": {},
     "output_type": "execute_result"
    }
   ],
   "source": [
    "kmeans.inertia_"
   ]
  },
  {
   "cell_type": "markdown",
   "metadata": {},
   "source": [
    "# Saving the Computed Results..."
   ]
  },
  {
   "cell_type": "code",
   "execution_count": 9,
   "metadata": {
    "collapsed": true
   },
   "outputs": [],
   "source": [
    "np.save('comp-data/3a-k-means-comp-data/clusters.npy', kmeans.labels_)\n",
    "np.save('comp-data/3a-k-means-comp-data/cluster_centers_.npy', kmeans.cluster_centers_)"
   ]
  },
  {
   "cell_type": "markdown",
   "metadata": {},
   "source": [
    "# ~ END OF CHAPTER 3 - STRICT CLUSTERING  ~"
   ]
  }
 ],
 "metadata": {
  "kernelspec": {
   "display_name": "Python [default]",
   "language": "python",
   "name": "python3"
  },
  "language_info": {
   "codemirror_mode": {
    "name": "ipython",
    "version": 3
   },
   "file_extension": ".py",
   "mimetype": "text/x-python",
   "name": "python",
   "nbconvert_exporter": "python",
   "pygments_lexer": "ipython3",
   "version": "3.5.4"
  }
 },
 "nbformat": 4,
 "nbformat_minor": 2
}
