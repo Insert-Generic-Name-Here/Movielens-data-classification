{
 "cells": [
  {
   "cell_type": "markdown",
   "metadata": {},
   "source": [
    "# Importing libraries...\n",
    "  * #### The Cell #1 imports the essential matplotlib modules for displaying figures outside jupyter cell \n",
    "  * #### The Cell #2 imports the essessential pandas and numpy modules for our computations as well as the sklearn.decomposition module for making the PCA Decomposition (for dimension reduction)"
   ]
  },
  {
   "cell_type": "code",
   "execution_count": 1,
   "metadata": {
    "collapsed": true
   },
   "outputs": [],
   "source": [
    "import PyQt5\n",
    "from tqdm import tqdm\n",
    "import matplotlib.pyplot as plt\n",
    "from matplotlib import style;  style.use('ggplot')\n",
    "get_ipython().magic('matplotlib qt')"
   ]
  },
  {
   "cell_type": "code",
   "execution_count": 2,
   "metadata": {
    "collapsed": true
   },
   "outputs": [],
   "source": [
    "import numpy as np\n",
    "import pandas as pd\n",
    "from pandas.tools.plotting import parallel_coordinates\n",
    "from sklearn.decomposition import PCA as sklearnPCA"
   ]
  },
  {
   "cell_type": "markdown",
   "metadata": {},
   "source": [
    "# Loading the Samples and their Respective Cluster Labels...\n",
    "  * The **X** contains the **samples normalized** with the **StandardScaler** method \n",
    "  * The **y_bsas** contains the **cluster labels** for each feature vector **according to the BSAS Sequential Algorithm**\n",
    "  * The **y_kmeans** contains the **cluster labels** for each feature vector **according to the K-Means Strict Clustering Algorithm**\n",
    "  * The **y_hiercl** contains the **cluster labels** for each feature vector **according to the (Agglomerative) Hierarchical Clustreing Algorithm**"
   ]
  },
  {
   "cell_type": "code",
   "execution_count": 3,
   "metadata": {
    "collapsed": true
   },
   "outputs": [],
   "source": [
    "X = np.load('comp-data/1-preprocessing-comp-data/user-feature-set-stdscl.npy')\n",
    "\n",
    "y_bsas = np.load('comp-data/2-bsas-comp-data/clusters-stdscl.npy')\n",
    "y_kmeans = np.load('comp-data/3a-k-means-comp-data/clusters.npy')\n",
    "y_hiercl = np.load('comp-data/3b-hierarchical-clustering-comp-data/clusters_.npy')"
   ]
  },
  {
   "cell_type": "markdown",
   "metadata": {},
   "source": [
    "# Initializing the PCA Decomposition Algorithm to 2 Dimensions...\n",
    "# ...and Transforming our Dataset..."
   ]
  },
  {
   "cell_type": "code",
   "execution_count": 4,
   "metadata": {
    "collapsed": true
   },
   "outputs": [],
   "source": [
    "pca = sklearnPCA(n_components=2) #2-dimensional PCA transformation\n",
    "X_pca = pd.DataFrame(pca.fit_transform(X))"
   ]
  },
  {
   "cell_type": "markdown",
   "metadata": {},
   "source": [
    "# Plot the Dataset"
   ]
  },
  {
   "cell_type": "code",
   "execution_count": 5,
   "metadata": {
    "collapsed": true
   },
   "outputs": [],
   "source": [
    "plt.figure(0, figsize=(25, 10))\n",
    "plt.title('Movielens Users -- PCA Dimension-Reduced Plot')\n",
    "plt.xlabel('X')\n",
    "plt.ylabel('Y')\n",
    "\n",
    "plt.scatter(X_pca[0], X_pca[1], color='black')\n",
    "\n",
    "plt.show()"
   ]
  },
  {
   "cell_type": "markdown",
   "metadata": {},
   "source": [
    "![movielens-users-pca][fig-0]\n",
    "\n",
    "[fig-0]: figures/movielens-users-pca.png \"movielens-users-pca\""
   ]
  },
  {
   "cell_type": "markdown",
   "metadata": {},
   "source": [
    "# Plot the Dataset in conjuction with the cluster labels that BSAS Computed"
   ]
  },
  {
   "cell_type": "code",
   "execution_count": 6,
   "metadata": {},
   "outputs": [
    {
     "data": {
      "text/plain": [
       "array([[-0.8287241 , -0.02829115],\n",
       "       [ 0.91022868, -1.84367285],\n",
       "       [ 1.65505086,  0.25015431],\n",
       "       [ 0.56904286,  2.16495304]])"
      ]
     },
     "execution_count": 6,
     "metadata": {},
     "output_type": "execute_result"
    }
   ],
   "source": [
    "tmp = pd.DataFrame(X_pca)\n",
    "tmp[2] = y_bsas\n",
    "\n",
    "c_bsas_pca = tmp.groupby([2]).mean()\n",
    "c_bsas_pca = c_bsas_pca.values\n",
    "c_bsas_pca"
   ]
  },
  {
   "cell_type": "code",
   "execution_count": 7,
   "metadata": {
    "collapsed": true
   },
   "outputs": [],
   "source": [
    "plt.figure(1, figsize=(25, 10))\n",
    "plt.title('Movielens Users Clustered with BSAS -- PCA Dimension-Reduced Plot')\n",
    "plt.xlabel('X')\n",
    "plt.ylabel('Y')\n",
    "\n",
    "plt.scatter(X_pca[y_bsas==0][0], X_pca[y_bsas==0][1], label='Class 1', c='red')\n",
    "plt.scatter(X_pca[y_bsas==1][0], X_pca[y_bsas==1][1], label='Class 2', c='blue')\n",
    "plt.scatter(X_pca[y_bsas==2][0], X_pca[y_bsas==2][1], label='Class 3', c='lightgreen')\n",
    "plt.scatter(X_pca[y_bsas==3][0], X_pca[y_bsas==3][1], label='Class 4', c='magenta')\n",
    "\n",
    "plt.scatter(c_bsas_pca[0][0], c_bsas_pca[0][1], label='Class 1 Centroid', c='darkred', marker='X', s=200)\n",
    "plt.scatter(c_bsas_pca[1][0], c_bsas_pca[1][1], label='Class 2 Centroid', c='darkblue', marker='X', s=200)\n",
    "plt.scatter(c_bsas_pca[2][0], c_bsas_pca[2][1], label='Class 3 Centroid', c='darkgreen', marker='X', s=200)\n",
    "plt.scatter(c_bsas_pca[3][0], c_bsas_pca[3][1], label='Class 4 Centroid', c='darkmagenta', marker='X', s=200)\n",
    "plt.legend()\n",
    "plt.show()"
   ]
  },
  {
   "cell_type": "markdown",
   "metadata": {},
   "source": [
    "![movielens-users-pca-bsas][fig-1]\n",
    "\n",
    "[fig-1]: figures/movielens-users-pca-bsas.png \"movielens-users-pca-bsas\""
   ]
  },
  {
   "cell_type": "markdown",
   "metadata": {},
   "source": [
    "# Plot the Dataset in conjuction with the cluster labels that K-Means Computed"
   ]
  },
  {
   "cell_type": "code",
   "execution_count": 8,
   "metadata": {},
   "outputs": [
    {
     "data": {
      "text/plain": [
       "array([[ 0.33071029, -1.37244137],\n",
       "       [ 0.11282037,  1.02241536],\n",
       "       [ 1.91994436,  0.17044288],\n",
       "       [-1.38612609, -0.09342405]])"
      ]
     },
     "execution_count": 8,
     "metadata": {},
     "output_type": "execute_result"
    }
   ],
   "source": [
    "tmp = pd.DataFrame(X_pca)\n",
    "tmp[2] = y_kmeans\n",
    "\n",
    "c_kmeans_pca = tmp.groupby([2]).mean()\n",
    "c_kmeans_pca = c_kmeans_pca.values\n",
    "c_kmeans_pca"
   ]
  },
  {
   "cell_type": "code",
   "execution_count": 9,
   "metadata": {
    "collapsed": true
   },
   "outputs": [],
   "source": [
    "plt.figure(2, figsize=(25, 10))\n",
    "plt.title('Movielens Users Clustered with K-Means (K=4) -- PCA Dimension Reduced Plot')\n",
    "plt.xlabel('X')\n",
    "plt.ylabel('Y')\n",
    "\n",
    "plt.scatter(X_pca[y_kmeans==0][0], X_pca[y_kmeans==0][1], label='Class 1', c='red')\n",
    "plt.scatter(X_pca[y_kmeans==1][0], X_pca[y_kmeans==1][1], label='Class 2', c='blue')\n",
    "plt.scatter(X_pca[y_kmeans==2][0], X_pca[y_kmeans==2][1], label='Class 3', c='lightgreen')\n",
    "plt.scatter(X_pca[y_kmeans==3][0], X_pca[y_kmeans==3][1], label='Class 4', c='magenta')\n",
    "\n",
    "plt.scatter(c_kmeans_pca[0][0], c_kmeans_pca[0][1], label='Class 1 Centroid', c='darkred', marker='X', s=200)\n",
    "plt.scatter(c_kmeans_pca[1][0], c_kmeans_pca[1][1], label='Class 2 Centroid', c='darkblue', marker='X', s=200)\n",
    "plt.scatter(c_kmeans_pca[2][0], c_kmeans_pca[2][1], label='Class 3 Centroid', c='darkgreen', marker='X', s=200)\n",
    "plt.scatter(c_kmeans_pca[3][0], c_kmeans_pca[3][1], label='Class 4 Centroid', c='darkmagenta', marker='X', s=200)\n",
    "plt.legend()\n",
    "plt.show()"
   ]
  },
  {
   "cell_type": "markdown",
   "metadata": {
    "collapsed": true
   },
   "source": [
    "![movielens-users-pca-k-means][fig-2]\n",
    "\n",
    "[fig-2]: figures/movielens-users-pca-k-means.png \"movielens-users-pca-k-means\""
   ]
  },
  {
   "cell_type": "markdown",
   "metadata": {},
   "source": [
    "# Plot the Dataset in conjuction with the cluster labels that the (Agglomerative) Hierarchical Clustering Computed"
   ]
  },
  {
   "cell_type": "code",
   "execution_count": 10,
   "metadata": {},
   "outputs": [
    {
     "data": {
      "text/plain": [
       "array([[-0.46872831,  1.58249278],\n",
       "       [-0.46728111, -0.09794226],\n",
       "       [ 1.80895447,  1.05439454],\n",
       "       [ 1.59344914, -1.32082243]])"
      ]
     },
     "execution_count": 10,
     "metadata": {},
     "output_type": "execute_result"
    }
   ],
   "source": [
    "tmp = pd.DataFrame(X_pca)\n",
    "tmp[2] = y_hiercl\n",
    "\n",
    "c_hiercl_pca = tmp.groupby([2]).mean()\n",
    "c_hiercl_pca = c_hiercl_pca.values\n",
    "c_hiercl_pca"
   ]
  },
  {
   "cell_type": "code",
   "execution_count": 11,
   "metadata": {
    "collapsed": true
   },
   "outputs": [],
   "source": [
    "plt.figure(3, figsize=(25, 10))\n",
    "plt.title('Movielens Users Clustered with (Agglomerative) Hierarchical Clustering -- PCA Dimension Reduced Plot')\n",
    "plt.xlabel('X')\n",
    "plt.ylabel('Y')\n",
    "\n",
    "plt.scatter(X_pca[y_hiercl==1][0], X_pca[y_hiercl==1][1], label='Class 1', c='red')\n",
    "plt.scatter(X_pca[y_hiercl==2][0], X_pca[y_hiercl==2][1], label='Class 2', c='blue')\n",
    "plt.scatter(X_pca[y_hiercl==3][0], X_pca[y_hiercl==3][1], label='Class 3', c='lightgreen')\n",
    "plt.scatter(X_pca[y_hiercl==4][0], X_pca[y_hiercl==4][1], label='Class 4', c='magenta')\n",
    "\n",
    "plt.scatter(c_hiercl_pca[0][0], c_hiercl_pca[0][1], label='Class 1 Centroid', c='darkred', marker='X', s=200)\n",
    "plt.scatter(c_hiercl_pca[1][0], c_hiercl_pca[1][1], label='Class 2 Centroid', c='darkblue', marker='X', s=200)\n",
    "plt.scatter(c_hiercl_pca[2][0], c_hiercl_pca[2][1], label='Class 3 Centroid', c ='darkgreen', marker='X', s=200)\n",
    "plt.scatter(c_hiercl_pca[3][0], c_hiercl_pca[3][1], label='Class 4 Centroid', c='darkmagenta', marker='X', s=200)\n",
    "\n",
    "plt.legend()\n",
    "plt.show()"
   ]
  },
  {
   "cell_type": "markdown",
   "metadata": {},
   "source": [
    "![movielens-users-pca-agglomerative][fig-3]\n",
    "\n",
    "[fig-3]: figures/movielens-users-pca-agglomerative.png \"movielens-users-pca-agglomerative\""
   ]
  },
  {
   "cell_type": "markdown",
   "metadata": {},
   "source": [
    "### Note: The Brief Clustering Performance Comparison is in the Chapter 5 at the Assignment's Documentation"
   ]
  },
  {
   "cell_type": "markdown",
   "metadata": {},
   "source": [
    "# ~ END OF CLUSTERING PERFORMANCE COMPARISON ~"
   ]
  }
 ],
 "metadata": {
  "kernelspec": {
   "display_name": "Python [default]",
   "language": "python",
   "name": "python3"
  },
  "language_info": {
   "codemirror_mode": {
    "name": "ipython",
    "version": 3
   },
   "file_extension": ".py",
   "mimetype": "text/x-python",
   "name": "python",
   "nbconvert_exporter": "python",
   "pygments_lexer": "ipython3",
   "version": "3.5.4"
  }
 },
 "nbformat": 4,
 "nbformat_minor": 2
}
