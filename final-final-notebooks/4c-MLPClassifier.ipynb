{
 "cells": [
  {
   "cell_type": "code",
   "execution_count": 1,
   "metadata": {
    "collapsed": true
   },
   "outputs": [],
   "source": [
    "import numpy as np\n",
    "import pandas as pd\n",
    "from sklearn import preprocessing\n",
    "from tqdm import tqdm,tqdm_notebook\n",
    "\n",
    "from sklearn.model_selection import RepeatedKFold\n",
    "from sklearn.neural_network import MLPClassifier"
   ]
  },
  {
   "cell_type": "markdown",
   "metadata": {},
   "source": [
    "## Read CSV's"
   ]
  },
  {
   "cell_type": "code",
   "execution_count": 2,
   "metadata": {
    "collapsed": true
   },
   "outputs": [],
   "source": [
    "df3 = pd.read_csv('comp-data/4a-training-dataset-creation/train.csv')"
   ]
  },
  {
   "cell_type": "code",
   "execution_count": 3,
   "metadata": {},
   "outputs": [
    {
     "data": {
      "text/html": [
       "<div>\n",
       "<style>\n",
       "    .dataframe thead tr:only-child th {\n",
       "        text-align: right;\n",
       "    }\n",
       "\n",
       "    .dataframe thead th {\n",
       "        text-align: left;\n",
       "    }\n",
       "\n",
       "    .dataframe tbody tr th {\n",
       "        vertical-align: top;\n",
       "    }\n",
       "</style>\n",
       "<table border=\"1\" class=\"dataframe\">\n",
       "  <thead>\n",
       "    <tr style=\"text-align: right;\">\n",
       "      <th></th>\n",
       "      <th>age</th>\n",
       "      <th>gender</th>\n",
       "      <th>zip code</th>\n",
       "      <th>ocupation</th>\n",
       "      <th>target</th>\n",
       "      <th>unknown</th>\n",
       "      <th>Action</th>\n",
       "      <th>Adventure</th>\n",
       "      <th>Animation</th>\n",
       "      <th>Children's</th>\n",
       "      <th>...</th>\n",
       "      <th>Film-Noir</th>\n",
       "      <th>Horror</th>\n",
       "      <th>Musical</th>\n",
       "      <th>Mystery</th>\n",
       "      <th>Romance</th>\n",
       "      <th>Sci-Fi</th>\n",
       "      <th>Thriller</th>\n",
       "      <th>War</th>\n",
       "      <th>Western</th>\n",
       "      <th>release-year</th>\n",
       "    </tr>\n",
       "  </thead>\n",
       "  <tbody>\n",
       "    <tr>\n",
       "      <th>0</th>\n",
       "      <td>2</td>\n",
       "      <td>0</td>\n",
       "      <td>85711</td>\n",
       "      <td>0</td>\n",
       "      <td>1</td>\n",
       "      <td>0</td>\n",
       "      <td>0</td>\n",
       "      <td>0</td>\n",
       "      <td>0</td>\n",
       "      <td>0</td>\n",
       "      <td>...</td>\n",
       "      <td>0</td>\n",
       "      <td>0</td>\n",
       "      <td>0</td>\n",
       "      <td>0</td>\n",
       "      <td>0</td>\n",
       "      <td>0</td>\n",
       "      <td>0</td>\n",
       "      <td>0</td>\n",
       "      <td>0</td>\n",
       "      <td>1994</td>\n",
       "    </tr>\n",
       "    <tr>\n",
       "      <th>1</th>\n",
       "      <td>4</td>\n",
       "      <td>0</td>\n",
       "      <td>29206</td>\n",
       "      <td>7</td>\n",
       "      <td>1</td>\n",
       "      <td>0</td>\n",
       "      <td>0</td>\n",
       "      <td>0</td>\n",
       "      <td>0</td>\n",
       "      <td>0</td>\n",
       "      <td>...</td>\n",
       "      <td>0</td>\n",
       "      <td>0</td>\n",
       "      <td>0</td>\n",
       "      <td>0</td>\n",
       "      <td>0</td>\n",
       "      <td>0</td>\n",
       "      <td>0</td>\n",
       "      <td>0</td>\n",
       "      <td>0</td>\n",
       "      <td>1994</td>\n",
       "    </tr>\n",
       "    <tr>\n",
       "      <th>2</th>\n",
       "      <td>3</td>\n",
       "      <td>1</td>\n",
       "      <td>37212</td>\n",
       "      <td>1</td>\n",
       "      <td>1</td>\n",
       "      <td>0</td>\n",
       "      <td>0</td>\n",
       "      <td>0</td>\n",
       "      <td>0</td>\n",
       "      <td>0</td>\n",
       "      <td>...</td>\n",
       "      <td>0</td>\n",
       "      <td>0</td>\n",
       "      <td>0</td>\n",
       "      <td>0</td>\n",
       "      <td>0</td>\n",
       "      <td>0</td>\n",
       "      <td>0</td>\n",
       "      <td>0</td>\n",
       "      <td>0</td>\n",
       "      <td>1994</td>\n",
       "    </tr>\n",
       "  </tbody>\n",
       "</table>\n",
       "<p>3 rows × 25 columns</p>\n",
       "</div>"
      ],
      "text/plain": [
       "   age  gender zip code  ocupation  target  unknown  Action  Adventure  \\\n",
       "0    2       0    85711          0       1        0       0          0   \n",
       "1    4       0    29206          7       1        0       0          0   \n",
       "2    3       1    37212          1       1        0       0          0   \n",
       "\n",
       "   Animation  Children's      ...       Film-Noir  Horror  Musical  Mystery  \\\n",
       "0          0           0      ...               0       0        0        0   \n",
       "1          0           0      ...               0       0        0        0   \n",
       "2          0           0      ...               0       0        0        0   \n",
       "\n",
       "   Romance  Sci-Fi  Thriller  War  Western  release-year  \n",
       "0        0       0         0    0        0          1994  \n",
       "1        0       0         0    0        0          1994  \n",
       "2        0       0         0    0        0          1994  \n",
       "\n",
       "[3 rows x 25 columns]"
      ]
     },
     "execution_count": 3,
     "metadata": {},
     "output_type": "execute_result"
    }
   ],
   "source": [
    "df3.head(3)"
   ]
  },
  {
   "cell_type": "code",
   "execution_count": 4,
   "metadata": {
    "collapsed": true
   },
   "outputs": [],
   "source": [
    "zpc_enc = pd.factorize(df3['zip code'], sort=False, order=None, na_sentinel=-1, size_hint=None)\n",
    "df3['zip code'] = zpc_enc[0]"
   ]
  },
  {
   "cell_type": "markdown",
   "metadata": {},
   "source": [
    "## Normalize the Dataset so that we eliminate outliers\n",
    "  * Final Features: {age, gender, zip code, occupation, target, movie_genres (one-hot representation), release year}"
   ]
  },
  {
   "cell_type": "code",
   "execution_count": 5,
   "metadata": {},
   "outputs": [
    {
     "name": "stderr",
     "output_type": "stream",
     "text": [
      "C:\\ProgramData\\Anaconda3\\lib\\site-packages\\sklearn\\utils\\validation.py:475: DataConversionWarning: Data with input dtype int64 was converted to float64 by the scale function.\n",
      "  warnings.warn(msg, DataConversionWarning)\n"
     ]
    }
   ],
   "source": [
    "# Normalize the Dataset\n",
    "X = np.array(df3.drop(['target'], axis=1))\n",
    "X = preprocessing.scale(X, axis=1)\n",
    "# Separate the correct answer y from the Dataset\n",
    "y = np.array(df3['target'])"
   ]
  },
  {
   "cell_type": "markdown",
   "metadata": {},
   "source": [
    "## Initiate the Repeated K-fold Validation Learning Technique\n",
    "  * for K = 5 (a.k.a 5 shards of the learning dataset)\n",
    "  * and for 10 repeats (so as to have concrete proof of the machine's accuracy"
   ]
  },
  {
   "cell_type": "markdown",
   "metadata": {},
   "source": [
    "## Create the Multilayered Perceptron"
   ]
  },
  {
   "cell_type": "code",
   "execution_count": 6,
   "metadata": {
    "collapsed": true
   },
   "outputs": [],
   "source": [
    "rkf = RepeatedKFold(n_splits=5, n_repeats=10, random_state=100)\n",
    "clf = MLPClassifier(hidden_layer_sizes=(4,4), activation='logistic', solver='sgd', alpha=1e-5, learning_rate='adaptive', random_state=100, verbose=False)"
   ]
  },
  {
   "cell_type": "markdown",
   "metadata": {},
   "source": [
    "## Training The (Deep) Neural Network..."
   ]
  },
  {
   "cell_type": "code",
   "execution_count": 7,
   "metadata": {
    "scrolled": true
   },
   "outputs": [
    {
     "data": {
      "application/vnd.jupyter.widget-view+json": {
       "model_id": "3018515f85614795acec7192973304f0",
       "version_major": 2,
       "version_minor": 0
      },
      "text/plain": [
       "A Jupyter Widget"
      ]
     },
     "metadata": {},
     "output_type": "display_data"
    },
    {
     "name": "stdout",
     "output_type": "stream",
     "text": [
      "\n"
     ]
    }
   ],
   "source": [
    "accuracy = np.array([])\n",
    "\n",
    "for train_index, test_index in tqdm_notebook(rkf.split(X)):\n",
    "    X_train, X_test = X[train_index], X[test_index]\n",
    "    y_train, y_test = y[train_index], y[test_index]\n",
    "    clf.fit(X_train, y_train)\n",
    "    accuracy = np.append(accuracy, [clf.score(X_test,y_test)])"
   ]
  },
  {
   "cell_type": "markdown",
   "metadata": {},
   "source": [
    "## Print The Best and Worst Case Accuracy (we see ~82.98% at best and ~81.94% at worst)"
   ]
  },
  {
   "cell_type": "code",
   "execution_count": 8,
   "metadata": {},
   "outputs": [
    {
     "name": "stdout",
     "output_type": "stream",
     "text": [
      "0.829841492075\n",
      "0.819481948195\n"
     ]
    }
   ],
   "source": [
    "print(np.amax(accuracy))\n",
    "print(np.amin(accuracy))"
   ]
  },
  {
   "cell_type": "markdown",
   "metadata": {},
   "source": [
    "## Print The Coefficients for each neuron connection for every layer of the MLP"
   ]
  },
  {
   "cell_type": "code",
   "execution_count": 12,
   "metadata": {},
   "outputs": [
    {
     "data": {
      "text/plain": [
       "[array([[ 0.02019929, -0.11911074, -0.04062271,  0.18058035],\n",
       "        [-0.26787537, -0.20298129,  0.09099156,  0.17030353],\n",
       "        [-0.18816625,  0.04213448,  0.20948576, -0.14784703],\n",
       "        [-0.17112062, -0.20999262, -0.15008327,  0.25223312],\n",
       "        [ 0.16345933, -0.17605564,  0.16875026, -0.1246412 ],\n",
       "        [-0.03964504,  0.23450175,  0.16951322, -0.09147641],\n",
       "        [-0.17663939, -0.0686754 , -0.26449829, -0.13620853],\n",
       "        [ 0.15489819, -0.25980664,  0.05255519,  0.05160966],\n",
       "        [-0.21420201, -0.06380841, -0.24804144,  0.20480171],\n",
       "        [ 0.25391444, -0.23593202,  0.2084794 ,  0.03722062],\n",
       "        [ 0.12647423,  0.06888816,  0.04346755, -0.26020769],\n",
       "        [-0.15813871,  0.02318421,  0.14356918, -0.13713704],\n",
       "        [-0.11754342,  0.18768745,  0.25362018,  0.20188276],\n",
       "        [-0.07823948,  0.05213995, -0.07789335, -0.08930195],\n",
       "        [-0.17521121, -0.14090667, -0.24355999, -0.00097146],\n",
       "        [-0.06929285,  0.04890047,  0.06917904, -0.19492207],\n",
       "        [ 0.22875752,  0.23789932,  0.05440117, -0.06386777],\n",
       "        [-0.07626671, -0.15873246, -0.11960278, -0.13935571],\n",
       "        [-0.17759017,  0.24872054,  0.24400388,  0.04850857],\n",
       "        [ 0.12049637, -0.08601851, -0.2183333 , -0.02338579],\n",
       "        [ 0.00151406, -0.22067712,  0.0147075 ,  0.25919842],\n",
       "        [-0.05923483, -0.08856995,  0.1629903 ,  0.13209117],\n",
       "        [-0.10306005,  0.07094575,  0.02131829, -0.11249448],\n",
       "        [-0.14539508, -0.08684734, -0.01721086,  0.16213596]]),\n",
       " array([[ 0.29219145,  0.30830712,  0.12198563, -0.21591735],\n",
       "        [ 0.21860661,  0.40337389,  0.14289894,  0.44348266],\n",
       "        [ 0.49716   , -0.29002312, -0.45942928, -0.37771633],\n",
       "        [ 0.45326856,  0.51543289, -0.26401325, -0.19377789]]),\n",
       " array([[ 0.54767954],\n",
       "        [ 0.72542243],\n",
       "        [ 0.37472861],\n",
       "        [-0.21884712]])]"
      ]
     },
     "execution_count": 12,
     "metadata": {},
     "output_type": "execute_result"
    }
   ],
   "source": [
    "clf.coefs_"
   ]
  }
 ],
 "metadata": {
  "kernelspec": {
   "display_name": "Python [default]",
   "language": "python",
   "name": "python3"
  },
  "language_info": {
   "codemirror_mode": {
    "name": "ipython",
    "version": 3
   },
   "file_extension": ".py",
   "mimetype": "text/x-python",
   "name": "python",
   "nbconvert_exporter": "python",
   "pygments_lexer": "ipython3",
   "version": "3.5.4"
  }
 },
 "nbformat": 4,
 "nbformat_minor": 2
}
