{
 "cells": [
  {
   "cell_type": "code",
   "execution_count": 176,
   "metadata": {
    "collapsed": true
   },
   "outputs": [],
   "source": [
    "import numpy as np\n",
    "import numpy.matlib\n",
    "import matplotlib.pyplot as plt"
   ]
  },
  {
   "cell_type": "code",
   "execution_count": 2,
   "metadata": {
    "collapsed": true
   },
   "outputs": [],
   "source": [
    "import math"
   ]
  },
  {
   "cell_type": "code",
   "execution_count": 128,
   "metadata": {
    "collapsed": true
   },
   "outputs": [],
   "source": [
    "def fuck_bsas(X, theta, q, order):\n",
    "    [l, N] = X.shape\n",
    "    n_clust = 1\n",
    "\n",
    "    if (len(order) == 0):\n",
    "        order = np.matrixlib.mat(range(N))\n",
    "    bel = np.matlib.zeros((1, N), dtype=np.int)\n",
    "    \n",
    "    bel[0, order[0,0]] = n_clust\n",
    "    repre = X[:, order[0,0]]\n",
    "    \n",
    "    for i in np.arange(1, N):\n",
    "        [m1, m2] = repre.shape\n",
    "        \n",
    "        tmp = repre - X[:, order[0,i]] * np.matlib.ones((1, m2), dtype=np.double)\n",
    "        tmp = np.sqrt(np.sum(np.square(tmp), axis=0))\n",
    "        #print(tmp)\n",
    "        s2 = np.unravel_index(tmp.argmin(), tmp.shape)\n",
    "        #print(s2)\n",
    "        s1 = tmp[s2]        \n",
    "        if ((s1 > theta) & (n_clust < q)):\n",
    "            n_clust+=1\n",
    "            bel[0, order[0,i]] = n_clust\n",
    "            repre = np.concatenate((repre, X[:, order[0,i]]), axis=1)\n",
    "        else:\n",
    "            bel[0, order[0,i]] = s2[1]+1\n",
    "            tmp = np.sum(np.equal(bel, s2[1]+1), dtype=np.double)\n",
    "            #print (\"new repre pt.0: \",tmp)\n",
    "            repre[:, s2[1]] = np.divide(( (tmp - 1)*repre[:, s2[1]] + X[:, order[0,i]] ), tmp)\n",
    "            #print (\"new repre pt.1: \", (( (tmp - 1)*repre[:, s2[1]] + X[:, order[0,i]] )))\n",
    "            #print ('new repre pt.2: ', repre[:, s2[1]])\n",
    "    return bel, repre"
   ]
  },
  {
   "cell_type": "code",
   "execution_count": 142,
   "metadata": {},
   "outputs": [],
   "source": [
    "[bel_2, repre_2] = fuck_bsas(X, 3, q, order)"
   ]
  },
  {
   "cell_type": "code",
   "execution_count": 143,
   "metadata": {},
   "outputs": [
    {
     "data": {
      "text/plain": [
       "matrix([[1, 3, 3, 1, 1, 1, 1, 1, 1, 2, 2, 2, 2, 2, 2]])"
      ]
     },
     "execution_count": 143,
     "metadata": {},
     "output_type": "execute_result"
    }
   ],
   "source": [
    "bel_2"
   ]
  },
  {
   "cell_type": "code",
   "execution_count": 144,
   "metadata": {},
   "outputs": [
    {
     "data": {
      "text/plain": [
       "matrix([[ 2.64285714,  9.5       ,  5.5       ],\n",
       "        [ 3.64285714,  2.        ,  3.5       ]])"
      ]
     },
     "execution_count": 144,
     "metadata": {},
     "output_type": "execute_result"
    }
   ],
   "source": [
    "repre_2"
   ]
  },
  {
   "cell_type": "code",
   "execution_count": 213,
   "metadata": {},
   "outputs": [],
   "source": [
    "def screw_bsas (X, n_theta=50, n_times=10):\n",
    "    #Determine the minimum and the maximum distances between points of X\n",
    "    [l, N] = X.shape\n",
    "    dista = np.matlib.zeros((N, N), dtype=np.int)\n",
    "    Y = X.copy()\n",
    "    for i in np.arange(N):\n",
    "        for j in np.arange(2,N):\n",
    "            dista[i,j] = np.sqrt(np.sum(np.square(X[:,i]-X[:,j]), axis=0))\n",
    "            dista[j,i] = dista[i,j]\n",
    "    \n",
    "    print(dista)\n",
    "    \n",
    "    true_maxi = dista.max()\n",
    "    true_mini = dista.min()\n",
    "    \n",
    "    #Determine theta_min, theta_max, and s by typing\n",
    "    meani = (true_mini+true_maxi)/2.0\n",
    "    theta_min=0.25*meani\n",
    "    theta_max=1.75*meani\n",
    "    s=(theta_max-theta_min)/(n_theta-1)\n",
    "    \n",
    "    #Run BSAS ntimes for all values of theta, each time with a different ordering of the data\n",
    "    q=N\n",
    "    m_tot = []\n",
    "    for theta in np.arange(theta_min, theta_max+s, s):\n",
    "        list_m = np.matlib.zeros((1, q), dtype=np.int)\n",
    "        for stat in np.arange(n_times):\n",
    "            order = np.matrix(np.random.permutation(N))\n",
    "            [bel, m] = fuck_bsas(X, theta, q, order)\n",
    "            list_m[0,m.shape[1]] += 1\n",
    "        m_size = [np.unravel_index(list_m.argmax(), list_m.shape)[1]]\n",
    "        m_tot = m_tot + m_size\n",
    "    m_tot = np.matrix(m_tot)\n",
    "    \n",
    "    #Plot m_theta versus theta\n",
    "    theta_tot = np.matrix(np.arange(theta_min, theta_max+s, s))\n",
    "    plt.figure(figsize=(10, 10))\n",
    "    plt.plot(theta_tot, m_tot, 'bx-') \n",
    "    plt.xlabel('theta_tot')\n",
    "    plt.ylabel('m_tot')\n",
    "    plt.title('m_theta versus theta')\n",
    "    plt.grid()\n",
    "    plt.show()    \n",
    "    \n",
    "    #Determine the final estimate of the number of clusters and the corresponding theta\n",
    "    m_best = 0\n",
    "    theta_best = 0\n",
    "    siz = 0\n",
    "    \n",
    "    for i in range(m_tot.shape[1]):\n",
    "        if (m_tot[0,i] != 1):\n",
    "            t = m_tot-m_tot[0,i]\n",
    "            siz_temp = np.sum(np.equal(t, 0), axis=1)\n",
    "            if (siz < siz_temp):\n",
    "                siz = siz_temp\n",
    "                theta_best = np.sum(np.multiply(theta_tot, np.equal(t, 0)), axis=0, dtype=np.double)/siz_temp\n",
    "                m_best = m_tot[0,i];\n",
    "        if(np.sum(np.equal(m_tot, m_best), axis=1) < np.multiply(n_theta, 1)):\n",
    "            m_best=1;\n",
    "            theta_best=np.sum(np.multiply(theta_tot, np.equal(m_tot, 1)), axis=1, dtype=np.double)/np.sum(np.equal(m_tot, 1),axis=1);\n",
    "            \n",
    "    order = np.matrix(np.random.permutation(N))\n",
    "    print ('theta_best: ', theta_best)\n",
    "    [bel, repre] = fuck_bsas(Y, theta_best, q, order);\n",
    "\n",
    "    return [bel, repre]"
   ]
  },
  {
   "cell_type": "code",
   "execution_count": 223,
   "metadata": {},
   "outputs": [],
   "source": [
    "X = np.matrix('2 5; 6 4; 5 3; 2 2; 1 4; 5 4; 3 3; 2 3; 2 4; 8 2; 9 2; 10 2; 11 2; 10 3; 9 1', dtype=np.double)\n",
    "X= X.T\n",
    "\n",
    "q = 15\n",
    "theta = 2.5\n",
    "order = np.matrix('8 6 11 1 5 2 3 4 7 10 9 12 13 14 15')\n",
    "order = order - np.matlib.ones_like(order, dtype=np.int)"
   ]
  },
  {
   "cell_type": "code",
   "execution_count": 224,
   "metadata": {
    "scrolled": false
   },
   "outputs": [
    {
     "name": "stdout",
     "output_type": "stream",
     "text": [
      "[[ 0  0  3  3  1  3  2  2  1  6  7  8  9  8  8]\n",
      " [ 0  0  1  4  5  1  3  4  4  2  3  4  5  4  4]\n",
      " [ 3  1  0  3  4  1  2  3  3  3  4  5  6  5  4]\n",
      " [ 3  4  3  0  2  3  1  1  2  6  7  8  9  8  7]\n",
      " [ 1  5  4  2  0  4  2  1  1  7  8  9 10  9  8]\n",
      " [ 3  1  1  3  4  0  2  3  3  3  4  5  6  5  5]\n",
      " [ 2  3  2  1  2  2  0  1  1  5  6  7  8  7  6]\n",
      " [ 2  4  3  1  1  3  1  0  1  6  7  8  9  8  7]\n",
      " [ 1  4  3  2  1  3  1  1  0  6  7  8  9  8  7]\n",
      " [ 6  2  3  6  7  3  5  6  6  0  1  2  3  2  1]\n",
      " [ 7  3  4  7  8  4  6  7  7  1  0  1  2  1  1]\n",
      " [ 8  4  5  8  9  5  7  8  8  2  1  0  1  1  1]\n",
      " [ 9  5  6  9 10  6  8  9  9  3  2  1  0  1  2]\n",
      " [ 8  4  5  8  9  5  7  8  8  2  1  1  1  0  2]\n",
      " [ 8  4  4  7  8  5  6  7  7  1  1  1  2  2  0]]\n"
     ]
    },
    {
     "data": {
      "image/png": "[encoded data removed]",
      "text/plain": [
       "<matplotlib.figure.Figure at 0x21fe2b9bcf8>"
      ]
     },
     "metadata": {},
     "output_type": "display_data"
    },
    {
     "name": "stdout",
     "output_type": "stream",
     "text": [
      "theta_best:  [[ 7.21938776]]\n",
      "Clustering Labels:  [[2 2 2 2 2 2 2 2 2 1 1 1 1 1 1]]\n",
      "Centroids:  [[ 9.5         3.11111111]\n",
      " [ 2.          3.55555556]]\n"
     ]
    }
   ],
   "source": [
    "[bel_2, repre_2] = screw_bsas(X)\n",
    "print(\"Clustering Labels: \",bel_2)\n",
    "print(\"Centroids: \",repre_2)"
   ]
  },
  {
   "cell_type": "code",
   "execution_count": 221,
   "metadata": {},
   "outputs": [
    {
     "data": {
      "image/png": "[encoded data removed]",
      "text/plain": [
       "<matplotlib.figure.Figure at 0x21fe2c0db38>"
      ]
     },
     "metadata": {},
     "output_type": "display_data"
    }
   ],
   "source": [
    "plt.figure(figsize=(10, 10))\n",
    "plt.plot(X[0,:], X[1,:], 'bx-')\n",
    "plt.xlabel('X')\n",
    "plt.ylabel('Y')\n",
    "plt.title('Dataset')\n",
    "plt.grid()\n",
    "plt.show()  "
   ]
  }
 ],
 "metadata": {
  "kernelspec": {
   "display_name": "Python [default]",
   "language": "python",
   "name": "python3"
  },
  "language_info": {
   "codemirror_mode": {
    "name": "ipython",
    "version": 3
   },
   "file_extension": ".py",
   "mimetype": "text/x-python",
   "name": "python",
   "nbconvert_exporter": "python",
   "pygments_lexer": "ipython3",
   "version": "3.5.4"
  }
 },
 "nbformat": 4,
 "nbformat_minor": 2
}
