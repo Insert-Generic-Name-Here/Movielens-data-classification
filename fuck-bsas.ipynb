{
 "cells": [
  {
   "cell_type": "code",
   "execution_count": 1,
   "metadata": {
    "collapsed": true
   },
   "outputs": [],
   "source": [
    "import numpy as np\n",
    "import numpy.matlib"
   ]
  },
  {
   "cell_type": "code",
   "execution_count": 2,
   "metadata": {
    "collapsed": true
   },
   "outputs": [],
   "source": [
    "import math"
   ]
  },
  {
   "cell_type": "code",
   "execution_count": 54,
   "metadata": {},
   "outputs": [],
   "source": [
    "def fuck_bsas(X, theta, q, order):\n",
    "    [l, N] = X.shape\n",
    "    n_clust = 1\n",
    "\n",
    "    if (len(order) == 0):\n",
    "        order = np.matrixlib.mat(range(N))\n",
    "    bel = np.matlib.zeros((1, N), dtype=np.int)\n",
    "    \n",
    "    bel[0, order[0,0]] = n_clust\n",
    "    repre = X[:, order[0,0]]\n",
    "    \n",
    "    for i in range(1, N):\n",
    "        [m1, m2] = repre.shape\n",
    "        \n",
    "        tmp = repre - X[:, order[0,i]] * np.matlib.ones((1, m2), dtype=np.double)\n",
    "        tmp = np.sqrt(np.sum(np.square(tmp), axis=0))\n",
    "        #print(tmp)\n",
    "        s2 = np.unravel_index(tmp.argmin(), tmp.shape)\n",
    "        #print(s2)\n",
    "        s1 = tmp[s2]        \n",
    "        \n",
    "        if ((s1 > theta) and (n_clust < q)):\n",
    "            n_clust+=1\n",
    "            bel[0, order[0,i]] = n_clust\n",
    "            repre = np.concatenate((repre, X[:, order[0,i]]), axis=1)\n",
    "        else:\n",
    "            bel[0, order[0,i]] = s2[1]+1\n",
    "            tmp = np.sum(np.equal(bel, s2[1]+1), dtype=np.double)\n",
    "            #print (\"new repre pt.0: \",tmp)\n",
    "            repre[:, s2[1]] = np.divide(( (tmp - 1)*repre[:, s2[1]] + X[:, order[0,i]] ), tmp)\n",
    "            #print (\"new repre pt.1: \", (( (tmp - 1)*repre[:, s2[1]] + X[:, order[0,i]] )))\n",
    "            #print ('new repre pt.2: ', repre[:, s2[1]])\n",
    "    return bel, repre"
   ]
  },
  {
   "cell_type": "code",
   "execution_count": 55,
   "metadata": {},
   "outputs": [],
   "source": [
    "X = np.matrix('2 5; 6 4; 5 3; 2 2; 1 4; 5 4; 3 3; 2 3; 2 4; 8 2; 9 2; 10 2; 11 2; 10 3; 9 1', dtype=np.double)\n",
    "X = X.T\n",
    "q = 15\n",
    "theta = 2.5\n",
    "order = np.matrix('8 6 11 1 5 2 3 4 7 10 9 12 13 14 15')\n",
    "order = order - np.matlib.ones_like(order, dtype=np.int)"
   ]
  },
  {
   "cell_type": "code",
   "execution_count": 56,
   "metadata": {},
   "outputs": [],
   "source": [
    "[bel_2, repre_2] = fuck_bsas(X, theta, q, order)"
   ]
  },
  {
   "cell_type": "code",
   "execution_count": 57,
   "metadata": {},
   "outputs": [
    {
     "data": {
      "text/plain": [
       "matrix([[1, 2, 2, 1, 1, 2, 1, 1, 1, 3, 3, 3, 3, 3, 3]])"
      ]
     },
     "execution_count": 57,
     "metadata": {},
     "output_type": "execute_result"
    }
   ],
   "source": [
    "bel_2"
   ]
  },
  {
   "cell_type": "code",
   "execution_count": 58,
   "metadata": {},
   "outputs": [
    {
     "data": {
      "text/plain": [
       "matrix([[ 2.        ,  5.33333333,  9.5       ],\n",
       "        [ 3.5       ,  3.66666667,  2.        ]])"
      ]
     },
     "execution_count": 58,
     "metadata": {},
     "output_type": "execute_result"
    }
   ],
   "source": [
    "repre_2"
   ]
  }
 ],
 "metadata": {
  "kernelspec": {
   "display_name": "Python [default]",
   "language": "python",
   "name": "python3"
  },
  "language_info": {
   "codemirror_mode": {
    "name": "ipython",
    "version": 3
   },
   "file_extension": ".py",
   "mimetype": "text/x-python",
   "name": "python",
   "nbconvert_exporter": "python",
   "pygments_lexer": "ipython3",
   "version": "3.5.4"
  }
 },
 "nbformat": 4,
 "nbformat_minor": 2
}
