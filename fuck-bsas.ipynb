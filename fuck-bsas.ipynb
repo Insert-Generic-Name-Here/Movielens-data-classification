{
 "cells": [
  {
   "cell_type": "code",
   "execution_count": 2,
   "metadata": {
    "collapsed": true
   },
   "outputs": [],
   "source": [
    "import numpy as np\n",
    "import numpy.matlib\n",
    "import matplotlib.pyplot as plt"
   ]
  },
  {
   "cell_type": "code",
   "execution_count": 3,
   "metadata": {
    "collapsed": true
   },
   "outputs": [],
   "source": [
    "def fuck_bsas(X, theta, q, order):\n",
    "    [l, N] = X.shape\n",
    "    n_clust = 1\n",
    "\n",
    "    if (len(order) == 0):\n",
    "        order = np.matrixlib.mat(range(N))\n",
    "    bel = np.matlib.zeros((1, N), dtype=np.int)\n",
    "    \n",
    "    bel[0, order[0,0]] = n_clust\n",
    "    repre = X[:, order[0,0]]\n",
    "    \n",
    "    for i in np.arange(1, N):\n",
    "        [m1, m2] = repre.shape\n",
    "        \n",
    "        tmp = repre - X[:, order[0,i]] * np.matlib.ones((1, m2), dtype=np.double)\n",
    "        tmp = np.sqrt(np.sum(np.square(tmp), axis=0))\n",
    "        #print(tmp)\n",
    "        s2 = np.unravel_index(tmp.argmin(), tmp.shape)\n",
    "        #print(s2)\n",
    "        s1 = tmp[s2]        \n",
    "        if ((s1 > theta) & (n_clust < q)):\n",
    "            n_clust+=1\n",
    "            bel[0, order[0,i]] = n_clust\n",
    "            repre = np.concatenate((repre, X[:, order[0,i]]), axis=1)\n",
    "        else:\n",
    "            bel[0, order[0,i]] = s2[1]+1\n",
    "            tmp = np.sum(np.equal(bel, s2[1]+1), dtype=np.double)\n",
    "            #print (\"new repre pt.0: \",tmp)\n",
    "            repre[:, s2[1]] = np.divide(( (tmp - 1)*repre[:, s2[1]] + X[:, order[0,i]] ), tmp)\n",
    "            #print (\"new repre pt.1: \", (( (tmp - 1)*repre[:, s2[1]] + X[:, order[0,i]] )))\n",
    "            #print ('new repre pt.2: ', repre[:, s2[1]])\n",
    "    return bel, repre"
   ]
  },
  {
   "cell_type": "code",
   "execution_count": 124,
   "metadata": {
    "collapsed": true
   },
   "outputs": [],
   "source": [
    "def screw_bsas (X, n_theta=50, n_times=10):\n",
    "    #Determine the minimum and the maximum distances between points of X\n",
    "    [l, N] = X.shape\n",
    "    dista = np.matlib.zeros((N, N), dtype=np.int)\n",
    "    Y = X.copy()\n",
    "    for i in np.arange(N):\n",
    "        for j in np.arange(2,N):\n",
    "            dista[i,j] = np.sqrt(np.sum(np.square(X[:,i]-X[:,j]), axis=0))\n",
    "            dista[j,i] = dista[i,j]\n",
    "    \n",
    "    #print(dista)\n",
    "    true_maxi = dista.max()\n",
    "    true_mini = dista.min()\n",
    "    \n",
    "    #Determine theta_min, theta_max, and s by typing\n",
    "    meani = (true_mini+true_maxi)/2.0\n",
    "    theta_min=0.25*meani\n",
    "    theta_max=1.75*meani\n",
    "    s=(theta_max-theta_min)/(n_theta-1)\n",
    "    \n",
    "    #Run BSAS ntimes for all values of theta, each time with a different ordering of the data\n",
    "    q=N\n",
    "    m_tot = []\n",
    "    for theta in np.arange(theta_min, theta_max+s, s):\n",
    "        list_m = np.matlib.zeros((1, q), dtype=np.int)\n",
    "        for stat in np.arange(n_times):\n",
    "            order = np.matrix(np.random.permutation(N))\n",
    "            [bel, m] = fuck_bsas(X, theta, q, order)\n",
    "            list_m[0,m.shape[1]] += 1\n",
    "        m_size = [np.unravel_index(list_m.argmax(), list_m.shape)[1]]\n",
    "        m_tot = m_tot + m_size\n",
    "    m_tot = np.matrix(m_tot)\n",
    "    \n",
    "    #Plot m_theta versus theta\n",
    "    theta_tot = np.matrix(np.arange(theta_min, theta_max+s, s))\n",
    "    plt.figure(figsize=(10, 10))\n",
    "    plt.plot(theta_tot, m_tot, 'bx-') \n",
    "    plt.xlabel('theta_tot')\n",
    "    plt.ylabel('m_tot')\n",
    "    plt.title('m_theta versus theta')\n",
    "    plt.grid()\n",
    "    plt.show()    \n",
    "    \n",
    "    #Determine the final estimate of the number of clusters and the corresponding theta\n",
    "    m_best = 0\n",
    "    theta_best = 0\n",
    "    siz = 0\n",
    "    \n",
    "    for i in range(m_tot.shape[1]):\n",
    "        if (m_tot[0,i] != 1):\n",
    "            t = m_tot-m_tot[0,i]\n",
    "            siz_temp = np.sum(np.equal(t, 0), axis=1)\n",
    "            if (siz < siz_temp):\n",
    "                siz = siz_temp\n",
    "                theta_best = np.sum(np.multiply(theta_tot, np.equal(t, 0)), axis=0, dtype=np.double)/siz_temp\n",
    "                m_best = m_tot[0,i];\n",
    "        if(np.sum(np.equal(m_tot, m_best), axis=1) < np.multiply(n_theta, 1)):\n",
    "            m_best=1;\n",
    "            theta_best=np.sum(np.multiply(theta_tot, np.equal(m_tot, 1)), axis=1, dtype=np.double)/np.sum(np.equal(m_tot, 1),axis=1);\n",
    "            \n",
    "    order = np.matrix(np.random.permutation(N))\n",
    "    print ('theta_best: ', theta_best)\n",
    "    [bel, repre] = fuck_bsas(Y, theta_best, q, order);\n",
    "\n",
    "    return [bel, repre]"
   ]
  },
  {
   "cell_type": "code",
   "execution_count": 142,
   "metadata": {
    "collapsed": true
   },
   "outputs": [],
   "source": [
    "def clust_reassign(X, repre, bel):\n",
    "    [l, N] = X.shape\n",
    "    [l, n_clust] = repre.shape\n",
    "    new_bel = bel\n",
    "    \n",
    "    for i in range(N):\n",
    "        tmp = X[:, i] * np.matlib.ones((1, n_clust), dtype=np.double) - repre\n",
    "        tmp = np.sqrt(np.sum(np.square(tmp), axis=0))\n",
    "        q2 = np.unravel_index(tmp.argmin(), tmp.shape)\n",
    "        q1 = tmp[q2]   \n",
    "        new_bel[0, i] = q2[1]+1\n",
    "    \n",
    "    new_repre = np.matlib.zeros((l, n_clust), dtype=np.double)\n",
    "    for j in range(n_clust):\n",
    "        new_repre[:, j] = np.sum( X[np.where(bel == j+1)].T ).T / np.sum(np.equal(bel, j+1),axis=1);\n",
    "    \n",
    "    return [new_bel, new_repre]"
   ]
  },
  {
   "cell_type": "code",
   "execution_count": 125,
   "metadata": {
    "collapsed": true
   },
   "outputs": [],
   "source": [
    "X = np.matrix('2 5; 6 4; 5 3; 2 2; 1 4; 5 4; 3 3; 2 3; 2 4; 8 2; 9 2; 10 2; 11 2; 10 3; 9 1', dtype=np.double); X= X.T\n",
    "q = 15; theta = 2.5\n",
    "order = np.matrix('8 6 11 1 5 2 3 4 7 10 9 12 13 14 15')\n",
    "order = order - np.matlib.ones_like(order, dtype=np.int)"
   ]
  },
  {
   "cell_type": "code",
   "execution_count": 221,
   "metadata": {},
   "outputs": [
    {
     "data": {
      "image/png": "[encoded data removed]",
      "text/plain": [
       "<matplotlib.figure.Figure at 0x21fe2c0db38>"
      ]
     },
     "metadata": {},
     "output_type": "display_data"
    }
   ],
   "source": [
    "plt.figure(figsize=(10, 10))\n",
    "plt.plot(X[0,:], X[1,:], 'bx-')\n",
    "plt.xlabel('X')\n",
    "plt.ylabel('Y')\n",
    "plt.title('Dataset')\n",
    "plt.grid()\n",
    "plt.show()  "
   ]
  },
  {
   "cell_type": "code",
   "execution_count": 144,
   "metadata": {
    "scrolled": false
   },
   "outputs": [
    {
     "data": {
      "image/png": "[encoded data removed]",
      "text/plain": [
       "<matplotlib.figure.Figure at 0x281abbbe668>"
      ]
     },
     "metadata": {},
     "output_type": "display_data"
    },
    {
     "name": "stdout",
     "output_type": "stream",
     "text": [
      "theta_best:  [[ 7.46212121]]\n",
      "Clustering Labels:  [[1 1 1 1 1 1 1 1 1 2 2 2 2 2 2]]\n",
      "Centroids:  [[ 3.11111111  9.5       ]\n",
      " [ 3.55555556  2.        ]]\n"
     ]
    }
   ],
   "source": [
    "[bel_new, repre_new] = screw_bsas(X.copy(), n_theta=100, n_times=30)\n",
    "print(\"Clustering Labels: \", bel_new)\n",
    "print(\"Centroids: \", repre_new)"
   ]
  },
  {
   "cell_type": "code",
   "execution_count": 145,
   "metadata": {},
   "outputs": [
    {
     "name": "stdout",
     "output_type": "stream",
     "text": [
      "[Optimal] Clustering Labels:  [[1 1 1 1 1 1 1 1 1 2 2 2 2 2 2]]\n",
      "[Optimal] Centroids:  [[ 3.11111111  9.5       ]\n",
      " [ 3.55555556  2.        ]]\n"
     ]
    }
   ],
   "source": [
    "[bel_opt, repre_opt] = clust_reassign(X.copy(), repre_new.copy(), bel_new.copy())\n",
    "print(\"[Optimal] Clustering Labels: \", bel_new)\n",
    "print(\"[Optimal] Centroids: \", repre_new)"
   ]
  },
  {
   "cell_type": "markdown",
   "metadata": {},
   "source": [
    "# Experiments"
   ]
  },
  {
   "cell_type": "code",
   "execution_count": 7,
   "metadata": {
    "collapsed": true
   },
   "outputs": [],
   "source": [
    "[bel_2, repre_2] = fuck_bsas(X, 3, q, order)"
   ]
  },
  {
   "cell_type": "code",
   "execution_count": 8,
   "metadata": {},
   "outputs": [
    {
     "data": {
      "text/plain": [
       "matrix([[1, 2, 2, 1, 1, 2, 1, 1, 1, 3, 3, 3, 3, 3, 3]])"
      ]
     },
     "execution_count": 8,
     "metadata": {},
     "output_type": "execute_result"
    }
   ],
   "source": [
    "bel_2"
   ]
  },
  {
   "cell_type": "code",
   "execution_count": 9,
   "metadata": {
    "collapsed": true
   },
   "outputs": [
    {
     "data": {
      "text/plain": [
       "matrix([[ 2.        ,  5.33333333,  9.5       ],\n",
       "        [ 3.5       ,  3.66666667,  2.        ]])"
      ]
     },
     "execution_count": 9,
     "metadata": {},
     "output_type": "execute_result"
    }
   ],
   "source": [
    "repre_2"
   ]
  }
 ],
 "metadata": {
  "kernelspec": {
   "display_name": "Python [default]",
   "language": "python",
   "name": "python3"
  },
  "language_info": {
   "codemirror_mode": {
    "name": "ipython",
    "version": 3
   },
   "file_extension": ".py",
   "mimetype": "text/x-python",
   "name": "python",
   "nbconvert_exporter": "python",
   "pygments_lexer": "ipython3",
   "version": "3.5.4"
  }
 },
 "nbformat": 4,
 "nbformat_minor": 2
}
