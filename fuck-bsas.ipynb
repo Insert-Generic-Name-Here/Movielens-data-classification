{
 "cells": [
  {
   "cell_type": "code",
   "execution_count": 22,
   "metadata": {
    "collapsed": true
   },
   "outputs": [],
   "source": [
    "import numpy as np\n",
    "import numpy.matlib"
   ]
  },
  {
   "cell_type": "code",
   "execution_count": 135,
   "metadata": {
    "collapsed": true
   },
   "outputs": [],
   "source": [
    "import math"
   ]
  },
  {
   "cell_type": "code",
   "execution_count": 254,
   "metadata": {
    "collapsed": true
   },
   "outputs": [],
   "source": [
    "def fuck_bsas(X, theta, q, order):\n",
    "    [l, N] = X.shape\n",
    "    n_clust = 1\n",
    "\n",
    "    if (len(order) == 0):\n",
    "        order = np.matrixlib.mat(range(N))\n",
    "    bel = np.matlib.zeros((1, N), dtype=np.int)\n",
    "    \n",
    "    bel[0, order[0,0]] = n_clust\n",
    "    repre = X[:, order[0,0]]\n",
    "    \n",
    "    for i in range(1, N):\n",
    "        [m1, m2] = repre.shape\n",
    "        \n",
    "        tmp = repre - X[:, order[0,i]] * np.matlib.ones((1, m2), dtype=np.int)\n",
    "        tmp = np.sqrt(np.sum(np.square(tmp), axis=0))\n",
    "        print(tmp)\n",
    "        s2 = np.unravel_index(tmp.argmin(), tmp.shape)\n",
    "        print(s2)\n",
    "        s1 = tmp[s2]        \n",
    "        \n",
    "        if ((s1 > theta) and (n_clust < q)):\n",
    "            n_clust+=1\n",
    "            bel[0, order[0,i]] = n_clust\n",
    "            repre = np.concatenate((repre, X[:, order[0,i]]), axis=1)\n",
    "        else:\n",
    "            bel[0, order[0,i]] = s2[1]+1\n",
    "            tmp = np.sum(np.equal(bel, s2[1]+1))\n",
    "            repre[:, s2[1]] = ( (tmp - 1)*repre[:, s2[1]] + X[:, order[0,i]] ) / tmp\n",
    "    return bel, repre"
   ]
  },
  {
   "cell_type": "code",
   "execution_count": 246,
   "metadata": {
    "collapsed": true
   },
   "outputs": [],
   "source": [
    "X = np.matrix('2 5; 6 4; 5 3; 2 2; 1 4; 5 4; 3 3; 2 3; 2 4; 8 2; 9 2; 10 2; 11 2; 10 3; 9 1')\n",
    "X = X.T\n",
    "q = 15\n",
    "theta = 2.5\n",
    "order = np.matrix('8 6 11 1 5 2 3 4 7 10 9 12 13 14 15') - np.matlib.ones_like(order, dtype=np.int)"
   ]
  },
  {
   "cell_type": "code",
   "execution_count": 255,
   "metadata": {},
   "outputs": [
    {
     "name": "stdout",
     "output_type": "stream",
     "text": [
      "[[ 3.16227766]]\n",
      "(0, 0)\n",
      "[[ 7.07106781  4.47213595]]\n",
      "(0, 1)\n",
      "[[ 2.          3.16227766  7.61577311]]\n",
      "(0, 0)\n",
      "[[ 1.          4.          8.24621125]]\n",
      "(0, 0)\n",
      "[[ 5.          1.          3.60555128]]\n",
      "(0, 1)\n",
      "[[ 4.12310563  1.          4.12310563]]\n",
      "(0, 1)\n",
      "[[ 2.23606798  3.16227766  7.        ]]\n",
      "(0, 0)\n",
      "[[ 2.          2.          6.08276253]]\n",
      "(0, 0)\n",
      "[[ 7.07106781  3.16227766  1.        ]]\n",
      "(0, 2)\n",
      "[[ 1.41421356  3.16227766  6.32455532]]\n",
      "(0, 0)\n",
      "[[ 9.05538514  5.09901951  2.        ]]\n",
      "(0, 2)\n",
      "[[ 10.04987562   6.08276253   3.        ]]\n",
      "(0, 2)\n",
      "[[ 9.          5.          2.23606798  1.41421356]]\n",
      "(0, 3)\n",
      "[[ 8.24621125  4.47213595  1.41421356  1.41421356]]\n",
      "(0, 2)\n"
     ]
    }
   ],
   "source": [
    "[bel_2, repre_2] = fuck_bsas(X, theta, q, order)"
   ]
  },
  {
   "cell_type": "code",
   "execution_count": 257,
   "metadata": {},
   "outputs": [
    {
     "data": {
      "text/plain": [
       "matrix([[1, 2, 2, 1, 1, 2, 1, 1, 1, 3, 3, 3, 4, 4, 3]])"
      ]
     },
     "execution_count": 257,
     "metadata": {},
     "output_type": "execute_result"
    }
   ],
   "source": [
    "bel_2"
   ]
  },
  {
   "cell_type": "code",
   "execution_count": 258,
   "metadata": {},
   "outputs": [
    {
     "data": {
      "text/plain": [
       "matrix([[ 1,  5,  8, 10],\n",
       "        [ 3,  3,  1,  2]])"
      ]
     },
     "execution_count": 258,
     "metadata": {},
     "output_type": "execute_result"
    }
   ],
   "source": [
    "repre_2"
   ]
  },
  {
   "cell_type": "code",
   "execution_count": 113,
   "metadata": {},
   "outputs": [
    {
     "data": {
      "text/plain": [
       "matrix([[2, 1],\n",
       "        [4, 1]])"
      ]
     },
     "execution_count": 113,
     "metadata": {},
     "output_type": "execute_result"
    }
   ],
   "source": [
    "np.concatenate((X[:, 8], np.matlib.ones((1, 2), dtype=np.int).T), axis=1)"
   ]
  },
  {
   "cell_type": "code",
   "execution_count": 194,
   "metadata": {},
   "outputs": [
    {
     "name": "stdout",
     "output_type": "stream",
     "text": [
      "[[-1.          7.07106781  4.47213595  2.        ]]\n"
     ]
    },
    {
     "data": {
      "text/plain": [
       "-1.0"
      ]
     },
     "execution_count": 194,
     "metadata": {},
     "output_type": "execute_result"
    }
   ],
   "source": [
    "y = np.matrix([-1, 7.07106781, 4.47213595, 2])\n",
    "print (y)\n",
    "miny = np.min(y[0,:])\n",
    "miny"
   ]
  },
  {
   "cell_type": "code",
   "execution_count": 193,
   "metadata": {},
   "outputs": [
    {
     "data": {
      "text/plain": [
       "matrix([[0, 0]], dtype=int64)"
      ]
     },
     "execution_count": 193,
     "metadata": {},
     "output_type": "execute_result"
    }
   ],
   "source": [
    "np.matrix(np.where(y == y.min())).flatten()"
   ]
  },
  {
   "cell_type": "code",
   "execution_count": 165,
   "metadata": {},
   "outputs": [
    {
     "data": {
      "text/plain": [
       "matrix([[ 3.16227766,  2.        ,  4.        ]])"
      ]
     },
     "execution_count": 165,
     "metadata": {},
     "output_type": "execute_result"
    }
   ],
   "source": [
    "y"
   ]
  }
 ],
 "metadata": {
  "kernelspec": {
   "display_name": "Python [default]",
   "language": "python",
   "name": "python3"
  },
  "language_info": {
   "codemirror_mode": {
    "name": "ipython",
    "version": 3
   },
   "file_extension": ".py",
   "mimetype": "text/x-python",
   "name": "python",
   "nbconvert_exporter": "python",
   "pygments_lexer": "ipython3",
   "version": "3.5.4"
  }
 },
 "nbformat": 4,
 "nbformat_minor": 2
}
