{
 "cells": [
  {
   "cell_type": "code",
   "execution_count": 3,
   "metadata": {
    "collapsed": true
   },
   "outputs": [],
   "source": [
    "import numpy as np"
   ]
  },
  {
   "cell_type": "code",
   "execution_count": 235,
   "metadata": {},
   "outputs": [],
   "source": [
    "def fuck_bsas(X, theta, q, order):\n",
    "    [l, N] = X.shape\n",
    "    n_clust = 1\n",
    "    \n",
    "    if (len(order) == 0):\n",
    "        order = range(N)\n",
    "        \n",
    "    bel = np.zeros((1,N))    \n",
    "    bel[0, order[0]] = n_clust\n",
    "    repre = X[:, order[0]]\n",
    "    repre = np.array([repre]).T\n",
    "    \n",
    "    for i in range(1, N):\n",
    "        try:\n",
    "            [m1, m2] = repre.shape\n",
    "        except ValueError: \n",
    "            m1 = repre.shape\n",
    "            m2 = 1\n",
    "            \n",
    "        tmp = np.dot(np.array([X[:, order[i]]]).T, np.ones((1,m2)))\n",
    "        tmp = np.subtract(repre, tmp)\n",
    "        tmp = np.sqrt(np.sum(np.square(tmp)))\n",
    "               \n",
    "        s1 = tmp.min()\n",
    "        s2 = tmp.argmin()\n",
    "        \n",
    "        if ((s1 > theta) and (n_clust < q)):\n",
    "            n_clust+=1\n",
    "            bel[0, order[i]] = n_clust\n",
    "            repre = np.concatenate((repre, np.array([X[:, order[i]]]).T), axis=1)\n",
    "        else:\n",
    "            bel[0, order[i]] = s2\n",
    "            \n",
    "            tmp = np.sum(np.equal(bel, s2))\n",
    "            repre[:, s2] = ( (tmp - 1)*repre[:, s2] + X[:, order[i]] ) / tmp\n",
    "    return bel, repre"
   ]
  },
  {
   "cell_type": "code",
   "execution_count": 248,
   "metadata": {},
   "outputs": [
    {
     "name": "stdout",
     "output_type": "stream",
     "text": [
      "[[ 2  6  5  2  1  5  3  2  2  8  9 10 11 10  9]\n",
      " [ 5  4  3  2  4  4  3  3  4  2  2  2  2  3  1]]\n",
      "[[  4.   6.   7.   8.   5.   2.   9.   1.  11.  10.   3.  12.  13.  14.\n",
      "   15.]]\n",
      "[[ 2  5  9  2  1  6  5  2  3  8  2 10 11 10  9]\n",
      " [ 3  4  2  5  4  4  3  2  3  2  4  2  2  3  1]]\n"
     ]
    }
   ],
   "source": [
    "X = np.array([[2, 5], [6, 4], [5, 3], [2, 2], [1, 4], [5, 4], [3, 3], [2, 3], \n",
    "              [2, 4], [8, 2], [9, 2], [10, 2], [11, 2], [10, 3], [9, 1]]).T;\n",
    "print (X)\n",
    "\n",
    "q = 15;\n",
    "theta = 2.5;\n",
    "order = np.array([7, 5, 10, 0, 4, 1, 2, 3, 6, 9, 8, 11, 12, 13, 14]);\n",
    "\n",
    "[bel_2, repre_2]=fuck_bsas(X,theta,q,order)\n",
    "print(bel_2)\n",
    "print(repre_2)\n"
   ]
  },
  {
   "cell_type": "code",
   "execution_count": 232,
   "metadata": {},
   "outputs": [
    {
     "data": {
      "text/plain": [
       "array([[3, 4],\n",
       "       [3, 4]])"
      ]
     },
     "execution_count": 232,
     "metadata": {},
     "output_type": "execute_result"
    }
   ],
   "source": [
    "a = [[3], [3]]\n",
    "b = [[4], [4]]\n",
    "\n",
    "np.concatenate((a,b), axis=1)"
   ]
  }
 ],
 "metadata": {
  "kernelspec": {
   "display_name": "Python [default]",
   "language": "python",
   "name": "python3"
  },
  "language_info": {
   "codemirror_mode": {
    "name": "ipython",
    "version": 3
   },
   "file_extension": ".py",
   "mimetype": "text/x-python",
   "name": "python",
   "nbconvert_exporter": "python",
   "pygments_lexer": "ipython3",
   "version": "3.5.4"
  }
 },
 "nbformat": 4,
 "nbformat_minor": 2
}
