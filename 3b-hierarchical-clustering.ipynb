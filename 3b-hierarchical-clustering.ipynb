{
 "cells": [
  {
   "cell_type": "markdown",
   "metadata": {},
   "source": [
    "# Importing libraries...\n",
    "  * #### The Cell #1 imports the essential matplotlib modules for displaying figures outside jupyter cell \n",
    "  * #### The Cell #2 imports the essessential pandas, numpy and scipy modules for our computations (including the agg. clustering)"
   ]
  },
  {
   "cell_type": "code",
   "execution_count": 1,
   "metadata": {
    "collapsed": true
   },
   "outputs": [],
   "source": [
    "import PyQt5\n",
    "from tqdm import tqdm\n",
    "import matplotlib.pyplot as plt\n",
    "from matplotlib import style;  style.use('ggplot')\n",
    "get_ipython().magic('matplotlib qt')"
   ]
  },
  {
   "cell_type": "code",
   "execution_count": 10,
   "metadata": {
    "collapsed": true
   },
   "outputs": [],
   "source": [
    "import numpy as np\n",
    "import pandas as pd\n",
    "from scipy.cluster.hierarchy import dendrogram, linkage\n",
    "from scipy.cluster.hierarchy import fcluster"
   ]
  },
  {
   "cell_type": "markdown",
   "metadata": {},
   "source": [
    "# Loading Processed Data Matrix..."
   ]
  },
  {
   "cell_type": "code",
   "execution_count": 4,
   "metadata": {},
   "outputs": [],
   "source": [
    "X = np.load('comp-data/1-preprocessing-comp-data/user-feature-set-stdscl.npy')"
   ]
  },
  {
   "cell_type": "markdown",
   "metadata": {},
   "source": [
    "# Generating The Hierachical Clustering Dendrogram...\n",
    "  * #### Using Complete Linkage Method"
   ]
  },
  {
   "cell_type": "code",
   "execution_count": 5,
   "metadata": {
    "collapsed": true
   },
   "outputs": [],
   "source": [
    "# generate the linkage matrix\n",
    "ZC = linkage(X, 'complete')"
   ]
  },
  {
   "cell_type": "code",
   "execution_count": 7,
   "metadata": {
    "collapsed": true
   },
   "outputs": [],
   "source": [
    "# calculate full dendrogram\n",
    "plt.figure(1, figsize=(25, 10))\n",
    "plt.title('Hierarchical Clustering Dendrogram -- Complete-Linkage')\n",
    "plt.xlabel('X[i]')\n",
    "plt.ylabel('distance')\n",
    "dendrogram(\n",
    "    ZC,\n",
    "    leaf_rotation=90.,  # rotates the x axis labels\n",
    "    leaf_font_size=8.,  # font size for the x axis labels\n",
    ")\n",
    "plt.show()"
   ]
  },
  {
   "cell_type": "code",
   "execution_count": 6,
   "metadata": {
    "collapsed": true
   },
   "outputs": [],
   "source": [
    "plt.figure(2, figsize=(25, 10))\n",
    "plt.title('Hierarchical Clustering Dendrogram -- Complete-Linkage (truncated)')\n",
    "plt.xlabel('sample index')\n",
    "plt.ylabel('distance')\n",
    "dendrogram(\n",
    "    ZC,\n",
    "    truncate_mode='lastp',  # show only the last p merged clusters\n",
    "    p=20,  # show only the last p merged clusters\n",
    "    show_leaf_counts=False,  # otherwise numbers in brackets are counts\n",
    "    leaf_rotation=90.,\n",
    "    leaf_font_size=12.,\n",
    "    show_contracted=True,  # to get a distribution impression in truncated branches\n",
    ")\n",
    "plt.show()"
   ]
  },
  {
   "cell_type": "markdown",
   "metadata": {},
   "source": [
    "# Getting the -optimal- number of Clusters... (k-means elbow method)\n",
    "  * #### As seen in the above dendrogram if we \"trim\" the tree in a certain distance point, we have from 2 to 9 clusters.\n",
    "  * #### Running k-means for k = 2, 3, 4, 5, 6, 7, 8, 9 - and optionally 10 - and applying the elbow method should tell us the optimal number of clusters"
   ]
  },
  {
   "cell_type": "markdown",
   "metadata": {},
   "source": [
    "  * ### Importing sklearn essential libraries for k-means and scipy"
   ]
  },
  {
   "cell_type": "code",
   "execution_count": 9,
   "metadata": {
    "collapsed": true
   },
   "outputs": [],
   "source": [
    "from sklearn.cluster import KMeans\n",
    "from sklearn import metrics\n",
    "from scipy.spatial.distance import cdist"
   ]
  },
  {
   "cell_type": "code",
   "execution_count": 10,
   "metadata": {},
   "outputs": [
    {
     "name": "stderr",
     "output_type": "stream",
     "text": [
      "100%|██████████████████████████████████████████████████████████████████████████████████| 10/10 [01:10<00:00,  7.05s/it]\n"
     ]
    }
   ],
   "source": [
    "# k means determine optimal k\n",
    "distortions = []\n",
    "K = [1, 2, 3, 4, 5, 6, 7, 8, 9, 10]\n",
    "for k in tqdm(K):\n",
    "    kmeanTest = KMeans(n_clusters=k, n_init=20, n_jobs=-1, precompute_distances=True, random_state=0, verbose=2)\n",
    "    kmeanTest.fit(X); kmeanTest.fit(X)\n",
    "    distortions.append(sum(np.min(cdist(X, kmeanTest.cluster_centers_, 'euclidean'), axis=1)) / X.shape[0])\n",
    " \n",
    "# Plot the elbow\n",
    "plt.figure(2, figsize=(25, 10))\n",
    "plt.plot(K, distortions, 'bx-')\n",
    "plt.xlabel('k')\n",
    "plt.ylabel('Distortion')\n",
    "plt.title('The Elbow Method showing the optimal k')\n",
    "plt.show()"
   ]
  },
  {
   "cell_type": "markdown",
   "metadata": {},
   "source": [
    " * #### From the elbow method we saw that the optimal number of clusters is 4 (as much as BSAS suggested)\n",
    " * #### So, we trim the dendrogram at max_d = 6.10"
   ]
  },
  {
   "cell_type": "code",
   "execution_count": 8,
   "metadata": {},
   "outputs": [
    {
     "data": {
      "text/plain": [
       "array([1, 2, 2, 2, 1, 2, 2, 2, 2, 2, 2, 2, 2, 2, 2, 2, 2, 4, 2, 4, 2, 2, 4,\n",
       "       2, 2, 3, 2, 2, 2, 1, 2, 3, 2, 2, 2, 2, 2, 2, 3, 1, 2, 2, 4, 1, 2, 2,\n",
       "       2, 2, 2, 2, 2, 2, 2, 4, 2, 2, 2, 1, 2, 2, 2, 2, 2, 4, 2, 2, 2, 2, 2,\n",
       "       2, 2, 2, 2, 2, 2, 2, 2, 2, 4, 2, 2, 2, 2, 2, 2, 2, 2, 2, 2, 2, 2, 2,\n",
       "       2, 2, 2, 2, 2, 2, 3, 2, 2, 2, 2, 2, 2, 2, 1, 2, 4, 2, 1, 4, 2, 4, 2,\n",
       "       4, 2, 2, 2, 4, 2, 2, 2, 2, 2, 2, 2, 2, 2, 2, 2, 4, 2, 2, 2, 2, 2, 2,\n",
       "       2, 2, 2, 2, 2, 2, 2, 2, 2, 3, 2, 2, 2, 2, 1, 2, 4, 2, 2, 2, 2, 2, 2,\n",
       "       2, 2, 2, 2, 2, 2, 4, 4, 2, 2, 2, 2, 2, 2, 2, 4, 4, 4, 2, 2, 4, 2, 2,\n",
       "       2, 2, 2, 4, 2, 2, 2, 2, 2, 4, 4, 2, 2, 2, 4, 4, 2, 2, 2, 4, 2, 2, 4,\n",
       "       1, 2, 2, 2, 2, 4, 2, 2, 2, 2, 1, 2, 2, 2, 2, 2, 2, 2, 2, 2, 2, 4, 4,\n",
       "       2, 2, 2, 2, 2, 2, 4, 2, 2, 2, 2, 1, 2, 1, 2, 2, 2, 2, 3, 2, 2, 2, 2,\n",
       "       4, 2, 2, 2, 2, 2, 2, 4, 4, 2, 2, 2, 2, 2, 2, 2, 2, 2, 2, 2, 2, 2, 2,\n",
       "       2, 2, 2, 2, 4, 2, 2, 2, 2, 2, 2, 2, 2, 2, 2, 3, 4, 2, 2, 4, 4, 2, 2,\n",
       "       2, 2, 2, 2, 2, 2, 2, 2, 4, 2, 3, 2, 2, 2, 2, 2, 2, 4, 2, 4, 2, 2, 4,\n",
       "       2, 2, 2, 4, 2, 2, 2, 2, 2, 2, 2, 2, 2, 1, 1, 1, 3, 3, 2, 2, 2, 2, 2,\n",
       "       3, 1, 2, 2, 2, 2, 2, 2, 2, 2, 2, 2, 3, 3, 2, 4, 2, 2, 2, 1, 2, 2, 2,\n",
       "       2, 2, 2, 2, 1, 3, 4, 2, 1, 1, 2, 2, 2, 2, 2, 2, 2, 2, 2, 4, 2, 2, 1,\n",
       "       1, 2, 2, 2, 2, 2, 3, 2, 2, 2, 2, 4, 2, 2, 2, 2, 2, 2, 2, 1, 2, 2, 2,\n",
       "       2, 2, 2, 2, 2, 2, 2, 2, 3, 2, 2, 2, 2, 2, 2, 2, 3, 1, 2, 2, 2, 2, 2,\n",
       "       2, 2, 2, 4, 2, 1, 4, 2, 2, 2, 1, 2, 2, 2, 2, 2, 2, 2, 2, 2, 2, 2, 2,\n",
       "       2, 2, 2, 2, 2, 2, 4, 3, 4, 2, 2, 2, 2, 2, 2, 2, 2, 2, 2, 2, 2, 3, 2,\n",
       "       3, 1, 2, 2, 2, 2, 2, 2, 3, 3, 2, 2, 2, 2, 4, 2, 2, 2, 2, 2, 2, 3, 2,\n",
       "       2, 2, 1, 2, 2, 2, 3, 3, 3, 3, 2, 2, 1, 2, 2, 2, 2, 1, 1, 2, 2, 2, 4,\n",
       "       3, 4, 3, 2, 2, 2, 2, 3, 4, 4, 2, 2, 2, 2, 2, 2, 2, 4, 2, 1, 2, 2, 2,\n",
       "       2, 2, 2, 4, 2, 4, 3, 2, 2, 3, 2, 3, 4, 2, 1, 2, 2, 2, 4, 2, 2, 4, 2,\n",
       "       2, 2, 2, 2, 3, 2, 3, 3, 2, 1, 1, 2, 2, 2, 1, 1, 2, 1, 3, 2, 2, 3, 2,\n",
       "       2, 2, 1, 1, 1, 2, 1, 2, 1, 1, 3, 2, 1, 1, 2, 1, 2, 1, 1, 2, 2, 2, 2,\n",
       "       1, 2, 2, 2, 2, 2, 2, 2, 2, 2, 2, 2, 2, 2, 2, 2, 2, 2, 2, 2, 2, 2, 3,\n",
       "       3, 2, 2, 2, 2, 1, 4, 3, 3, 2, 3, 2, 3, 2, 1, 3, 4, 2, 2, 2, 2, 4, 1,\n",
       "       3, 2, 2, 3, 3, 2, 2, 2, 2, 2, 3, 2, 3, 1, 2, 2, 2, 4, 2, 3, 2, 3, 4,\n",
       "       1, 4, 2, 2, 1, 2, 2, 2, 4, 3, 2, 2, 3, 3, 1, 4, 2, 3, 3, 2, 2, 2, 2,\n",
       "       2, 3, 3, 3, 4, 2, 3, 2, 2, 2, 1, 1, 3, 2, 3, 2, 3, 2, 3, 2, 4, 4, 3,\n",
       "       2, 4, 2, 2, 2, 2, 2, 4, 4, 3, 4, 4, 3, 2, 2, 2, 2, 2, 2, 2, 2, 3, 3,\n",
       "       2, 2, 4, 3, 3, 2, 3, 3, 1, 2, 3, 2, 4, 2, 2, 2, 1, 2, 1, 1, 2, 2, 2,\n",
       "       3, 2, 1, 3, 2, 2, 1, 1, 2, 2, 2, 2, 4, 2, 2, 2, 1, 2, 2, 3, 2, 2, 3,\n",
       "       2, 2, 2, 2, 2, 4, 2, 4, 3, 3, 2, 3, 2, 4, 2, 1, 2, 1, 2, 3, 2, 2, 2,\n",
       "       2, 2, 2, 2, 4, 2, 2, 2, 2, 2, 2, 2, 2, 1, 1, 2, 2, 1, 3, 2, 2, 2, 2,\n",
       "       4, 4, 4, 2, 4, 4, 2, 2, 2, 2, 1, 2, 4, 2, 2, 2, 4, 2, 2, 1, 1, 2, 1,\n",
       "       4, 1, 4, 4, 4, 2, 4, 2, 2, 2, 2, 1, 2, 2, 4, 4, 2, 4, 2, 2, 2, 4, 4,\n",
       "       4, 2, 2, 1, 1, 2, 2, 2, 4, 2, 2, 2, 4, 2, 2, 2, 4, 4, 4, 4, 4, 4, 4,\n",
       "       4, 4, 4, 2, 1, 1, 2, 2, 1, 2, 4, 2, 4, 2, 2, 2, 2, 2, 4, 2, 4, 2, 4], dtype=int32)"
      ]
     },
     "execution_count": 8,
     "metadata": {},
     "output_type": "execute_result"
    }
   ],
   "source": [
    "max_d = 6.10\n",
    "clusters_ = fcluster(ZC, max_d, criterion='distance')\n",
    "clusters_"
   ]
  },
  {
   "cell_type": "code",
   "execution_count": 18,
   "metadata": {},
   "outputs": [
    {
     "data": {
      "text/html": [
       "<div>\n",
       "<style>\n",
       "    .dataframe thead tr:only-child th {\n",
       "        text-align: right;\n",
       "    }\n",
       "\n",
       "    .dataframe thead th {\n",
       "        text-align: left;\n",
       "    }\n",
       "\n",
       "    .dataframe tbody tr th {\n",
       "        vertical-align: top;\n",
       "    }\n",
       "</style>\n",
       "<table border=\"1\" class=\"dataframe\">\n",
       "  <thead>\n",
       "    <tr style=\"text-align: right;\">\n",
       "      <th></th>\n",
       "      <th>0</th>\n",
       "      <th>1</th>\n",
       "      <th>2</th>\n",
       "      <th>3</th>\n",
       "      <th>4</th>\n",
       "      <th>5</th>\n",
       "      <th>6</th>\n",
       "      <th>7</th>\n",
       "      <th>8</th>\n",
       "      <th>9</th>\n",
       "      <th>10</th>\n",
       "      <th>11</th>\n",
       "      <th>12</th>\n",
       "      <th>13</th>\n",
       "      <th>14</th>\n",
       "      <th>15</th>\n",
       "      <th>16</th>\n",
       "      <th>17</th>\n",
       "      <th>18</th>\n",
       "    </tr>\n",
       "    <tr>\n",
       "      <th>19</th>\n",
       "      <th></th>\n",
       "      <th></th>\n",
       "      <th></th>\n",
       "      <th></th>\n",
       "      <th></th>\n",
       "      <th></th>\n",
       "      <th></th>\n",
       "      <th></th>\n",
       "      <th></th>\n",
       "      <th></th>\n",
       "      <th></th>\n",
       "      <th></th>\n",
       "      <th></th>\n",
       "      <th></th>\n",
       "      <th></th>\n",
       "      <th></th>\n",
       "      <th></th>\n",
       "      <th></th>\n",
       "      <th></th>\n",
       "    </tr>\n",
       "  </thead>\n",
       "  <tbody>\n",
       "    <tr>\n",
       "      <th>1</th>\n",
       "      <td>-0.774900</td>\n",
       "      <td>0.347888</td>\n",
       "      <td>-0.047486</td>\n",
       "      <td>-0.375541</td>\n",
       "      <td>-0.028664</td>\n",
       "      <td>2.411857</td>\n",
       "      <td>-0.427876</td>\n",
       "      <td>-0.742729</td>\n",
       "      <td>1.860261</td>\n",
       "      <td>-0.680843</td>\n",
       "      <td>-0.688428</td>\n",
       "      <td>-0.540042</td>\n",
       "      <td>-0.255504</td>\n",
       "      <td>-0.468997</td>\n",
       "      <td>1.273786</td>\n",
       "      <td>-0.191637</td>\n",
       "      <td>0.258992</td>\n",
       "      <td>-0.243843</td>\n",
       "      <td>-0.686293</td>\n",
       "    </tr>\n",
       "    <tr>\n",
       "      <th>2</th>\n",
       "      <td>-0.866079</td>\n",
       "      <td>0.888199</td>\n",
       "      <td>0.018012</td>\n",
       "      <td>-0.638964</td>\n",
       "      <td>-0.453794</td>\n",
       "      <td>1.130580</td>\n",
       "      <td>-0.115776</td>\n",
       "      <td>-0.798859</td>\n",
       "      <td>2.826348</td>\n",
       "      <td>-0.797645</td>\n",
       "      <td>-0.689839</td>\n",
       "      <td>-0.535611</td>\n",
       "      <td>-0.548579</td>\n",
       "      <td>-0.339864</td>\n",
       "      <td>0.724513</td>\n",
       "      <td>0.047952</td>\n",
       "      <td>0.911283</td>\n",
       "      <td>-0.012656</td>\n",
       "      <td>-0.749220</td>\n",
       "    </tr>\n",
       "    <tr>\n",
       "      <th>3</th>\n",
       "      <td>-0.977285</td>\n",
       "      <td>2.019809</td>\n",
       "      <td>1.043577</td>\n",
       "      <td>-0.472172</td>\n",
       "      <td>-0.056826</td>\n",
       "      <td>1.520509</td>\n",
       "      <td>-0.567352</td>\n",
       "      <td>-0.947458</td>\n",
       "      <td>1.112684</td>\n",
       "      <td>-0.808942</td>\n",
       "      <td>-0.912020</td>\n",
       "      <td>-0.672844</td>\n",
       "      <td>-0.530786</td>\n",
       "      <td>-0.735786</td>\n",
       "      <td>0.584859</td>\n",
       "      <td>0.776066</td>\n",
       "      <td>0.580300</td>\n",
       "      <td>-0.100289</td>\n",
       "      <td>-0.856044</td>\n",
       "    </tr>\n",
       "    <tr>\n",
       "      <th>4</th>\n",
       "      <td>-0.845902</td>\n",
       "      <td>1.910720</td>\n",
       "      <td>0.145498</td>\n",
       "      <td>-0.723954</td>\n",
       "      <td>-0.530085</td>\n",
       "      <td>0.319899</td>\n",
       "      <td>-0.149105</td>\n",
       "      <td>-0.827516</td>\n",
       "      <td>1.245113</td>\n",
       "      <td>-0.800132</td>\n",
       "      <td>-0.702762</td>\n",
       "      <td>-0.049504</td>\n",
       "      <td>-0.671629</td>\n",
       "      <td>-0.014798</td>\n",
       "      <td>0.246837</td>\n",
       "      <td>0.245658</td>\n",
       "      <td>2.091967</td>\n",
       "      <td>-0.105131</td>\n",
       "      <td>-0.785176</td>\n",
       "    </tr>\n",
       "  </tbody>\n",
       "</table>\n",
       "</div>"
      ],
      "text/plain": [
       "          0         1         2         3         4         5         6   \\\n",
       "19                                                                         \n",
       "1  -0.774900  0.347888 -0.047486 -0.375541 -0.028664  2.411857 -0.427876   \n",
       "2  -0.866079  0.888199  0.018012 -0.638964 -0.453794  1.130580 -0.115776   \n",
       "3  -0.977285  2.019809  1.043577 -0.472172 -0.056826  1.520509 -0.567352   \n",
       "4  -0.845902  1.910720  0.145498 -0.723954 -0.530085  0.319899 -0.149105   \n",
       "\n",
       "          7         8         9         10        11        12        13  \\\n",
       "19                                                                         \n",
       "1  -0.742729  1.860261 -0.680843 -0.688428 -0.540042 -0.255504 -0.468997   \n",
       "2  -0.798859  2.826348 -0.797645 -0.689839 -0.535611 -0.548579 -0.339864   \n",
       "3  -0.947458  1.112684 -0.808942 -0.912020 -0.672844 -0.530786 -0.735786   \n",
       "4  -0.827516  1.245113 -0.800132 -0.702762 -0.049504 -0.671629 -0.014798   \n",
       "\n",
       "          14        15        16        17        18  \n",
       "19                                                    \n",
       "1   1.273786 -0.191637  0.258992 -0.243843 -0.686293  \n",
       "2   0.724513  0.047952  0.911283 -0.012656 -0.749220  \n",
       "3   0.584859  0.776066  0.580300 -0.100289 -0.856044  \n",
       "4   0.246837  0.245658  2.091967 -0.105131 -0.785176  "
      ]
     },
     "execution_count": 18,
     "metadata": {},
     "output_type": "execute_result"
    }
   ],
   "source": [
    "tmp = pd.DataFrame(X)\n",
    "tmp[19] = clusters_\n",
    "\n",
    "centroids_ = tmp.groupby([19]).mean()\n",
    "centroids_"
   ]
  },
  {
   "cell_type": "markdown",
   "metadata": {},
   "source": [
    "# Saving the Computed Results..."
   ]
  },
  {
   "cell_type": "code",
   "execution_count": 14,
   "metadata": {
    "collapsed": true
   },
   "outputs": [],
   "source": [
    "np.save('comp-data/3b-hierarchical-clustering-comp-data/clusters_.npy', clusters_)"
   ]
  },
  {
   "cell_type": "code",
   "execution_count": 19,
   "metadata": {
    "collapsed": true
   },
   "outputs": [],
   "source": [
    "np.save('comp-data/3b-hierarchical-clustering-comp-data/centroids_.npy', centroids_)"
   ]
  },
  {
   "cell_type": "markdown",
   "metadata": {},
   "source": [
    "# ~ END OF CHAPTER 3 - (AGGLOMERATIVE) HIERARCHICAL CLUSTERING ~"
   ]
  }
 ],
 "metadata": {
  "kernelspec": {
   "display_name": "Python [default]",
   "language": "python",
   "name": "python3"
  },
  "language_info": {
   "codemirror_mode": {
    "name": "ipython",
    "version": 3
   },
   "file_extension": ".py",
   "mimetype": "text/x-python",
   "name": "python",
   "nbconvert_exporter": "python",
   "pygments_lexer": "ipython3",
   "version": "3.5.4"
  }
 },
 "nbformat": 4,
 "nbformat_minor": 2
}
