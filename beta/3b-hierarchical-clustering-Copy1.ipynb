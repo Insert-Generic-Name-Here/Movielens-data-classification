{
 "cells": [
  {
   "cell_type": "markdown",
   "metadata": {},
   "source": [
    "# Importing libraries...\n",
    "  * #### The Cell #1 imports the essential matplotlib modules for displaying figures outside jupyter cell \n",
    "  * #### The Cell #2 imports the essessential numpy and scipy modules for our computations (including the agg. clustering)"
   ]
  },
  {
   "cell_type": "code",
   "execution_count": 1,
   "metadata": {
    "collapsed": true
   },
   "outputs": [],
   "source": [
    "import PyQt5\n",
    "from tqdm import tqdm\n",
    "import matplotlib.pyplot as plt\n",
    "from matplotlib import style;  style.use('ggplot')\n",
    "get_ipython().magic('matplotlib qt')"
   ]
  },
  {
   "cell_type": "code",
   "execution_count": 2,
   "metadata": {
    "collapsed": true
   },
   "outputs": [],
   "source": [
    "import numpy as np\n",
    "from scipy.cluster.hierarchy import dendrogram, linkage\n",
    "from scipy.cluster.hierarchy import fcluster"
   ]
  },
  {
   "cell_type": "markdown",
   "metadata": {},
   "source": [
    "# Loading Processed Data Matrix..."
   ]
  },
  {
   "cell_type": "code",
   "execution_count": 3,
   "metadata": {
    "collapsed": true
   },
   "outputs": [],
   "source": [
    "X = np.load('comp-data/1-preprocessing-comp-data/user-feature-set-gauss.npy')"
   ]
  },
  {
   "cell_type": "markdown",
   "metadata": {},
   "source": [
    "# Generating The Hierachical Clustering Dendrogram...\n",
    "  * #### Using Complete Linkage Method"
   ]
  },
  {
   "cell_type": "code",
   "execution_count": 4,
   "metadata": {
    "collapsed": true
   },
   "outputs": [],
   "source": [
    "# generate the linkage matrix\n",
    "ZC = linkage(X, 'complete')"
   ]
  },
  {
   "cell_type": "code",
   "execution_count": 7,
   "metadata": {
    "collapsed": true
   },
   "outputs": [],
   "source": [
    "# calculate full dendrogram\n",
    "plt.figure(1, figsize=(25, 10))\n",
    "plt.title('Hierarchical Clustering Dendrogram -- Complete-Linkage')\n",
    "plt.xlabel('X[i]')\n",
    "plt.ylabel('distance')\n",
    "dendrogram(\n",
    "    ZC,\n",
    "    leaf_rotation=90.,  # rotates the x axis labels\n",
    "    leaf_font_size=8.,  # font size for the x axis labels\n",
    ")\n",
    "plt.show()"
   ]
  },
  {
   "cell_type": "code",
   "execution_count": 6,
   "metadata": {
    "collapsed": true
   },
   "outputs": [],
   "source": [
    "plt.figure(2, figsize=(25, 10))\n",
    "plt.title('Hierarchical Clustering Dendrogram -- Complete-Linkage (truncated)')\n",
    "plt.xlabel('sample index')\n",
    "plt.ylabel('distance')\n",
    "dendrogram(\n",
    "    ZC,\n",
    "    truncate_mode='lastp',  # show only the last p merged clusters\n",
    "    p=20,  # show only the last p merged clusters\n",
    "    show_leaf_counts=False,  # otherwise numbers in brackets are counts\n",
    "    leaf_rotation=90.,\n",
    "    leaf_font_size=12.,\n",
    "    show_contracted=True,  # to get a distribution impression in truncated branches\n",
    ")\n",
    "plt.show()"
   ]
  },
  {
   "cell_type": "markdown",
   "metadata": {},
   "source": [
    "# Getting the number of Clusters... (trimming the dendrogram)"
   ]
  },
  {
   "cell_type": "code",
   "execution_count": 8,
   "metadata": {},
   "outputs": [
    {
     "data": {
      "text/plain": [
       "array([3, 5, 4, 4, 3, 4, 4, 4, 4, 5, 4, 4, 5, 4, 4, 4, 5, 8, 4, 7, 4, 4, 8,\n",
       "       4, 5, 6, 4, 5, 4, 3, 5, 6, 4, 5, 4, 4, 4, 4, 6, 2, 4, 4, 7, 2, 5, 5,\n",
       "       4, 4, 5, 4, 5, 4, 5, 8, 4, 5, 4, 1, 4, 4, 4, 5, 4, 8, 4, 4, 4, 4, 4,\n",
       "       4, 4, 4, 4, 4, 4, 5, 4, 4, 8, 4, 4, 4, 4, 5, 4, 5, 5, 5, 4, 4, 5, 4,\n",
       "       4, 4, 4, 5, 5, 5, 6, 4, 4, 4, 4, 4, 4, 5, 2, 5, 8, 4, 3, 8, 5, 9, 4,\n",
       "       8, 5, 4, 5, 9, 4, 4, 4, 4, 5, 4, 4, 4, 4, 5, 4, 8, 4, 4, 5, 4, 4, 4,\n",
       "       4, 5, 5, 4, 4, 4, 4, 4, 5, 6, 4, 4, 4, 5, 3, 4, 8, 4, 5, 5, 4, 4, 4,\n",
       "       4, 4, 5, 5, 5, 4, 8, 8, 4, 4, 4, 4, 4, 4, 4, 9, 8, 8, 5, 4, 9, 4, 5,\n",
       "       5, 4, 4, 7, 4, 4, 4, 4, 5, 8, 9, 4, 4, 4, 8, 7, 4, 4, 5, 8, 4, 4, 8,\n",
       "       2, 5, 4, 5, 5, 9, 4, 4, 4, 5, 2, 4, 4, 4, 4, 4, 4, 4, 5, 4, 4, 8, 8,\n",
       "       5, 5, 4, 4, 5, 4, 8, 4, 5, 5, 5, 3, 4, 3, 4, 4, 5, 4, 6, 4, 4, 4, 4,\n",
       "       8, 4, 4, 5, 5, 5, 4, 7, 8, 4, 4, 4, 4, 4, 5, 5, 4, 5, 4, 4, 4, 4, 4,\n",
       "       4, 4, 5, 5, 8, 5, 4, 4, 4, 5, 4, 5, 5, 5, 5, 6, 9, 5, 4, 8, 8, 5, 5,\n",
       "       5, 5, 4, 4, 4, 5, 4, 4, 8, 4, 6, 4, 4, 4, 5, 4, 4, 8, 4, 8, 4, 4, 9,\n",
       "       4, 4, 5, 8, 5, 4, 4, 4, 4, 4, 4, 4, 4, 3, 1, 1, 6, 6, 5, 5, 4, 5, 4,\n",
       "       6, 2, 5, 4, 4, 5, 5, 4, 4, 4, 5, 5, 6, 6, 5, 9, 5, 5, 5, 3, 5, 5, 5,\n",
       "       5, 5, 5, 5, 1, 6, 9, 5, 2, 2, 5, 5, 5, 4, 5, 4, 4, 5, 5, 9, 4, 4, 3,\n",
       "       3, 4, 5, 4, 4, 4, 6, 5, 4, 5, 5, 9, 5, 4, 5, 4, 4, 5, 5, 3, 5, 5, 4,\n",
       "       5, 4, 5, 4, 5, 4, 5, 4, 6, 5, 5, 4, 4, 5, 4, 4, 6, 3, 5, 5, 4, 5, 4,\n",
       "       5, 4, 5, 9, 5, 2, 9, 5, 4, 4, 1, 5, 4, 5, 5, 5, 4, 4, 5, 5, 4, 4, 5,\n",
       "       4, 5, 4, 4, 5, 5, 9, 6, 9, 5, 5, 4, 4, 5, 5, 4, 5, 5, 5, 5, 4, 6, 5,\n",
       "       6, 1, 5, 5, 4, 5, 5, 5, 6, 6, 5, 4, 5, 5, 8, 5, 5, 5, 5, 5, 5, 6, 5,\n",
       "       5, 4, 1, 5, 5, 5, 6, 6, 6, 6, 5, 5, 3, 4, 5, 4, 5, 1, 2, 5, 5, 5, 8,\n",
       "       6, 9, 6, 5, 5, 5, 4, 6, 9, 9, 5, 5, 5, 4, 4, 4, 5, 9, 5, 2, 5, 5, 5,\n",
       "       4, 5, 4, 9, 5, 9, 6, 5, 5, 6, 5, 6, 9, 5, 3, 5, 5, 5, 9, 4, 5, 9, 5,\n",
       "       5, 5, 5, 5, 6, 5, 6, 6, 5, 1, 3, 5, 5, 5, 1, 1, 5, 3, 6, 5, 4, 6, 5,\n",
       "       5, 5, 3, 2, 2, 5, 2, 4, 3, 3, 6, 5, 2, 3, 5, 3, 5, 2, 2, 4, 4, 4, 4,\n",
       "       3, 5, 4, 5, 4, 4, 4, 4, 4, 4, 4, 4, 5, 4, 4, 4, 4, 4, 5, 5, 5, 5, 6,\n",
       "       6, 5, 5, 5, 4, 3, 9, 6, 6, 5, 6, 5, 6, 5, 3, 6, 9, 5, 5, 4, 5, 8, 3,\n",
       "       6, 5, 5, 6, 6, 5, 5, 5, 4, 5, 6, 4, 6, 3, 5, 4, 5, 9, 4, 6, 5, 6, 9,\n",
       "       3, 9, 5, 5, 3, 5, 5, 5, 9, 6, 5, 5, 6, 6, 3, 9, 4, 6, 6, 5, 5, 5, 5,\n",
       "       5, 6, 6, 6, 9, 5, 6, 5, 5, 4, 2, 2, 6, 4, 6, 5, 6, 5, 6, 5, 9, 9, 6,\n",
       "       5, 9, 5, 4, 4, 4, 5, 9, 9, 6, 9, 8, 6, 4, 5, 5, 5, 5, 4, 5, 5, 6, 6,\n",
       "       5, 4, 9, 6, 6, 5, 6, 6, 2, 5, 6, 5, 9, 5, 4, 5, 2, 5, 3, 2, 5, 5, 4,\n",
       "       6, 4, 3, 6, 5, 5, 1, 2, 5, 4, 5, 5, 8, 4, 4, 4, 2, 5, 4, 6, 5, 4, 6,\n",
       "       5, 5, 5, 5, 5, 9, 5, 8, 6, 6, 5, 6, 4, 9, 5, 2, 4, 3, 5, 6, 5, 4, 4,\n",
       "       4, 5, 5, 4, 8, 5, 4, 4, 5, 4, 5, 5, 5, 1, 2, 4, 5, 3, 6, 4, 4, 5, 5,\n",
       "       7, 9, 7, 5, 7, 7, 4, 4, 4, 5, 3, 4, 7, 4, 5, 5, 7, 4, 5, 3, 3, 4, 2,\n",
       "       8, 3, 8, 8, 8, 4, 8, 4, 4, 4, 4, 3, 4, 4, 8, 8, 4, 8, 4, 5, 5, 8, 8,\n",
       "       8, 4, 4, 3, 2, 5, 4, 4, 8, 5, 4, 4, 8, 4, 4, 4, 8, 8, 8, 9, 8, 8, 8,\n",
       "       8, 9, 8, 5, 3, 2, 4, 4, 2, 4, 9, 4, 8, 4, 4, 4, 4, 4, 8, 5, 8, 4, 9], dtype=int32)"
      ]
     },
     "execution_count": 8,
     "metadata": {},
     "output_type": "execute_result"
    }
   ],
   "source": [
    "max_d = 4.78\n",
    "clusters_ = fcluster(ZC, max_d, criterion='distance')\n",
    "clusters_"
   ]
  },
  {
   "cell_type": "markdown",
   "metadata": {},
   "source": [
    "# Getting the -optimal- number of Clusters... (k-means elbow method)\n",
    "  * #### As seen in the above dendrogram if we \"trim\" the tree in a certain distance point, we have from 2 to 9 clusters.\n",
    "  * #### Running k-means for k = 2, 3, 4, 5, 6, 7, 8, 9 - and optionally 10 - and applying the elbow method should tell us the optimal number of clusters"
   ]
  },
  {
   "cell_type": "markdown",
   "metadata": {},
   "source": [
    "  * ### Importing sklearn essential libraries for k-means and scipy"
   ]
  },
  {
   "cell_type": "code",
   "execution_count": 9,
   "metadata": {
    "collapsed": true
   },
   "outputs": [],
   "source": [
    "from sklearn.cluster import KMeans\n",
    "from sklearn import metrics\n",
    "from scipy.spatial.distance import cdist"
   ]
  },
  {
   "cell_type": "code",
   "execution_count": 10,
   "metadata": {},
   "outputs": [
    {
     "name": "stderr",
     "output_type": "stream",
     "text": [
      "100%|██████████████████████████████████████████████████████████████████████████████████| 10/10 [01:10<00:00,  7.05s/it]\n"
     ]
    }
   ],
   "source": [
    "# k means determine optimal k\n",
    "distortions = []\n",
    "K = [1, 2, 3, 4, 5, 6, 7, 8, 9, 10]\n",
    "for k in tqdm(K):\n",
    "    kmeanTest = KMeans(n_clusters=k, n_init=20, n_jobs=-1, precompute_distances=True, random_state=0, verbose=2)\n",
    "    kmeanTest.fit(X); kmeanTest.fit(X)\n",
    "    distortions.append(sum(np.min(cdist(X, kmeanTest.cluster_centers_, 'euclidean'), axis=1)) / X.shape[0])\n",
    " \n",
    "# Plot the elbow\n",
    "plt.figure(2, figsize=(25, 10))\n",
    "plt.plot(K, distortions, 'bx-')\n",
    "plt.xlabel('k')\n",
    "plt.ylabel('Distortion')\n",
    "plt.title('The Elbow Method showing the optimal k')\n",
    "plt.show()"
   ]
  },
  {
   "cell_type": "markdown",
   "metadata": {},
   "source": [
    " * #### From the elbow method we saw that the optimal number of clusters is 4 (as much as BSAS suggested)\n",
    " * #### So, we trim the dendrogram at max_d = 6.10"
   ]
  },
  {
   "cell_type": "code",
   "execution_count": 11,
   "metadata": {},
   "outputs": [
    {
     "data": {
      "text/plain": [
       "array([1, 2, 2, 2, 1, 2, 2, 2, 2, 2, 2, 2, 2, 2, 2, 2, 2, 4, 2, 4, 2, 2, 4,\n",
       "       2, 2, 3, 2, 2, 2, 1, 2, 3, 2, 2, 2, 2, 2, 2, 3, 1, 2, 2, 4, 1, 2, 2,\n",
       "       2, 2, 2, 2, 2, 2, 2, 4, 2, 2, 2, 1, 2, 2, 2, 2, 2, 4, 2, 2, 2, 2, 2,\n",
       "       2, 2, 2, 2, 2, 2, 2, 2, 2, 4, 2, 2, 2, 2, 2, 2, 2, 2, 2, 2, 2, 2, 2,\n",
       "       2, 2, 2, 2, 2, 2, 3, 2, 2, 2, 2, 2, 2, 2, 1, 2, 4, 2, 1, 4, 2, 4, 2,\n",
       "       4, 2, 2, 2, 4, 2, 2, 2, 2, 2, 2, 2, 2, 2, 2, 2, 4, 2, 2, 2, 2, 2, 2,\n",
       "       2, 2, 2, 2, 2, 2, 2, 2, 2, 3, 2, 2, 2, 2, 1, 2, 4, 2, 2, 2, 2, 2, 2,\n",
       "       2, 2, 2, 2, 2, 2, 4, 4, 2, 2, 2, 2, 2, 2, 2, 4, 4, 4, 2, 2, 4, 2, 2,\n",
       "       2, 2, 2, 4, 2, 2, 2, 2, 2, 4, 4, 2, 2, 2, 4, 4, 2, 2, 2, 4, 2, 2, 4,\n",
       "       1, 2, 2, 2, 2, 4, 2, 2, 2, 2, 1, 2, 2, 2, 2, 2, 2, 2, 2, 2, 2, 4, 4,\n",
       "       2, 2, 2, 2, 2, 2, 4, 2, 2, 2, 2, 1, 2, 1, 2, 2, 2, 2, 3, 2, 2, 2, 2,\n",
       "       4, 2, 2, 2, 2, 2, 2, 4, 4, 2, 2, 2, 2, 2, 2, 2, 2, 2, 2, 2, 2, 2, 2,\n",
       "       2, 2, 2, 2, 4, 2, 2, 2, 2, 2, 2, 2, 2, 2, 2, 3, 4, 2, 2, 4, 4, 2, 2,\n",
       "       2, 2, 2, 2, 2, 2, 2, 2, 4, 2, 3, 2, 2, 2, 2, 2, 2, 4, 2, 4, 2, 2, 4,\n",
       "       2, 2, 2, 4, 2, 2, 2, 2, 2, 2, 2, 2, 2, 1, 1, 1, 3, 3, 2, 2, 2, 2, 2,\n",
       "       3, 1, 2, 2, 2, 2, 2, 2, 2, 2, 2, 2, 3, 3, 2, 4, 2, 2, 2, 1, 2, 2, 2,\n",
       "       2, 2, 2, 2, 1, 3, 4, 2, 1, 1, 2, 2, 2, 2, 2, 2, 2, 2, 2, 4, 2, 2, 1,\n",
       "       1, 2, 2, 2, 2, 2, 3, 2, 2, 2, 2, 4, 2, 2, 2, 2, 2, 2, 2, 1, 2, 2, 2,\n",
       "       2, 2, 2, 2, 2, 2, 2, 2, 3, 2, 2, 2, 2, 2, 2, 2, 3, 1, 2, 2, 2, 2, 2,\n",
       "       2, 2, 2, 4, 2, 1, 4, 2, 2, 2, 1, 2, 2, 2, 2, 2, 2, 2, 2, 2, 2, 2, 2,\n",
       "       2, 2, 2, 2, 2, 2, 4, 3, 4, 2, 2, 2, 2, 2, 2, 2, 2, 2, 2, 2, 2, 3, 2,\n",
       "       3, 1, 2, 2, 2, 2, 2, 2, 3, 3, 2, 2, 2, 2, 4, 2, 2, 2, 2, 2, 2, 3, 2,\n",
       "       2, 2, 1, 2, 2, 2, 3, 3, 3, 3, 2, 2, 1, 2, 2, 2, 2, 1, 1, 2, 2, 2, 4,\n",
       "       3, 4, 3, 2, 2, 2, 2, 3, 4, 4, 2, 2, 2, 2, 2, 2, 2, 4, 2, 1, 2, 2, 2,\n",
       "       2, 2, 2, 4, 2, 4, 3, 2, 2, 3, 2, 3, 4, 2, 1, 2, 2, 2, 4, 2, 2, 4, 2,\n",
       "       2, 2, 2, 2, 3, 2, 3, 3, 2, 1, 1, 2, 2, 2, 1, 1, 2, 1, 3, 2, 2, 3, 2,\n",
       "       2, 2, 1, 1, 1, 2, 1, 2, 1, 1, 3, 2, 1, 1, 2, 1, 2, 1, 1, 2, 2, 2, 2,\n",
       "       1, 2, 2, 2, 2, 2, 2, 2, 2, 2, 2, 2, 2, 2, 2, 2, 2, 2, 2, 2, 2, 2, 3,\n",
       "       3, 2, 2, 2, 2, 1, 4, 3, 3, 2, 3, 2, 3, 2, 1, 3, 4, 2, 2, 2, 2, 4, 1,\n",
       "       3, 2, 2, 3, 3, 2, 2, 2, 2, 2, 3, 2, 3, 1, 2, 2, 2, 4, 2, 3, 2, 3, 4,\n",
       "       1, 4, 2, 2, 1, 2, 2, 2, 4, 3, 2, 2, 3, 3, 1, 4, 2, 3, 3, 2, 2, 2, 2,\n",
       "       2, 3, 3, 3, 4, 2, 3, 2, 2, 2, 1, 1, 3, 2, 3, 2, 3, 2, 3, 2, 4, 4, 3,\n",
       "       2, 4, 2, 2, 2, 2, 2, 4, 4, 3, 4, 4, 3, 2, 2, 2, 2, 2, 2, 2, 2, 3, 3,\n",
       "       2, 2, 4, 3, 3, 2, 3, 3, 1, 2, 3, 2, 4, 2, 2, 2, 1, 2, 1, 1, 2, 2, 2,\n",
       "       3, 2, 1, 3, 2, 2, 1, 1, 2, 2, 2, 2, 4, 2, 2, 2, 1, 2, 2, 3, 2, 2, 3,\n",
       "       2, 2, 2, 2, 2, 4, 2, 4, 3, 3, 2, 3, 2, 4, 2, 1, 2, 1, 2, 3, 2, 2, 2,\n",
       "       2, 2, 2, 2, 4, 2, 2, 2, 2, 2, 2, 2, 2, 1, 1, 2, 2, 1, 3, 2, 2, 2, 2,\n",
       "       4, 4, 4, 2, 4, 4, 2, 2, 2, 2, 1, 2, 4, 2, 2, 2, 4, 2, 2, 1, 1, 2, 1,\n",
       "       4, 1, 4, 4, 4, 2, 4, 2, 2, 2, 2, 1, 2, 2, 4, 4, 2, 4, 2, 2, 2, 4, 4,\n",
       "       4, 2, 2, 1, 1, 2, 2, 2, 4, 2, 2, 2, 4, 2, 2, 2, 4, 4, 4, 4, 4, 4, 4,\n",
       "       4, 4, 4, 2, 1, 1, 2, 2, 1, 2, 4, 2, 4, 2, 2, 2, 2, 2, 4, 2, 4, 2, 4], dtype=int32)"
      ]
     },
     "execution_count": 11,
     "metadata": {},
     "output_type": "execute_result"
    }
   ],
   "source": [
    "max_d = 6.10\n",
    "clusters_ = fcluster(ZC, max_d, criterion='distance')\n",
    "clusters_"
   ]
  },
  {
   "cell_type": "markdown",
   "metadata": {},
   "source": [
    "# Saving the Computed Results..."
   ]
  },
  {
   "cell_type": "code",
   "execution_count": 14,
   "metadata": {
    "collapsed": true
   },
   "outputs": [],
   "source": [
    "np.save('comp-data/3b-hierarchical-clustering-comp-data/clusters_.npy', clusters_)"
   ]
  },
  {
   "cell_type": "markdown",
   "metadata": {},
   "source": [
    "# ~ END OF CHAPTER 3 - (AGGLOMERATIVE) HIERARCHICAL CLUSTERING ~"
   ]
  }
 ],
 "metadata": {
  "kernelspec": {
   "display_name": "Python [default]",
   "language": "python",
   "name": "python3"
  },
  "language_info": {
   "codemirror_mode": {
    "name": "ipython",
    "version": 3
   },
   "file_extension": ".py",
   "mimetype": "text/x-python",
   "name": "python",
   "nbconvert_exporter": "python",
   "pygments_lexer": "ipython3",
   "version": "3.5.4"
  }
 },
 "nbformat": 4,
 "nbformat_minor": 2
}
