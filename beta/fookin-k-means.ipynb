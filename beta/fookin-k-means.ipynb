{
 "cells": [
  {
   "cell_type": "code",
   "execution_count": 12,
   "metadata": {
    "collapsed": true
   },
   "outputs": [],
   "source": [
    "import PyQt5\n",
    "get_ipython().magic('matplotlib qt')"
   ]
  },
  {
   "cell_type": "code",
   "execution_count": 1,
   "metadata": {
    "collapsed": true
   },
   "outputs": [],
   "source": [
    "from tqdm import tqdm\n",
    "from tqdm import tqdm_notebook\n",
    "import numpy as np\n",
    "import matplotlib.pyplot as plt\n",
    "from matplotlib import style;  style.use('ggplot')\n",
    "from sklearn.datasets.samples_generator import make_blobs\n",
    "from sklearn.cluster import KMeans"
   ]
  },
  {
   "cell_type": "code",
   "execution_count": 4,
   "metadata": {
    "collapsed": true
   },
   "outputs": [],
   "source": [
    "X, y = make_blobs(n_samples=943, centers=3, n_features=2)"
   ]
  },
  {
   "cell_type": "code",
   "execution_count": 6,
   "metadata": {
    "collapsed": true
   },
   "outputs": [],
   "source": [
    "colors = 10*['g', 'c', 'b', 'k']"
   ]
  },
  {
   "cell_type": "code",
   "execution_count": 5,
   "metadata": {
    "collapsed": true
   },
   "outputs": [
    {
     "data": {
      "image/png": "[encoded data removed]",
      "text/plain": [
       "<matplotlib.figure.Figure at 0x1f5e15519b0>"
      ]
     },
     "metadata": {},
     "output_type": "display_data"
    }
   ],
   "source": [
    "plt.scatter(X[:,0], X[:,1])\n",
    "plt.show()"
   ]
  },
  {
   "cell_type": "code",
   "execution_count": 2,
   "metadata": {
    "collapsed": true
   },
   "outputs": [],
   "source": [
    "X = np.load('FOOKIN_df.npy')"
   ]
  },
  {
   "cell_type": "code",
   "execution_count": 11,
   "metadata": {},
   "outputs": [
    {
     "data": {
      "text/plain": [
       "KMeans(algorithm='auto', copy_x=True, init='k-means++', max_iter=300,\n",
       "    n_clusters=2, n_init=20, n_jobs=-1, precompute_distances=True,\n",
       "    random_state=0, tol=0.0001, verbose=2)"
      ]
     },
     "execution_count": 11,
     "metadata": {},
     "output_type": "execute_result"
    }
   ],
   "source": [
    "kmeans = KMeans(n_clusters=2, n_init=20, n_jobs=-1, precompute_distances=True, random_state=0, verbose=2)\n",
    "kmeans.fit(X)"
   ]
  },
  {
   "cell_type": "code",
   "execution_count": 8,
   "metadata": {},
   "outputs": [
    {
     "data": {
      "text/plain": [
       "array([0, 0, 0, 0, 0, 2, 0, 3, 3, 0, 3, 0, 4, 0, 2, 5, 2, 0, 0, 2, 0, 0, 0,\n",
       "       0, 4, 0, 3, 5, 0, 2, 0, 0, 0, 4, 0, 3, 5, 2, 0, 0, 0, 0, 0, 0, 2, 0,\n",
       "       0, 0, 2, 0, 2, 0, 0, 0, 2, 0, 0, 0, 0, 0, 0, 4, 3, 0, 3, 0, 0, 0, 0,\n",
       "       0, 0, 0, 0, 0, 3, 0, 0, 0, 0, 0, 0, 3, 3, 0, 0, 0, 3, 0, 0, 0, 5, 2,\n",
       "       2, 0, 0, 2, 0, 0, 5, 0, 2, 3, 0, 3, 0, 2, 0, 2, 2, 0, 2, 2, 4, 2, 2,\n",
       "       0, 5, 0, 4, 4, 0, 5, 2, 0, 0, 3, 0, 0, 2, 5, 0, 0, 0, 0, 5, 0, 0, 2,\n",
       "       0, 4, 0, 0, 3, 0, 0, 0, 1, 4, 0, 2, 0, 4, 1, 0, 0, 3, 4, 4, 0, 0, 2,\n",
       "       0, 0, 2, 4, 0, 3, 2, 2, 3, 2, 0, 0, 3, 0, 3, 2, 0, 0, 3, 2, 2, 0, 0,\n",
       "       0, 0, 2, 0, 3, 5, 0, 0, 0, 2, 0, 0, 5, 0, 0, 2, 0, 3, 4, 0, 0, 3, 0,\n",
       "       0, 2, 0, 0, 2, 2, 0, 2, 0, 0, 0, 2, 2, 2, 3, 0, 0, 2, 4, 2, 3, 0, 0,\n",
       "       3, 4, 0, 0, 2, 3, 0, 0, 3, 2, 5, 3, 0, 1, 0, 3, 4, 0, 2, 0, 0, 0, 0,\n",
       "       0, 3, 2, 2, 2, 1, 0, 2, 0, 0, 2, 3, 0, 0, 2, 0, 0, 4, 0, 0, 0, 0, 0,\n",
       "       0, 2, 3, 1, 0, 0, 0, 0, 0, 1, 0, 4, 2, 2, 2, 0, 0, 2, 0, 0, 0, 2, 3,\n",
       "       5, 2, 2, 5, 0, 2, 0, 0, 0, 0, 5, 0, 2, 0, 0, 2, 0, 0, 0, 0, 0, 2, 4,\n",
       "       0, 0, 0, 0, 4, 1, 0, 0, 2, 0, 0, 0, 2, 1, 1, 1, 1, 4, 4, 1, 1, 1, 2,\n",
       "       1, 2, 4, 2, 2, 2, 5, 2, 1, 3, 4, 5, 4, 5, 5, 4, 4, 1, 1, 2, 4, 2, 5,\n",
       "       4, 2, 4, 2, 1, 1, 4, 2, 1, 2, 2, 5, 0, 2, 2, 0, 0, 0, 0, 0, 3, 0, 0,\n",
       "       1, 0, 2, 3, 0, 0, 0, 0, 0, 0, 0, 0, 4, 2, 0, 0, 0, 1, 2, 2, 2, 3, 0,\n",
       "       2, 2, 0, 0, 0, 2, 2, 0, 1, 1, 4, 3, 3, 1, 2, 2, 1, 2, 0, 5, 2, 4, 2,\n",
       "       2, 3, 5, 0, 4, 0, 4, 2, 2, 2, 2, 2, 2, 4, 1, 1, 0, 0, 1, 4, 2, 2, 5,\n",
       "       0, 2, 2, 0, 4, 2, 4, 4, 4, 2, 2, 3, 0, 4, 4, 0, 1, 3, 3, 4, 0, 4, 1,\n",
       "       5, 1, 1, 0, 0, 0, 4, 2, 2, 4, 1, 3, 3, 2, 0, 0, 2, 2, 0, 5, 4, 0, 2,\n",
       "       5, 3, 1, 4, 1, 1, 1, 1, 2, 1, 0, 1, 0, 5, 2, 0, 1, 0, 1, 4, 2, 2, 0,\n",
       "       1, 0, 2, 4, 4, 0, 0, 1, 0, 4, 2, 4, 1, 0, 5, 2, 0, 2, 4, 1, 1, 2, 2,\n",
       "       2, 4, 2, 2, 2, 4, 4, 0, 2, 5, 2, 1, 2, 2, 0, 4, 4, 5, 1, 2, 0, 2, 1,\n",
       "       2, 2, 2, 1, 1, 2, 2, 4, 2, 1, 1, 2, 4, 3, 1, 0, 5, 2, 2, 0, 2, 1, 0,\n",
       "       2, 2, 2, 2, 1, 2, 2, 2, 0, 0, 4, 0, 0, 0, 3, 0, 0, 0, 0, 0, 0, 0, 0,\n",
       "       0, 2, 0, 0, 0, 0, 0, 2, 0, 0, 0, 0, 2, 0, 0, 0, 0, 0, 0, 0, 0, 1, 0,\n",
       "       0, 0, 0, 0, 2, 0, 0, 0, 0, 0, 1, 0, 0, 0, 0, 0, 0, 2, 0, 0, 0, 0, 2,\n",
       "       0, 0, 2, 1, 0, 0, 0, 2, 0, 0, 0, 0, 0, 0, 0, 0, 0, 0, 0, 0, 0, 0, 0,\n",
       "       0, 0, 2, 0, 0, 0, 0, 0, 0, 0, 0, 2, 1, 0, 0, 0, 0, 2, 2, 0, 2, 0, 2,\n",
       "       0, 0, 2, 0, 0, 0, 2, 2, 0, 0, 0, 0, 0, 0, 0, 0, 2, 0, 0, 2, 2, 0, 0,\n",
       "       0, 0, 2, 0, 0, 0, 0, 0, 0, 0, 0, 0, 0, 2, 0, 2, 2, 0, 0, 0, 2, 0, 0,\n",
       "       0, 2, 2, 0, 0, 2, 0, 0, 0, 0, 0, 0, 0, 0, 0, 4, 0, 0, 0, 0, 0, 2, 0,\n",
       "       0, 0, 0, 1, 0, 0, 1, 0, 0, 0, 0, 2, 0, 0, 0, 2, 0, 2, 0, 0, 0, 2, 0,\n",
       "       0, 2, 2, 0, 0, 0, 0, 0, 0, 0, 0, 0, 0, 0, 2, 0, 0, 0, 0, 0, 0, 0, 0,\n",
       "       2, 0, 0, 0, 0, 0, 0, 0, 2, 0, 0, 0, 0, 0, 0, 0, 0, 0, 0, 0, 0, 0, 0,\n",
       "       0, 2, 0, 0, 0, 0, 0, 0, 0, 0, 0, 0, 0, 0, 0, 0, 0, 0, 0, 0, 0, 0, 0,\n",
       "       0, 0, 0, 0, 0, 0, 0, 0, 0, 0, 0, 0, 0, 0, 0, 0, 0, 0, 0, 0, 0, 0, 0,\n",
       "       0, 0, 0, 0, 0, 0, 0, 0, 0, 0, 0, 0, 0, 0, 0, 0, 0, 0, 0, 0, 0, 0, 0,\n",
       "       0, 0, 0, 0, 0, 0, 0, 0, 0, 0, 0, 0, 0, 0, 0, 0, 0, 0, 0, 0, 0, 0, 0])"
      ]
     },
     "execution_count": 8,
     "metadata": {},
     "output_type": "execute_result"
    }
   ],
   "source": [
    "kmeans.labels_"
   ]
  },
  {
   "cell_type": "code",
   "execution_count": 10,
   "metadata": {
    "collapsed": true
   },
   "outputs": [
    {
     "data": {
      "text/plain": [
       "array([2, 2])"
      ]
     },
     "execution_count": 10,
     "metadata": {},
     "output_type": "execute_result"
    }
   ],
   "source": [
    "kmeans.predict([[0, 0], [4, 4]])"
   ]
  },
  {
   "cell_type": "code",
   "execution_count": 9,
   "metadata": {
    "collapsed": true
   },
   "outputs": [
    {
     "data": {
      "text/plain": [
       "array([[  1.86219739e-03,   6.44058426e-02,   5.90260143e-02,\n",
       "          3.02089799e-02,   2.63811297e-02,   5.00400528e-02,\n",
       "          6.79131988e-02,   1.56643663e-02,   4.74162011e-02,\n",
       "          2.31928221e-02,   4.33271260e-02,   4.05657054e-02,\n",
       "          3.35195531e-02,   1.08240223e-01,   6.73953526e-02,\n",
       "          6.22260421e-02,   7.40705066e-02,   9.27374302e-02,\n",
       "          1.97858473e-02],\n",
       "       [  1.53846154e-02,   2.96153846e-01,   4.05827506e-01,\n",
       "          4.40455840e-01,   3.82564103e-01,   2.88182209e-01,\n",
       "          1.52904239e-01,   3.43891403e-02,   1.63557692e-01,\n",
       "          3.14685315e-01,   9.64102564e-02,   1.77130977e-01,\n",
       "          4.55086849e-01,   2.08333333e-01,   2.75451505e-01,\n",
       "          3.21420118e-01,   2.07692308e-01,   3.42307692e-01,\n",
       "          2.00000000e-01],\n",
       "       [  5.18134715e-03,   2.03853627e-01,   2.04270686e-01,\n",
       "          1.16292458e-01,   9.38687392e-02,   1.59377080e-01,\n",
       "          1.82721793e-01,   4.32794880e-02,   1.34715026e-01,\n",
       "          9.32642487e-02,   1.39896373e-01,   1.29953788e-01,\n",
       "          1.45244860e-01,   2.34671848e-01,   1.81211985e-01,\n",
       "          2.04065365e-01,   2.02742541e-01,   2.75906736e-01,\n",
       "          1.15608808e-01],\n",
       "       [ -1.04083409e-17,   3.00000000e-01,   3.32121212e-01,\n",
       "          2.31851852e-01,   1.78333333e-01,   3.70502793e-01,\n",
       "          3.77551020e-01,   2.16470588e-01,   3.54125000e-01,\n",
       "          1.94545455e-01,   4.92000000e-01,   2.38918919e-01,\n",
       "          3.89032258e-01,   5.80833333e-01,   4.03826087e-01,\n",
       "          3.36615385e-01,   3.54827586e-01,   5.82000000e-01,\n",
       "          3.17500000e-01],\n",
       "       [  6.06060606e-02,   4.98697917e-01,   4.96326905e-01,\n",
       "          2.61503928e-01,   1.90404040e-01,   2.90418148e-01,\n",
       "          3.36116265e-01,   4.81283422e-02,   1.97821970e-01,\n",
       "          2.42424242e-01,   1.75757576e-01,   3.20638821e-01,\n",
       "          2.58064516e-01,   3.08080808e-01,   2.77338603e-01,\n",
       "          4.69930070e-01,   4.00208986e-01,   4.74621212e-01,\n",
       "          3.30492424e-01],\n",
       "       [  3.12500000e-02,   6.66015625e-01,   7.32481061e-01,\n",
       "          5.20833333e-01,   4.83854167e-01,   5.72800279e-01,\n",
       "          5.03826531e-01,   1.47058824e-01,   3.73535156e-01,\n",
       "          5.02840909e-01,   4.16666667e-01,   5.19425676e-01,\n",
       "          6.25000000e-01,   6.14583333e-01,   4.97826087e-01,\n",
       "          6.18750000e-01,   5.85129310e-01,   6.56250000e-01,\n",
       "          5.19531250e-01]])"
      ]
     },
     "execution_count": 9,
     "metadata": {},
     "output_type": "execute_result"
    }
   ],
   "source": [
    "kmeans.cluster_centers_"
   ]
  },
  {
   "cell_type": "code",
   "execution_count": 10,
   "metadata": {},
   "outputs": [
    {
     "data": {
      "text/plain": [
       "131.71248221322782"
      ]
     },
     "execution_count": 10,
     "metadata": {},
     "output_type": "execute_result"
    }
   ],
   "source": [
    "kmeans.inertia_"
   ]
  }
 ],
 "metadata": {
  "kernelspec": {
   "display_name": "Python [default]",
   "language": "python",
   "name": "python3"
  },
  "language_info": {
   "codemirror_mode": {
    "name": "ipython",
    "version": 3
   },
   "file_extension": ".py",
   "mimetype": "text/x-python",
   "name": "python",
   "nbconvert_exporter": "python",
   "pygments_lexer": "ipython3",
   "version": "3.5.4"
  }
 },
 "nbformat": 4,
 "nbformat_minor": 2
}
