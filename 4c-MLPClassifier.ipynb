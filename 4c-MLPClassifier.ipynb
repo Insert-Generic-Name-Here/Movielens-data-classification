{
 "cells": [
  {
   "cell_type": "code",
   "execution_count": 23,
   "metadata": {
    "collapsed": true
   },
   "outputs": [],
   "source": [
    "import numpy as np\n",
    "import pandas as pd\n",
    "from sklearn import preprocessing\n",
    "from tqdm import tqdm,tqdm_notebook\n",
    "\n",
    "from sklearn.model_selection import RepeatedKFold\n",
    "from sklearn.neural_network import MLPClassifier"
   ]
  },
  {
   "cell_type": "markdown",
   "metadata": {},
   "source": [
    "## Read CSV's"
   ]
  },
  {
   "cell_type": "code",
   "execution_count": 24,
   "metadata": {
    "collapsed": true
   },
   "outputs": [],
   "source": [
    "df3 = pd.read_csv('comp-data/4a-training-dataset-creation/train.csv')"
   ]
  },
  {
   "cell_type": "code",
   "execution_count": 25,
   "metadata": {},
   "outputs": [
    {
     "data": {
      "text/html": [
       "<div>\n",
       "<style>\n",
       "    .dataframe thead tr:only-child th {\n",
       "        text-align: right;\n",
       "    }\n",
       "\n",
       "    .dataframe thead th {\n",
       "        text-align: left;\n",
       "    }\n",
       "\n",
       "    .dataframe tbody tr th {\n",
       "        vertical-align: top;\n",
       "    }\n",
       "</style>\n",
       "<table border=\"1\" class=\"dataframe\">\n",
       "  <thead>\n",
       "    <tr style=\"text-align: right;\">\n",
       "      <th></th>\n",
       "      <th>age</th>\n",
       "      <th>gender</th>\n",
       "      <th>zip code</th>\n",
       "      <th>ocupation</th>\n",
       "      <th>target</th>\n",
       "      <th>unknown</th>\n",
       "      <th>Action</th>\n",
       "      <th>Adventure</th>\n",
       "      <th>Animation</th>\n",
       "      <th>Children's</th>\n",
       "      <th>...</th>\n",
       "      <th>Film-Noir</th>\n",
       "      <th>Horror</th>\n",
       "      <th>Musical</th>\n",
       "      <th>Mystery</th>\n",
       "      <th>Romance</th>\n",
       "      <th>Sci-Fi</th>\n",
       "      <th>Thriller</th>\n",
       "      <th>War</th>\n",
       "      <th>Western</th>\n",
       "      <th>release-year</th>\n",
       "    </tr>\n",
       "  </thead>\n",
       "  <tbody>\n",
       "    <tr>\n",
       "      <th>0</th>\n",
       "      <td>2</td>\n",
       "      <td>0</td>\n",
       "      <td>85711</td>\n",
       "      <td>0</td>\n",
       "      <td>1</td>\n",
       "      <td>0</td>\n",
       "      <td>0</td>\n",
       "      <td>0</td>\n",
       "      <td>0</td>\n",
       "      <td>0</td>\n",
       "      <td>...</td>\n",
       "      <td>0</td>\n",
       "      <td>0</td>\n",
       "      <td>0</td>\n",
       "      <td>0</td>\n",
       "      <td>0</td>\n",
       "      <td>0</td>\n",
       "      <td>0</td>\n",
       "      <td>0</td>\n",
       "      <td>0</td>\n",
       "      <td>1994</td>\n",
       "    </tr>\n",
       "    <tr>\n",
       "      <th>1</th>\n",
       "      <td>4</td>\n",
       "      <td>0</td>\n",
       "      <td>29206</td>\n",
       "      <td>7</td>\n",
       "      <td>1</td>\n",
       "      <td>0</td>\n",
       "      <td>0</td>\n",
       "      <td>0</td>\n",
       "      <td>0</td>\n",
       "      <td>0</td>\n",
       "      <td>...</td>\n",
       "      <td>0</td>\n",
       "      <td>0</td>\n",
       "      <td>0</td>\n",
       "      <td>0</td>\n",
       "      <td>0</td>\n",
       "      <td>0</td>\n",
       "      <td>0</td>\n",
       "      <td>0</td>\n",
       "      <td>0</td>\n",
       "      <td>1994</td>\n",
       "    </tr>\n",
       "    <tr>\n",
       "      <th>2</th>\n",
       "      <td>3</td>\n",
       "      <td>1</td>\n",
       "      <td>37212</td>\n",
       "      <td>1</td>\n",
       "      <td>1</td>\n",
       "      <td>0</td>\n",
       "      <td>0</td>\n",
       "      <td>0</td>\n",
       "      <td>0</td>\n",
       "      <td>0</td>\n",
       "      <td>...</td>\n",
       "      <td>0</td>\n",
       "      <td>0</td>\n",
       "      <td>0</td>\n",
       "      <td>0</td>\n",
       "      <td>0</td>\n",
       "      <td>0</td>\n",
       "      <td>0</td>\n",
       "      <td>0</td>\n",
       "      <td>0</td>\n",
       "      <td>1994</td>\n",
       "    </tr>\n",
       "  </tbody>\n",
       "</table>\n",
       "<p>3 rows × 25 columns</p>\n",
       "</div>"
      ],
      "text/plain": [
       "   age  gender zip code  ocupation  target  unknown  Action  Adventure  \\\n",
       "0    2       0    85711          0       1        0       0          0   \n",
       "1    4       0    29206          7       1        0       0          0   \n",
       "2    3       1    37212          1       1        0       0          0   \n",
       "\n",
       "   Animation  Children's      ...       Film-Noir  Horror  Musical  Mystery  \\\n",
       "0          0           0      ...               0       0        0        0   \n",
       "1          0           0      ...               0       0        0        0   \n",
       "2          0           0      ...               0       0        0        0   \n",
       "\n",
       "   Romance  Sci-Fi  Thriller  War  Western  release-year  \n",
       "0        0       0         0    0        0          1994  \n",
       "1        0       0         0    0        0          1994  \n",
       "2        0       0         0    0        0          1994  \n",
       "\n",
       "[3 rows x 25 columns]"
      ]
     },
     "execution_count": 25,
     "metadata": {},
     "output_type": "execute_result"
    }
   ],
   "source": [
    "df3.head(3)"
   ]
  },
  {
   "cell_type": "markdown",
   "metadata": {},
   "source": [
    "## Normalize the Dataset so that we eliminate outliers\n",
    "  * Final Features: {age, gender, zip code, occupation, target, movie_genres (one-hot representation), release year}"
   ]
  },
  {
   "cell_type": "code",
   "execution_count": 12,
   "metadata": {},
   "outputs": [
    {
     "name": "stderr",
     "output_type": "stream",
     "text": [
      "C:\\ProgramData\\Anaconda3\\lib\\site-packages\\sklearn\\utils\\validation.py:475: DataConversionWarning: Data with input dtype int64 was converted to float64 by the scale function.\n",
      "  warnings.warn(msg, DataConversionWarning)\n"
     ]
    }
   ],
   "source": [
    "# Normalize the Dataset\n",
    "X = np.array(df3.drop(['target', 'zip code'], axis=1))\n",
    "X = preprocessing.scale(X, axis=1)\n",
    "# Separate the correct answer y from the Dataset\n",
    "y = np.array(df3['target'])"
   ]
  },
  {
   "cell_type": "markdown",
   "metadata": {},
   "source": [
    "## Initiate the Repeated K-fold Validation Learning Technique\n",
    "  * for K = 5 (a.k.a 5 shards of the learning dataset)\n",
    "  * and for 10 repeats (so as to have concrete proof of the machine's accuracy"
   ]
  },
  {
   "cell_type": "markdown",
   "metadata": {},
   "source": [
    "## Create the Multilayered Perceptron"
   ]
  },
  {
   "cell_type": "code",
   "execution_count": 13,
   "metadata": {
    "collapsed": true
   },
   "outputs": [],
   "source": [
    "rkf = RepeatedKFold(n_splits=5, n_repeats=10, random_state=100)\n",
    "clf = MLPClassifier(hidden_layer_sizes=(4,4), activation='logistic', solver='sgd', alpha=1e-5, learning_rate='adaptive', random_state=100, verbose=False)"
   ]
  },
  {
   "cell_type": "markdown",
   "metadata": {},
   "source": [
    "## Training The (Deep) Neural Network..."
   ]
  },
  {
   "cell_type": "code",
   "execution_count": 14,
   "metadata": {
    "scrolled": true
   },
   "outputs": [
    {
     "data": {
      "application/vnd.jupyter.widget-view+json": {
       "model_id": "44ff520f115649b983b4e695bce1a1c9",
       "version_major": 2,
       "version_minor": 0
      },
      "text/plain": [
       "A Jupyter Widget"
      ]
     },
     "metadata": {},
     "output_type": "display_data"
    },
    {
     "name": "stdout",
     "output_type": "stream",
     "text": [
      "\n"
     ]
    }
   ],
   "source": [
    "accuracy = np.array([])\n",
    "\n",
    "for train_index, test_index in tqdm_notebook(rkf.split(X)):\n",
    "    X_train, X_test = X[train_index], X[test_index]\n",
    "    y_train, y_test = y[train_index], y[test_index]\n",
    "    clf.fit(X_train, y_train)\n",
    "    accuracy = np.append(accuracy, [clf.score(X_test,y_test)])"
   ]
  },
  {
   "cell_type": "markdown",
   "metadata": {},
   "source": [
    "## Print The Best and Worst Case Accuracy (we see ~82.98% at best and ~81.94% at worst)"
   ]
  },
  {
   "cell_type": "code",
   "execution_count": 15,
   "metadata": {},
   "outputs": [
    {
     "name": "stdout",
     "output_type": "stream",
     "text": [
      "0.829841492075\n",
      "0.819481948195\n"
     ]
    }
   ],
   "source": [
    "print(np.amax(accuracy))\n",
    "print(np.amin(accuracy))"
   ]
  },
  {
   "cell_type": "markdown",
   "metadata": {},
   "source": [
    "## Print The Coefficients for each neuron connection for every layer of the MLP"
   ]
  },
  {
   "cell_type": "code",
   "execution_count": 39,
   "metadata": {},
   "outputs": [
    {
     "name": "stdout",
     "output_type": "stream",
     "text": [
      ">>> Weight Matrix Layer  1 \n",
      "\n",
      "           0         1         2         3\n",
      "0   0.023781 -0.120564 -0.043144  0.187900\n",
      "1  -0.269434 -0.205923  0.090773  0.177617\n",
      "2  -0.197601  0.040936  0.210999 -0.158062\n",
      "3  -0.171123 -0.213103 -0.154751  0.260775\n",
      "4   0.169821 -0.178505  0.169958 -0.122733\n",
      "5  -0.037013  0.239590  0.170734 -0.088964\n",
      "6  -0.176521 -0.069152 -0.271241 -0.134517\n",
      "7   0.161101 -0.263794  0.051626  0.056750\n",
      "8  -0.214767 -0.064196 -0.254493  0.212760\n",
      "9   0.261942 -0.239467  0.210417  0.042104\n",
      "10  0.132152  0.070932  0.042376 -0.260794\n",
      "11 -0.157681  0.024398  0.144352 -0.135466\n",
      "12 -0.116381  0.191888  0.256385  0.209733\n",
      "13 -0.076312  0.053881 -0.081210 -0.086745\n",
      "14 -0.175067 -0.142713 -0.249925  0.003203\n",
      "15 -0.067197  0.050586  0.068559 -0.194299\n",
      "16  0.236316  0.243048  0.053513 -0.060848\n",
      "17 -0.074309 -0.160863 -0.123674 -0.137726\n",
      "18 -0.177502  0.254058  0.246594  0.053575\n",
      "19  0.126066 -0.086815 -0.224226 -0.019625\n",
      "20  0.004897 -0.223943  0.013098  0.268139\n",
      "21 -0.056972 -0.089421  0.164094  0.138695\n",
      "22 -0.105309  0.071443  0.069462 -0.115958 \n",
      "\n",
      "\n",
      ">>> Weight Matrix Layer  2 \n",
      "\n",
      "          0         1         2         3\n",
      "0 -0.230406  0.137120 -0.295289  0.183296\n",
      "1  0.302939  0.273222  0.117708 -0.149750\n",
      "2  0.219092  0.354555  0.131842  0.517853\n",
      "3  0.492174 -0.337387 -0.472136 -0.313010 \n",
      "\n",
      "\n",
      ">>> Weight Matrix Layer  3 \n",
      "\n",
      "          0\n",
      "0  0.530480\n",
      "1  0.164890\n",
      "2  0.213725\n",
      "3  0.582231 \n",
      "\n",
      "\n"
     ]
    }
   ],
   "source": [
    "layers = len(clf.coefs_)\n",
    "\n",
    "for i in range(layers):\n",
    "    weight_matrix_i = clf.coefs_[i]\n",
    "    print ('>>> Weight Matrix Layer ', i+1, '\\n')\n",
    "    tmp = pd.DataFrame(weight_matrix_i, columns=range(weight_matrix_i.shape[1]))\n",
    "    print (tmp, '\\n\\n')"
   ]
  },
  {
   "cell_type": "code",
   "execution_count": 20,
   "metadata": {},
   "outputs": [
    {
     "data": {
      "text/plain": [
       "[array([[ 0.0237808 , -0.12056436, -0.04314429,  0.1878995 ],\n",
       "        [-0.26943395, -0.20592331,  0.0907731 ,  0.17761659],\n",
       "        [-0.19760118,  0.04093634,  0.21099947, -0.15806237],\n",
       "        [-0.17112256, -0.21310336, -0.1547511 ,  0.26077452],\n",
       "        [ 0.16982135, -0.1785048 ,  0.16995752, -0.12273296],\n",
       "        [-0.03701279,  0.23959011,  0.17073402, -0.08896419],\n",
       "        [-0.17652124, -0.06915222, -0.27124075, -0.13451708],\n",
       "        [ 0.16110114, -0.26379353,  0.05162614,  0.05674993],\n",
       "        [-0.21476666, -0.06419618, -0.25449253,  0.21276043],\n",
       "        [ 0.26194227, -0.23946739,  0.21041706,  0.04210404],\n",
       "        [ 0.13215185,  0.07093207,  0.0423756 , -0.26079449],\n",
       "        [-0.15768131,  0.02439768,  0.14435211, -0.13546618],\n",
       "        [-0.11638053,  0.19188795,  0.25638509,  0.20973273],\n",
       "        [-0.07631155,  0.05388147, -0.08120973, -0.08674489],\n",
       "        [-0.17506706, -0.14271342, -0.2499246 ,  0.00320285],\n",
       "        [-0.06719682,  0.05058579,  0.06855889, -0.1942986 ],\n",
       "        [ 0.23631552,  0.24304753,  0.05351309, -0.06084781],\n",
       "        [-0.0743091 , -0.16086323, -0.1236737 , -0.13772554],\n",
       "        [-0.1775024 ,  0.25405848,  0.24659407,  0.05357498],\n",
       "        [ 0.12606649, -0.08681451, -0.22422576, -0.01962451],\n",
       "        [ 0.00489703, -0.22394278,  0.01309843,  0.26813934],\n",
       "        [-0.05697243, -0.0894206 ,  0.16409393,  0.13869461],\n",
       "        [-0.10530919,  0.07144263,  0.06946206, -0.11595795]]),\n",
       " array([[-0.23040624,  0.13711954, -0.295289  ,  0.18329554],\n",
       "        [ 0.30293939,  0.2732216 ,  0.11770764, -0.1497503 ],\n",
       "        [ 0.21909186,  0.3545552 ,  0.13184193,  0.51785271],\n",
       "        [ 0.49217429, -0.33738699, -0.47213627, -0.31300964]]),\n",
       " array([[ 0.53048018],\n",
       "        [ 0.16488964],\n",
       "        [ 0.21372519],\n",
       "        [ 0.58223135]])]"
      ]
     },
     "execution_count": 20,
     "metadata": {},
     "output_type": "execute_result"
    }
   ],
   "source": [
    "clf.coefs_"
   ]
  }
 ],
 "metadata": {
  "kernelspec": {
   "display_name": "Python [default]",
   "language": "python",
   "name": "python3"
  },
  "language_info": {
   "codemirror_mode": {
    "name": "ipython",
    "version": 3
   },
   "file_extension": ".py",
   "mimetype": "text/x-python",
   "name": "python",
   "nbconvert_exporter": "python",
   "pygments_lexer": "ipython3",
   "version": "3.5.4"
  }
 },
 "nbformat": 4,
 "nbformat_minor": 2
}
