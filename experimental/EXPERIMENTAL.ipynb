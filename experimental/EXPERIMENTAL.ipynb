{
 "cells": [
  {
   "cell_type": "code",
   "execution_count": 1,
   "metadata": {
    "collapsed": true
   },
   "outputs": [],
   "source": [
    "import PyQt5\n",
    "get_ipython().magic('matplotlib qt')"
   ]
  },
  {
   "cell_type": "code",
   "execution_count": 10,
   "metadata": {
    "collapsed": true
   },
   "outputs": [],
   "source": [
    "from tqdm import tqdm\n",
    "from tqdm import tqdm_notebook\n",
    "import numpy as np\n",
    "import numpy.matlib\n",
    "import matplotlib.pyplot as plt\n",
    "from scipy.spatial.distance import euclidean\n",
    "from matplotlib import style;  style.use('ggplot')\n",
    "from sklearn.datasets.samples_generator import make_blobs\n",
    "import pandas as pd\n",
    "from pandas.tools.plotting import parallel_coordinates\n",
    "from sklearn.decomposition import PCA as sklearnPCA"
   ]
  },
  {
   "cell_type": "code",
   "execution_count": 3,
   "metadata": {
    "collapsed": true
   },
   "outputs": [],
   "source": [
    "import lonely_boy2 as lb2"
   ]
  },
  {
   "cell_type": "code",
   "execution_count": 4,
   "metadata": {
    "collapsed": true
   },
   "outputs": [],
   "source": [
    "X, y = make_blobs(n_samples=100, centers=4, n_features=19)"
   ]
  },
  {
   "cell_type": "code",
   "execution_count": 5,
   "metadata": {
    "collapsed": true
   },
   "outputs": [],
   "source": [
    "colors = 10*['g', 'c', 'b', 'k']"
   ]
  },
  {
   "cell_type": "code",
   "execution_count": 6,
   "metadata": {
    "collapsed": true
   },
   "outputs": [],
   "source": [
    "clf = lb2.BSAS(theta=5, q=4)"
   ]
  },
  {
   "cell_type": "code",
   "execution_count": 9,
   "metadata": {},
   "outputs": [],
   "source": [
    "order = np.random.permutation(range(X.shape[0]))\n",
    "clf.fit(X.T, order)"
   ]
  },
  {
   "cell_type": "code",
   "execution_count": 21,
   "metadata": {},
   "outputs": [
    {
     "name": "stdout",
     "output_type": "stream",
     "text": [
      "[[  2.52463919  -0.34688446  -3.2354015   -9.22045326   2.08930297\n",
      "    1.03525949  -9.22850085   8.91341447   3.94470497   0.88996434\n",
      "   -8.76242562   7.83787948   7.12003876   3.35374633   1.54312838\n",
      "   -8.23428137  -1.11663713   5.87837668  -3.97998727]\n",
      " [  1.55930788  -6.5380136    9.2639472    4.89101521   6.7967896\n",
      "   -6.01508693  10.01364166  -7.80124092   1.41916263  -0.50834691\n",
      "    3.20398136  -3.26512688   1.74798901  -4.22052089   8.19782003\n",
      "    9.7266445    8.62962868   4.40252659  -4.19901738]\n",
      " [  7.83097474   9.08514146   1.80641229   9.89723409  -3.33659548\n",
      "    9.19781595  -1.75708124   4.3260111    8.60525608  -6.10211154\n",
      "   -4.88451136  -4.82446443   4.26594599  -3.43288808   6.92280567\n",
      "    8.19170729  -9.78660665  -1.18732766  -4.38168625]\n",
      " [ -2.49317111  -1.66792095  -5.84905467  -8.65983243   6.0271101\n",
      "   -4.70266766   1.53543939  -4.15514781  10.01797637   8.09225157\n",
      "    4.18875794  -7.13024145  -1.883481     4.19908452  -8.44106298\n",
      "   -2.95819496  -7.47757106  -1.06282578  -8.64275145]]\n"
     ]
    }
   ],
   "source": [
    "clusters, centroids = clf.predict()\n",
    "clusters, centroids\n",
    "\n",
    "\n",
    "centroids_ = []\n",
    "for key in centroids:\n",
    "        centroids_.append(centroids[key])\n",
    "\n",
    "centroids_ = np.array(centroids_)\n",
    "\n",
    "print (centroids_)"
   ]
  },
  {
   "cell_type": "code",
   "execution_count": 27,
   "metadata": {},
   "outputs": [
    {
     "name": "stdout",
     "output_type": "stream",
     "text": [
      "[[-18.53070813   5.41184905]\n",
      " [ 22.16219668 -10.61324535]\n",
      " [  7.37106879  21.37448996]\n",
      " [-11.00255734 -16.17309365]]\n"
     ]
    }
   ],
   "source": [
    "pca = sklearnPCA(n_components=2) #2-dimensional PCA transformation\n",
    "X_pca = pd.DataFrame(pca.fit_transform(X))\n",
    "centroids_pca = pca.fit_transform(centroids_)\n",
    "\n",
    "print(centroids_pca)"
   ]
  },
  {
   "cell_type": "code",
   "execution_count": 28,
   "metadata": {},
   "outputs": [],
   "source": [
    "plt.figure(0, figsize=(25, 10))\n",
    "plt.title('Movielens Users -- PCA Dimension-Reduced Plot')\n",
    "plt.xlabel('X')\n",
    "plt.ylabel('Y')\n",
    "\n",
    "plt.scatter(X_pca[0], X_pca[1], color='black')\n",
    "\n",
    "plt.scatter(centroids_pca[0][0], centroids_pca[0][1], label='Class Centroids', c='lightgreen', marker='X', s=100)\n",
    "plt.scatter(centroids_pca[1][0], centroids_pca[1][1], label='Class Centroids', c='lightgreen', marker='X', s=100)\n",
    "plt.scatter(centroids_pca[2][0], centroids_pca[2][1], label='Class Centroids', c='lightgreen', marker='X', s=100)\n",
    "plt.scatter(centroids_pca[3][0], centroids_pca[3][1], label='Class Centroids', c='lightgreen', marker='X', s=100)\n",
    "\n",
    "plt.show()"
   ]
  }
 ],
 "metadata": {
  "kernelspec": {
   "display_name": "Python [default]",
   "language": "python",
   "name": "python3"
  },
  "language_info": {
   "codemirror_mode": {
    "name": "ipython",
    "version": 3
   },
   "file_extension": ".py",
   "mimetype": "text/x-python",
   "name": "python",
   "nbconvert_exporter": "python",
   "pygments_lexer": "ipython3",
   "version": "3.5.4"
  }
 },
 "nbformat": 4,
 "nbformat_minor": 2
}
