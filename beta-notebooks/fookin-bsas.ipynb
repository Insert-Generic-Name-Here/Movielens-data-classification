{
 "cells": [
  {
   "cell_type": "code",
   "execution_count": 1,
   "metadata": {
    "collapsed": true
   },
   "outputs": [],
   "source": [
    "import PyQt5\n",
    "get_ipython().magic('matplotlib qt')"
   ]
  },
  {
   "cell_type": "code",
   "execution_count": 2,
   "metadata": {
    "collapsed": true
   },
   "outputs": [],
   "source": [
    "from tqdm import tqdm\n",
    "from tqdm import tqdm_notebook\n",
    "import numpy as np\n",
    "import numpy.matlib\n",
    "import matplotlib.pyplot as plt\n",
    "from scipy.spatial.distance import euclidean\n",
    "from matplotlib import style;  style.use('ggplot')\n",
    "from sklearn.datasets.samples_generator import make_blobs"
   ]
  },
  {
   "cell_type": "code",
   "execution_count": 3,
   "metadata": {
    "collapsed": true
   },
   "outputs": [],
   "source": [
    "import lonely_boy2 as lb2"
   ]
  },
  {
   "cell_type": "code",
   "execution_count": 23,
   "metadata": {
    "collapsed": true
   },
   "outputs": [],
   "source": [
    "X, y = make_blobs(n_samples=943, centers=3, n_features=25)"
   ]
  },
  {
   "cell_type": "code",
   "execution_count": 24,
   "metadata": {
    "collapsed": true
   },
   "outputs": [],
   "source": [
    "plt.scatter(X[:,0], X[:,1])\n",
    "plt.show()"
   ]
  },
  {
   "cell_type": "code",
   "execution_count": 8,
   "metadata": {
    "collapsed": true
   },
   "outputs": [],
   "source": [
    "colors = 10*['g', 'c', 'b', 'k']"
   ]
  },
  {
   "cell_type": "code",
   "execution_count": 3,
   "metadata": {
    "collapsed": true
   },
   "outputs": [],
   "source": [
    "class BSAS:\n",
    "    def __init__(self, theta=None, q=None):\n",
    "        # theta: Dissimarity Threshold\n",
    "        # q: Max #Clusters\n",
    "        self.theta = theta; self.q = q\n",
    "        self.clusters = {}; self.centroids = {}\n",
    "        \n",
    "    def __getCentroid(self, X, Y):\n",
    "        try:\n",
    "            probe = Y[1]\n",
    "            return np.divide(X, Y[0])\n",
    "        except:\n",
    "            return X\n",
    "    \n",
    "    def __findClosestCluster(self, clusters, centroids, sample):\n",
    "        centID = 0\n",
    "        cluster_population = clusters[centID].shape\n",
    "        centroid = self.__getCentroid(centroids[centID], cluster_population)\n",
    "#         try:\n",
    "#             centroid = np.divide(centroids[centID], cluster_population[1])\n",
    "#         except:\n",
    "#             centroid = centroids[centID]\n",
    "        minDist = euclidean(centroid, sample)\n",
    "        try:\n",
    "            for cntID in centroids:\n",
    "                if (cntID == 0):\n",
    "                    continue\n",
    "                cluster_population = clusters[cntID].shape\n",
    "                centroid = self.__getCentroid(centroids[cntID], cluster_population)\n",
    "#                 centroid = np.divide(centroids[cntID], cluster_population)\n",
    "                tmp = euclidean(centroid, sample)\n",
    "                if (tmp < minDist):\n",
    "                    minDist = tmp\n",
    "                    centID = cntID\n",
    "        except:\n",
    "            pass\n",
    "        return minDist, centID\n",
    "    \n",
    "    def __getEuclideanDistances(self, data, size):\n",
    "        minED = np.inf; maxED = -np.inf\n",
    "        \n",
    "        for column_i in tqdm_notebook(range(size), desc='Computing (Min/Max) Euclidean Distances...'):                \n",
    "            for column_j in range(size):\n",
    "                if (column_i == column_j):\n",
    "                    continue\n",
    "                dist = euclidean(data[:,column_i], data[:,column_j])\n",
    "                if (dist < minED):\n",
    "                    minED = dist\n",
    "                if (dist > maxED):\n",
    "                    maxED = dist\n",
    "                    \n",
    "        return minED, maxED\n",
    "    \n",
    "    def __findIndexofMax(self, dct):\n",
    "        minVal = np.inf       \n",
    "        minKey = None\n",
    "        for key in dct:\n",
    "            tmp = dct[key]\n",
    "            if (tmp < minVal):\n",
    "                minVal = tmp\n",
    "                minKey = key\n",
    "        return minKey\n",
    "    \n",
    "    def __findOptimalCluster(self, clusters):\n",
    "        clusters_frq = {}\n",
    "        min_cluster = np.min(clusters)\n",
    "        for cluster in tqdm_notebook(clusters, desc='Finding Optimal Cluster...'):\n",
    "            if (cluster == min_cluster):\n",
    "                continue\n",
    "            try:\n",
    "                clusters_frq[cluster] += 1\n",
    "            except:\n",
    "                clusters_frq[cluster] = 1\n",
    "        opt_cluster = None; frq_opt_cluster = -np.inf\n",
    "        \n",
    "        for key in clusters_frq:\n",
    "            tmp = clusters_frq[key]\n",
    "            if (tmp > frq_opt_cluster):\n",
    "                frq_opt_cluster = tmp\n",
    "                opt_cluster = key\n",
    "        return opt_cluster\n",
    "#         min_cluster = np.inf\n",
    "#         min_cluster2 = np.inf\n",
    "#         for cluster in tqdm_notebook(clusters, desc='Finding Optimal Cluster...'):\n",
    "#             if (cluster < min_cluster2 and cluster != min_cluster):\n",
    "#                 if(cluster < min_cluster):\n",
    "#                     min_cluster2 = min_cluster\n",
    "#                     min_cluster = cluster\n",
    "#                 else:\n",
    "#                     min_cluster2 = cluster\n",
    "#         return min_cluster2\n",
    "    ''' \n",
    "        TO-DO--Restructure Algorithm With the following idea:\n",
    "        find the longest step which gives the number of clusters \n",
    "        that are not equal to the minimum number of clusters.\n",
    "    '''\n",
    "    def __findOptimalTheta(self, opt_cluster, clusters, theta):\n",
    "        cl_start = 0; cl_fin = 0; cl_key = None\n",
    "        found = False\n",
    "        cl_ranges = {}\n",
    "        \n",
    "        for i in range(len(clusters)):\n",
    "            if (clusters[i] == opt_cluster):\n",
    "                if (not found):\n",
    "                    cl_start = i\n",
    "                    cl_fin = i\n",
    "                    found = True\n",
    "                else:\n",
    "                    cl_fin += 1\n",
    "            else:\n",
    "                if (found):\n",
    "                    tmp = [cl_start, cl_fin, (cl_fin-cl_start)]\n",
    "                    cl_ranges[i] = tmp\n",
    "        \n",
    "        for key in cl_ranges:\n",
    "            max_range = -np.inf\n",
    "            val = cl_ranges[key][2]\n",
    "            if (val > max_range):\n",
    "                max_range = val\n",
    "                cl_key = key\n",
    "        \n",
    "        opt_theta_range = cl_ranges[cl_key]\n",
    "        theta_avg = 0\n",
    "        for i in range(opt_theta_range[0], opt_theta_range[1]+1):\n",
    "            theta_avg += theta[i]\n",
    "        \n",
    "        theta_avg = theta_avg / (opt_theta_range[1] - opt_theta_range[0] + 1)\n",
    "        return theta_avg                          \n",
    "            \n",
    "        \n",
    "    def fit(self, data, order):\n",
    "        m = 1 #Clusters/Centroids\n",
    "        clusters = {}; centroids = {}\n",
    "        \n",
    "        first_sample = data[:,order[0]]\n",
    "        clusters[m-1] = first_sample; centroids[m-1] = np.add(np.zeros_like(first_sample), first_sample)\n",
    "        \n",
    "        N, l = data.shape\n",
    "        for i in range(1,l):\n",
    "            sample = data[:,order[i]]\n",
    "            dist, k = self.__findClosestCluster(clusters, centroids, sample)\n",
    "            if ((dist > self.theta) and (m < self.q)):\n",
    "                m += 1\n",
    "                clusters[m-1] = sample; centroids[m-1] = np.add(np.zeros_like(sample), sample)\n",
    "            else:\n",
    "                clusters[k] = np.vstack((clusters[k], sample))\n",
    "                centroids[k] = np.add(centroids[k], sample)\n",
    "            \n",
    "        self.clusters = clusters\n",
    "        self.centroids = centroids\n",
    "    \n",
    "    def fit_best(self, data, n_times=20, first_time=True, plot_graph=True):\n",
    "        N, l = data.shape\n",
    "        if (first_time):\n",
    "            minDist, maxDist = self.__getEuclideanDistances(data, l)\n",
    "            dists = np.save('min-max-euclidean-distances.npy', np.array([minDist, maxDist], dtype=np.float))\n",
    "        else:\n",
    "            minDist, maxDist = np.load('min-max-euclidean-distances.npy')\n",
    "\n",
    "        meanDist = (minDist + maxDist)/2\n",
    "        theta_min = 0.25 * meanDist; theta_max = 1.75 * meanDist\n",
    "        n_theta = 50\n",
    "        s = (theta_max - theta_min)/(n_theta - 1)\n",
    "        \n",
    "        total_clusters = []\n",
    "        total_theta = np.arange(theta_min, theta_max+s, s)\n",
    "        for theta in tqdm_notebook(total_theta, desc=('Running BSAS...')):\n",
    "            max_clusters = -np.inf\n",
    "            for i in np.arange(n_times):\n",
    "                clf = BSAS(theta=theta,q=l)\n",
    "                order = np.random.permutation(range(l))\n",
    "                clf.fit(data, order)\n",
    "                clusters, centroids = clf.predict()\n",
    "                clustersN = len(clusters)\n",
    "                if (clustersN > max_clusters):\n",
    "                    max_clusters = clustersN\n",
    "            total_clusters = total_clusters + [max_clusters]\n",
    "        \n",
    "        if (plot_graph==True):\n",
    "            plt.plot(total_theta, total_clusters, 'b-') \n",
    "            plt.xlabel('theta')\n",
    "            plt.ylabel('#clusters')\n",
    "            plt.title('#clusters versus theta')\n",
    "            plt.grid()\n",
    "            plt.show()\n",
    "        \n",
    "        opt_cluster = self.__findOptimalCluster(total_clusters) #print (opt_cluster)\n",
    "        opt_theta = self.__findOptimalTheta(opt_cluster, total_clusters, total_theta) #print (opt_theta)\n",
    "        \n",
    "        self.theta = opt_theta\n",
    "        self.q = opt_cluster\n",
    "        \n",
    "    def predict(self):\n",
    "        final_centroids = {}\n",
    "        for key in self.clusters:\n",
    "            final_centroids[key] = self.__getCentroid(self.centroids[key], self.clusters[key].shape)\n",
    "        return self.clusters, final_centroids\n",
    "    \n",
    "    def specs(self):\n",
    "        return self.theta, self.q"
   ]
  },
  {
   "cell_type": "code",
   "execution_count": 5,
   "metadata": {},
   "outputs": [
    {
     "name": "stderr",
     "output_type": "stream",
     "text": [
      "Finding Optimal Cluster...: 100%|██████████████████████████████████████████████████████████████| 50/50 [00:00<?, ?it/s]\n"
     ]
    }
   ],
   "source": [
    "X = np.load('FOOKIN_df.npy')\n",
    "clf = lb2.BSAS()\n",
    "clf.fit_best(X.T, first_time=False, n_times=50)"
   ]
  },
  {
   "cell_type": "code",
   "execution_count": 47,
   "metadata": {
    "collapsed": true
   },
   "outputs": [],
   "source": [
    "clf = BSAS(theta=3.5,q=5)\n",
    "order = np.random.permutation(range(X.shape[0]))\n",
    "clf.fit(X.T, order)"
   ]
  },
  {
   "cell_type": "code",
   "execution_count": 48,
   "metadata": {
    "collapsed": true
   },
   "outputs": [],
   "source": [
    "clusters, centroids = clf.predict()"
   ]
  },
  {
   "cell_type": "code",
   "execution_count": 49,
   "metadata": {},
   "outputs": [
    {
     "data": {
      "image/png": "[encoded data removed]",
      "text/plain": [
       "<matplotlib.figure.Figure at 0x293974aaba8>"
      ]
     },
     "metadata": {},
     "output_type": "display_data"
    }
   ],
   "source": [
    "plt.scatter(X[:,0], X[:,1])\n",
    "for key in centroids:\n",
    "    centroid = centroids[key]\n",
    "    plt.scatter(centroid[0], centroid[1])\n",
    "plt.show()"
   ]
  },
  {
   "cell_type": "code",
   "execution_count": null,
   "metadata": {},
   "outputs": [
    {
     "data": {
      "application/vnd.jupyter.widget-view+json": {
       "model_id": "dad0786b68ea4d1fa99c90e7b9d9a372",
       "version_major": 2,
       "version_minor": 0
      },
      "text/plain": [
       "A Jupyter Widget"
      ]
     },
     "metadata": {},
     "output_type": "display_data"
    }
   ],
   "source": [
    "clf = BSAS()\n",
    "clf.fit_best(X.T, first_time=False, n_times=50)"
   ]
  },
  {
   "cell_type": "code",
   "execution_count": 5,
   "metadata": {},
   "outputs": [
    {
     "data": {
      "text/plain": [
       "(2.4553841752304026, 2)"
      ]
     },
     "execution_count": 5,
     "metadata": {},
     "output_type": "execute_result"
    }
   ],
   "source": [
    "clf.specs()"
   ]
  },
  {
   "cell_type": "code",
   "execution_count": 6,
   "metadata": {},
   "outputs": [
    {
     "name": "stdout",
     "output_type": "stream",
     "text": [
      "2.45538417523 2\n"
     ]
    }
   ],
   "source": [
    "order = np.random.permutation(range(X.shape[0]))\n",
    "clf.fit(X.T, order)\n",
    "\n",
    "theta, q = clf.specs()\n",
    "print (theta, q)\n",
    "clusters, centroids = clf.predict()\n",
    "\n",
    "plt.scatter(X[:,0], X[:,1])\n",
    "for key in centroids:\n",
    "    centroid = centroids[key]\n",
    "    plt.scatter(centroid[0], centroid[1])\n",
    "plt.show()"
   ]
  },
  {
   "cell_type": "code",
   "execution_count": 35,
   "metadata": {},
   "outputs": [
    {
     "data": {
      "application/vnd.jupyter.widget-view+json": {
       "model_id": "6d7eeae38e4f4202a086a3b4e6ef5e76",
       "version_major": 2,
       "version_minor": 0
      },
      "text/plain": [
       "A Jupyter Widget"
      ]
     },
     "metadata": {},
     "output_type": "display_data"
    },
    {
     "name": "stdout",
     "output_type": "stream",
     "text": [
      "\n"
     ]
    },
    {
     "data": {
      "image/png": "[encoded data removed]",
      "text/plain": [
       "<matplotlib.figure.Figure at 0x293976eaba8>"
      ]
     },
     "metadata": {},
     "output_type": "display_data"
    },
    {
     "data": {
      "application/vnd.jupyter.widget-view+json": {
       "model_id": "444a19c8caa4453e98293ad5bdfd16a9",
       "version_major": 2,
       "version_minor": 0
      },
      "text/plain": [
       "A Jupyter Widget"
      ]
     },
     "metadata": {},
     "output_type": "display_data"
    },
    {
     "name": "stdout",
     "output_type": "stream",
     "text": [
      "\n"
     ]
    }
   ],
   "source": [
    "clf.fit_best(X.T, first_time=False, n_times=50)"
   ]
  },
  {
   "cell_type": "code",
   "execution_count": 41,
   "metadata": {},
   "outputs": [
    {
     "name": "stdout",
     "output_type": "stream",
     "text": [
      "37.0404952302 3\n"
     ]
    },
    {
     "data": {
      "image/png": "[encoded data removed]",
      "text/plain": [
       "<matplotlib.figure.Figure at 0x29397086cc0>"
      ]
     },
     "metadata": {},
     "output_type": "display_data"
    }
   ],
   "source": [
    "order = np.random.permutation(range(X.shape[0]))\n",
    "clf.fit(X.T, order)\n",
    "\n",
    "theta, q = clf.specs()\n",
    "print (theta, q)\n",
    "clusters, centroids = clf.predict()\n",
    "\n",
    "plt.scatter(X[:,0], X[:,1])\n",
    "for key in centroids:\n",
    "    centroid = centroids[key]\n",
    "    plt.scatter(centroid[0], centroid[1])\n",
    "plt.show()"
   ]
  },
  {
   "cell_type": "code",
   "execution_count": 6,
   "metadata": {},
   "outputs": [
    {
     "data": {
      "application/vnd.jupyter.widget-view+json": {
       "model_id": "e46ac1b2baa74d129e42cadd1018b77d",
       "version_major": 2,
       "version_minor": 0
      },
      "text/plain": [
       "A Jupyter Widget"
      ]
     },
     "metadata": {},
     "output_type": "display_data"
    },
    {
     "name": "stdout",
     "output_type": "stream",
     "text": [
      "\n"
     ]
    },
    {
     "data": {
      "application/vnd.jupyter.widget-view+json": {
       "model_id": "a064a9e5211b426b98f673435f52a9c0",
       "version_major": 2,
       "version_minor": 0
      },
      "text/plain": [
       "A Jupyter Widget"
      ]
     },
     "metadata": {},
     "output_type": "display_data"
    },
    {
     "name": "stdout",
     "output_type": "stream",
     "text": [
      "\n"
     ]
    },
    {
     "data": {
      "image/png": "[encoded data removed]",
      "text/plain": [
       "<matplotlib.figure.Figure at 0x1ef7a30f4a8>"
      ]
     },
     "metadata": {},
     "output_type": "display_data"
    },
    {
     "data": {
      "application/vnd.jupyter.widget-view+json": {
       "model_id": "a892007f3f73459785454381046b4891",
       "version_major": 2,
       "version_minor": 0
      },
      "text/plain": [
       "A Jupyter Widget"
      ]
     },
     "metadata": {},
     "output_type": "display_data"
    },
    {
     "name": "stdout",
     "output_type": "stream",
     "text": [
      "\n"
     ]
    }
   ],
   "source": [
    "clf = BSAS()\n",
    "clf.fit_best(X.T, first_time=True, n_times=50)"
   ]
  },
  {
   "cell_type": "code",
   "execution_count": 8,
   "metadata": {
    "collapsed": true
   },
   "outputs": [],
   "source": [
    "theta, q = clf.specs()"
   ]
  },
  {
   "cell_type": "code",
   "execution_count": 9,
   "metadata": {
    "collapsed": true
   },
   "outputs": [],
   "source": [
    "order = np.random.permutation(range(X.shape[0]))\n",
    "clf.fit(X.T, order)"
   ]
  },
  {
   "cell_type": "code",
   "execution_count": 10,
   "metadata": {},
   "outputs": [
    {
     "data": {
      "text/plain": [
       "({0: array([[ -6.89886292,  -1.71186448,   1.29290937, ...,  -5.20735125,\n",
       "            9.51497382,   6.73245592],\n",
       "         [ -9.13836063,  -1.12724315,   0.44672985, ...,  -5.43074427,\n",
       "            9.27684301,   7.7580164 ],\n",
       "         [ -0.1656704 ,  -5.0894453 ,   5.78491498, ...,  -7.39809407,\n",
       "           -5.81110884,  -5.50273587],\n",
       "         ..., \n",
       "         [  0.56630892,  -3.33705359,   6.81487158, ...,  -7.40793304,\n",
       "           -5.6083821 ,  -6.62657134],\n",
       "         [ -7.48875835,  -0.3107604 ,   0.76275779, ...,  -5.1887362 ,\n",
       "            9.56226198,   9.79020682],\n",
       "         [ -0.09959991,  -6.68396254,   7.13849984, ..., -10.60903801,\n",
       "           -3.71796714,  -5.04577952]]),\n",
       "  1: array([[ -5.21270583,  10.29740822,   1.88507051, ...,   4.53982841,\n",
       "            6.25718844,  -6.78822609],\n",
       "         [ -6.66107883,   9.35022672,   2.36931557, ...,   3.08617354,\n",
       "            7.54911372,  -3.82159198],\n",
       "         [ -6.13173931,   8.00879702,   1.14962009, ...,   2.80954947,\n",
       "            6.18162402,  -5.93740841],\n",
       "         ..., \n",
       "         [ -6.68618183,   7.5723934 ,   1.39765944, ...,   2.32528772,\n",
       "            5.72304243,  -3.84476555],\n",
       "         [ -6.89311259,   7.93963063,   1.12274555, ...,   3.14331842,\n",
       "            5.9953441 ,  -3.75093474],\n",
       "         [ -6.6300552 ,   7.26834814,   0.66455552, ...,   4.41356428,\n",
       "            6.89489579,  -3.6191378 ]])},\n",
       " {0: array([-4.26296459, -2.63276383,  3.37004139,  2.45855517,  2.13217149,\n",
       "         -1.87094898, -3.80180279, -3.27275998, -2.68059732, -0.51185107,\n",
       "          3.95500461,  6.5946557 , -1.00177361, -4.76288229,  2.7204409 ,\n",
       "          3.30359759,  6.31821415, -1.10138979, -3.14110438, -6.22902144,\n",
       "         -3.50327803, -8.10913682, -7.66043099,  1.98097397, -0.56298412,\n",
       "          2.11729357, -3.19534985, -3.85868401,  4.6918403 , -0.50259512,\n",
       "         -0.81988992, -1.91786409,  2.10430689, -0.61015161,  4.66525035,\n",
       "         -7.26226304, -8.36737773, -0.31847416,  5.39853623, -3.32487868,\n",
       "         -0.34270154, -4.47851714, -6.43326779,  2.17045646,  0.93772622]),\n",
       "  1: array([-6.23978884,  8.54757204,  1.68024064,  3.84848533, -5.60810739,\n",
       "          2.28409551, -5.75872306, -1.22171754,  7.39023159, -2.26454112,\n",
       "         -9.58031494, -2.58350185,  7.19152962,  8.1462135 , -0.96584574,\n",
       "         -1.33489316, -7.30415439,  6.24553159,  9.94091627, -5.96484858,\n",
       "         -6.5732599 , -9.22950069,  7.46100423, -6.07842802,  0.05524221,\n",
       "          6.76235326, -2.29365149, -9.53795132, -9.71001962,  3.33849421,\n",
       "         -2.96347981,  9.62041978, -9.95654263,  3.99473413,  5.14114081,\n",
       "         -4.71491471, -3.68495207,  7.55322634,  2.22442842,  3.57541296,\n",
       "          0.43684858,  5.12404757,  3.35815304,  6.23464799, -5.57015754])})"
      ]
     },
     "execution_count": 10,
     "metadata": {},
     "output_type": "execute_result"
    }
   ],
   "source": [
    "clf.predict()"
   ]
  }
 ],
 "metadata": {
  "kernelspec": {
   "display_name": "Python [default]",
   "language": "python",
   "name": "python3"
  },
  "language_info": {
   "codemirror_mode": {
    "name": "ipython",
    "version": 3
   },
   "file_extension": ".py",
   "mimetype": "text/x-python",
   "name": "python",
   "nbconvert_exporter": "python",
   "pygments_lexer": "ipython3",
   "version": "3.5.4"
  }
 },
 "nbformat": 4,
 "nbformat_minor": 2
}
