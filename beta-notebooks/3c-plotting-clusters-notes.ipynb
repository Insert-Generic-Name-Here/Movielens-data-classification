{
 "cells": [
  {
   "cell_type": "code",
   "execution_count": null,
   "metadata": {
    "collapsed": true
   },
   "outputs": [],
   "source": [
    "c_bsas_pca = pd.DataFrame(pca.fit_transform(c_bsas))"
   ]
  },
  {
   "cell_type": "code",
   "execution_count": null,
   "metadata": {
    "collapsed": true
   },
   "outputs": [],
   "source": [
    "c_kmeans_pca = pca.fit_transform(c_kmeans)"
   ]
  },
  {
   "cell_type": "code",
   "execution_count": null,
   "metadata": {
    "collapsed": true
   },
   "outputs": [],
   "source": [
    "tmp1 = pd.DataFrame(pd.DataFrame(X[y_hiercl==1]).mean(axis=0)).transpose()\n",
    "tmp2 = pd.DataFrame(pd.DataFrame(X[y_hiercl==2]).mean(axis=0)).transpose()\n",
    "tmp3 = pd.DataFrame(pd.DataFrame(X[y_hiercl==3]).mean(axis=0)).transpose()\n",
    "tmp4 = pd.DataFrame(pd.DataFrame(X[y_hiercl==4]).mean(axis=0)).transpose()\n",
    "\n",
    "c_hiercl = tmp1.append(tmp2, ignore_index=True)\n",
    "c_hiercl = c_hiercl.append(tmp3, ignore_index=True)\n",
    "c_hiercl = c_hiercl.append(tmp4, ignore_index=True)\n",
    "\n",
    "c_hiercl_pca = pca.fit_transform(c_hiercl.values)\n",
    "\n",
    "c_hiercl_pca"
   ]
  }
 ],
 "metadata": {
  "kernelspec": {
   "display_name": "Python [conda root]",
   "language": "python",
   "name": "conda-root-py"
  },
  "language_info": {
   "codemirror_mode": {
    "name": "ipython",
    "version": 3
   },
   "file_extension": ".py",
   "mimetype": "text/x-python",
   "name": "python",
   "nbconvert_exporter": "python",
   "pygments_lexer": "ipython3",
   "version": "3.5.4"
  }
 },
 "nbformat": 4,
 "nbformat_minor": 2
}
